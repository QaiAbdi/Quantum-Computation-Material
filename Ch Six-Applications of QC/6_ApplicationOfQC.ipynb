{
  "nbformat": 4,
  "nbformat_minor": 0,
  "metadata": {
    "colab": {
      "name": "6-ApplicationOfQC.ipynb",
      "provenance": []
    },
    "kernelspec": {
      "name": "python3",
      "display_name": "Python 3"
    }
  },
  "cells": [
    {
      "cell_type": "markdown",
      "metadata": {
        "id": "OO3sh_duJF8g"
      },
      "source": [
        "##Application Of QC"
      ]
    },
    {
      "cell_type": "code",
      "metadata": {
        "id": "86eMoBkNHu0G",
        "colab": {
          "base_uri": "https://localhost:8080/"
        },
        "outputId": "79e26cb4-b0f4-409e-d548-f1c1dbf3cab6"
      },
      "source": [
        "!pip install pennylane"
      ],
      "execution_count": null,
      "outputs": [
        {
          "output_type": "stream",
          "text": [
            "Collecting pennylane\n",
            "\u001b[?25l  Downloading https://files.pythonhosted.org/packages/e4/f9/d3594cf0335d0fb3ec72947bbc6db204f1332588463bb5b9b43083ea35c9/PennyLane-0.14.1.tar.gz (404kB)\n",
            "\r\u001b[K     |▉                               | 10kB 15.1MB/s eta 0:00:01\r\u001b[K     |█▋                              | 20kB 10.4MB/s eta 0:00:01\r\u001b[K     |██▍                             | 30kB 8.4MB/s eta 0:00:01\r\u001b[K     |███▎                            | 40kB 7.2MB/s eta 0:00:01\r\u001b[K     |████                            | 51kB 4.4MB/s eta 0:00:01\r\u001b[K     |████▉                           | 61kB 4.9MB/s eta 0:00:01\r\u001b[K     |█████▊                          | 71kB 5.0MB/s eta 0:00:01\r\u001b[K     |██████▌                         | 81kB 5.3MB/s eta 0:00:01\r\u001b[K     |███████▎                        | 92kB 5.7MB/s eta 0:00:01\r\u001b[K     |████████                        | 102kB 5.6MB/s eta 0:00:01\r\u001b[K     |█████████                       | 112kB 5.6MB/s eta 0:00:01\r\u001b[K     |█████████▊                      | 122kB 5.6MB/s eta 0:00:01\r\u001b[K     |██████████▌                     | 133kB 5.6MB/s eta 0:00:01\r\u001b[K     |███████████▍                    | 143kB 5.6MB/s eta 0:00:01\r\u001b[K     |████████████▏                   | 153kB 5.6MB/s eta 0:00:01\r\u001b[K     |█████████████                   | 163kB 5.6MB/s eta 0:00:01\r\u001b[K     |█████████████▉                  | 174kB 5.6MB/s eta 0:00:01\r\u001b[K     |██████████████▋                 | 184kB 5.6MB/s eta 0:00:01\r\u001b[K     |███████████████▍                | 194kB 5.6MB/s eta 0:00:01\r\u001b[K     |████████████████▏               | 204kB 5.6MB/s eta 0:00:01\r\u001b[K     |█████████████████               | 215kB 5.6MB/s eta 0:00:01\r\u001b[K     |█████████████████▉              | 225kB 5.6MB/s eta 0:00:01\r\u001b[K     |██████████████████▋             | 235kB 5.6MB/s eta 0:00:01\r\u001b[K     |███████████████████▌            | 245kB 5.6MB/s eta 0:00:01\r\u001b[K     |████████████████████▎           | 256kB 5.6MB/s eta 0:00:01\r\u001b[K     |█████████████████████           | 266kB 5.6MB/s eta 0:00:01\r\u001b[K     |█████████████████████▉          | 276kB 5.6MB/s eta 0:00:01\r\u001b[K     |██████████████████████▊         | 286kB 5.6MB/s eta 0:00:01\r\u001b[K     |███████████████████████▌        | 296kB 5.6MB/s eta 0:00:01\r\u001b[K     |████████████████████████▎       | 307kB 5.6MB/s eta 0:00:01\r\u001b[K     |█████████████████████████▏      | 317kB 5.6MB/s eta 0:00:01\r\u001b[K     |██████████████████████████      | 327kB 5.6MB/s eta 0:00:01\r\u001b[K     |██████████████████████████▊     | 337kB 5.6MB/s eta 0:00:01\r\u001b[K     |███████████████████████████▋    | 348kB 5.6MB/s eta 0:00:01\r\u001b[K     |████████████████████████████▍   | 358kB 5.6MB/s eta 0:00:01\r\u001b[K     |█████████████████████████████▏  | 368kB 5.6MB/s eta 0:00:01\r\u001b[K     |██████████████████████████████  | 378kB 5.6MB/s eta 0:00:01\r\u001b[K     |██████████████████████████████▉ | 389kB 5.6MB/s eta 0:00:01\r\u001b[K     |███████████████████████████████▋| 399kB 5.6MB/s eta 0:00:01\r\u001b[K     |████████████████████████████████| 409kB 5.6MB/s \n",
            "\u001b[?25hRequirement already satisfied: numpy in /usr/local/lib/python3.7/dist-packages (from pennylane) (1.19.5)\n",
            "Requirement already satisfied: scipy in /usr/local/lib/python3.7/dist-packages (from pennylane) (1.4.1)\n",
            "Requirement already satisfied: networkx in /usr/local/lib/python3.7/dist-packages (from pennylane) (2.5)\n",
            "Requirement already satisfied: autograd in /usr/local/lib/python3.7/dist-packages (from pennylane) (1.3)\n",
            "Requirement already satisfied: toml in /usr/local/lib/python3.7/dist-packages (from pennylane) (0.10.2)\n",
            "Requirement already satisfied: appdirs in /usr/local/lib/python3.7/dist-packages (from pennylane) (1.4.4)\n",
            "Collecting semantic_version==2.6\n",
            "  Downloading https://files.pythonhosted.org/packages/28/be/3a7241d731ba89063780279a5433f5971c1cf41735b64a9f874b7c3ff995/semantic_version-2.6.0-py3-none-any.whl\n",
            "Requirement already satisfied: decorator>=4.3.0 in /usr/local/lib/python3.7/dist-packages (from networkx->pennylane) (4.4.2)\n",
            "Requirement already satisfied: future>=0.15.2 in /usr/local/lib/python3.7/dist-packages (from autograd->pennylane) (0.16.0)\n",
            "Building wheels for collected packages: pennylane\n",
            "  Building wheel for pennylane (setup.py) ... \u001b[?25l\u001b[?25hdone\n",
            "  Created wheel for pennylane: filename=PennyLane-0.14.1-cp37-none-any.whl size=481980 sha256=6f72245f3651d1ed40efa47fc352d30627c2df2bd4f6b9a7cbd3a93319ba1db9\n",
            "  Stored in directory: /root/.cache/pip/wheels/6e/a9/c9/04941d6dd58b3c111cbd1389bf63ba1b23362c137359af4626\n",
            "Successfully built pennylane\n",
            "Installing collected packages: semantic-version, pennylane\n",
            "Successfully installed pennylane-0.14.1 semantic-version-2.6.0\n"
          ],
          "name": "stdout"
        }
      ]
    },
    {
      "cell_type": "markdown",
      "metadata": {
        "id": "020zwwaEMalX"
      },
      "source": [
        "# __Machine Learning__"
      ]
    },
    {
      "cell_type": "markdown",
      "metadata": {
        "id": "UDBh0XZatvD4"
      },
      "source": [
        "The task at hand is to optimize two rotation gates in order to flip a single\n",
        "qubit from state $\\left|0\\right\\rangle$ to state $\\left|1\\right\\rangle$."
      ]
    },
    {
      "cell_type": "markdown",
      "metadata": {
        "id": "AIQlCOyktv2M"
      },
      "source": [
        "Breaking this down step-by-step, we first start with a qubit in the ground state\n",
        "$|0\\rangle = \\begin{bmatrix}1 & 0 \\end{bmatrix}^T$,\n",
        "and rotate it around the x-axis by applying the gate\n",
        "\n",
        "\\begin{align}R_x(\\phi_1) = e^{-i \\phi_1 \\sigma_x /2} =\n",
        "    \\begin{bmatrix} \\cos \\frac{\\phi_1}{2} &  -i \\sin \\frac{\\phi_1}{2} \\\\\n",
        "                   -i \\sin \\frac{\\phi_1}{2} &  \\cos \\frac{\\phi_1}{2}\n",
        "    \\end{bmatrix},\\end{align}\n",
        "\n",
        "and then around the y-axis via the gate\n",
        "\n",
        "\\begin{align}R_y(\\phi_2) = e^{-i \\phi_2 \\sigma_y/2} =\n",
        "   \\begin{bmatrix} \\cos \\frac{\\phi_2}{2} &  - \\sin \\frac{\\phi_2}{2} \\\\\n",
        "                   \\sin \\frac{\\phi_2}{2} &  \\cos \\frac{\\phi_2}{2}\n",
        "   \\end{bmatrix}.\\end{align}\n",
        "\n",
        "After these operations the qubit is now in the state\n",
        "\n",
        "\\begin{align}| \\psi \\rangle = R_y(\\phi_2) R_x(\\phi_1) | 0 \\rangle.\\end{align}\n",
        "\n",
        "Finally, we measure the expectation value $\\langle \\psi \\mid \\sigma_z \\mid \\psi \\rangle$\n",
        "of the Pauli-Z operator\n",
        "\n",
        "\\begin{align}\\sigma_z =\n",
        "   \\begin{bmatrix} 1 &  0 \\\\\n",
        "                   0 & -1\n",
        "   \\end{bmatrix}.\\end{align}\n",
        "\n",
        "Using the above to calculate the exact expectation value, we find that\n",
        "\n",
        "\\begin{align}\\langle \\psi \\mid \\sigma_z \\mid \\psi \\rangle\n",
        "    = \\langle 0 \\mid R_x(\\phi_1)^\\dagger R_y(\\phi_2)^\\dagger \\sigma_z  R_y(\\phi_2) R_x(\\phi_1) \\mid 0 \\rangle\n",
        "    = \\cos(\\phi_1)\\cos(\\phi_2).\\end{align}\n",
        "\n",
        "Depending on the circuit parameters $\\phi_1$ and $\\phi_2$, the\n",
        "output expectation lies between $1$ (if $\\left|\\psi\\right\\rangle = \\left|0\\right\\rangle$)\n",
        "and $-1$ (if $\\left|\\psi\\right\\rangle = \\left|1\\right\\rangle$)."
      ]
    },
    {
      "cell_type": "code",
      "metadata": {
        "id": "7A2FwO86JJPD"
      },
      "source": [
        "import pennylane as qml\n",
        "from pennylane import numpy as np"
      ],
      "execution_count": null,
      "outputs": []
    },
    {
      "cell_type": "markdown",
      "metadata": {
        "id": "9kvC0Vp0uUJS"
      },
      "source": [
        "Creating a device"
      ]
    },
    {
      "cell_type": "code",
      "metadata": {
        "id": "rA_O4xF4uHKD"
      },
      "source": [
        "dev1 = qml.device(\"default.qubit\", wires=1)"
      ],
      "execution_count": null,
      "outputs": []
    },
    {
      "cell_type": "markdown",
      "metadata": {
        "id": "UEYtnTyPua_p"
      },
      "source": [
        "Constructing the QNode"
      ]
    },
    {
      "cell_type": "code",
      "metadata": {
        "id": "9PsV8tuauHNn"
      },
      "source": [
        "@qml.qnode(dev1)\n",
        "def circuit(params):\n",
        "    qml.RX(params[0], wires=0)\n",
        "    qml.RY(params[1], wires=0)\n",
        "    return qml.expval(qml.PauliZ(0))"
      ],
      "execution_count": null,
      "outputs": []
    },
    {
      "cell_type": "code",
      "metadata": {
        "id": "NV6KOTDAMZeS",
        "colab": {
          "base_uri": "https://localhost:8080/"
        },
        "outputId": "70a82736-70fa-4641-cace-204b5398258a"
      },
      "source": [
        "print(circuit([0.54, 0.12]))"
      ],
      "execution_count": null,
      "outputs": [
        {
          "output_type": "stream",
          "text": [
            "0.8515405859048366\n"
          ],
          "name": "stdout"
        }
      ]
    },
    {
      "cell_type": "markdown",
      "metadata": {
        "id": "Rjunq9Htuoh7"
      },
      "source": [
        "Calculating quantum gradients"
      ]
    },
    {
      "cell_type": "code",
      "metadata": {
        "colab": {
          "base_uri": "https://localhost:8080/"
        },
        "id": "CQ0N7kATuj8f",
        "outputId": "ca7d1dc8-c79f-4a08-b516-5234c493c3c6"
      },
      "source": [
        "dcircuit = qml.grad(circuit, argnum=0)\n",
        "\n",
        "print(dcircuit([0.54, 0.12]))"
      ],
      "execution_count": null,
      "outputs": [
        {
          "output_type": "stream",
          "text": [
            "[array(-0.51043865), array(-0.1026782)]\n"
          ],
          "name": "stdout"
        }
      ]
    },
    {
      "cell_type": "markdown",
      "metadata": {
        "id": "0bDIE29mu25s"
      },
      "source": [
        "Optimization"
      ]
    },
    {
      "cell_type": "code",
      "metadata": {
        "id": "wusAHWRuukAO"
      },
      "source": [
        "def cost(x):\n",
        "    return circuit(x)"
      ],
      "execution_count": null,
      "outputs": []
    },
    {
      "cell_type": "code",
      "metadata": {
        "colab": {
          "base_uri": "https://localhost:8080/"
        },
        "id": "7DBT4jtQukD2",
        "outputId": "85af71aa-fd94-4b4f-c749-3f0513a75134"
      },
      "source": [
        "init_params = np.array([0.011, 0.012])\n",
        "print(cost(init_params))"
      ],
      "execution_count": null,
      "outputs": [
        {
          "output_type": "stream",
          "text": [
            "0.9998675058299389\n"
          ],
          "name": "stdout"
        }
      ]
    },
    {
      "cell_type": "code",
      "metadata": {
        "colab": {
          "base_uri": "https://localhost:8080/"
        },
        "id": "lZP7GzZKukG_",
        "outputId": "bc062d97-d16b-497e-c039-fdfede141326"
      },
      "source": [
        "# initialise the optimizer\n",
        "opt = qml.GradientDescentOptimizer(stepsize=0.4)\n",
        "\n",
        "# set the number of steps\n",
        "steps = 100\n",
        "# set the initial parameter values\n",
        "params = init_params\n",
        "\n",
        "for i in range(steps):\n",
        "    # update the circuit parameters\n",
        "    params = opt.step(cost, params)\n",
        "\n",
        "    if (i + 1) % 5 == 0:\n",
        "        print(\"Cost after step {:5d}: {: .7f}\".format(i + 1, cost(params)))\n",
        "\n",
        "print(\"Optimized rotation angles: {}\".format(params))"
      ],
      "execution_count": null,
      "outputs": [
        {
          "output_type": "stream",
          "text": [
            "Cost after step     5:  0.9961778\n",
            "Cost after step    10:  0.8974944\n",
            "Cost after step    15:  0.1440490\n",
            "Cost after step    20: -0.1536720\n",
            "Cost after step    25: -0.9152496\n",
            "Cost after step    30: -0.9994046\n",
            "Cost after step    35: -0.9999964\n",
            "Cost after step    40: -1.0000000\n",
            "Cost after step    45: -1.0000000\n",
            "Cost after step    50: -1.0000000\n",
            "Cost after step    55: -1.0000000\n",
            "Cost after step    60: -1.0000000\n",
            "Cost after step    65: -1.0000000\n",
            "Cost after step    70: -1.0000000\n",
            "Cost after step    75: -1.0000000\n",
            "Cost after step    80: -1.0000000\n",
            "Cost after step    85: -1.0000000\n",
            "Cost after step    90: -1.0000000\n",
            "Cost after step    95: -1.0000000\n",
            "Cost after step   100: -1.0000000\n",
            "Optimized rotation angles: [7.15266381e-18 3.14159265e+00]\n"
          ],
          "name": "stdout"
        }
      ]
    },
    {
      "cell_type": "code",
      "metadata": {
        "id": "lj18WyVLukMi"
      },
      "source": [
        ""
      ],
      "execution_count": null,
      "outputs": []
    },
    {
      "cell_type": "code",
      "metadata": {
        "id": "y7dHydrKMZ5m"
      },
      "source": [
        ""
      ],
      "execution_count": null,
      "outputs": []
    },
    {
      "cell_type": "markdown",
      "metadata": {
        "id": "ciIChYCoMPcY"
      },
      "source": [
        "#  __Chemistry__"
      ]
    },
    {
      "cell_type": "code",
      "metadata": {
        "colab": {
          "base_uri": "https://localhost:8080/",
          "height": 1000
        },
        "id": "u_x1jzymwpxN",
        "outputId": "a2e62e4f-dc07-4947-9fa6-d8182747455d"
      },
      "source": [
        "!pip install pennylane-qchem"
      ],
      "execution_count": null,
      "outputs": [
        {
          "output_type": "stream",
          "text": [
            "Collecting pennylane-qchem\n",
            "\u001b[?25l  Downloading https://files.pythonhosted.org/packages/c6/a5/372ab7562b0d9a1d2a33ed91a14953392962d1db8bd95fa9d0a38217b518/PennyLane_Qchem-0.13.1-py3-none-any.whl (49kB)\n",
            "\r\u001b[K     |██████▋                         | 10kB 13.6MB/s eta 0:00:01\r\u001b[K     |█████████████▎                  | 20kB 19.4MB/s eta 0:00:01\r\u001b[K     |███████████████████▉            | 30kB 11.7MB/s eta 0:00:01\r\u001b[K     |██████████████████████████▌     | 40kB 9.1MB/s eta 0:00:01\r\u001b[K     |████████████████████████████████| 51kB 2.5MB/s \n",
            "\u001b[?25hCollecting openfermionpsi4>=0.5\n",
            "  Downloading https://files.pythonhosted.org/packages/f0/24/5f7189ec64f78ee67fd5e83c46f861f057af80fa4bfc26842153e698d16c/openfermionpsi4-0.5-py3-none-any.whl\n",
            "Collecting pyscf==1.7.2; platform_system != \"Windows\"\n",
            "\u001b[?25l  Downloading https://files.pythonhosted.org/packages/e7/5a/cb30fc480f1a8040b34027c1b0625e589de02a76c882b781eb62bbbccc28/pyscf-1.7.2-cp37-cp37m-manylinux1_x86_64.whl (26.0MB)\n",
            "\u001b[K     |████████████████████████████████| 26.0MB 1.5MB/s \n",
            "\u001b[?25hCollecting openfermion>=1.0\n",
            "\u001b[?25l  Downloading https://files.pythonhosted.org/packages/98/e7/af0c211cabd118e5f25735216de2deb030ef46a469c160832f5dd533ed1a/openfermion-1.0.1-py3-none-any.whl (907kB)\n",
            "\u001b[K     |████████████████████████████████| 911kB 40.8MB/s \n",
            "\u001b[?25hRequirement already satisfied: scipy in /usr/local/lib/python3.7/dist-packages (from pennylane-qchem) (1.4.1)\n",
            "Requirement already satisfied: pennylane>=0.13 in /usr/local/lib/python3.7/dist-packages (from pennylane-qchem) (0.14.1)\n",
            "Collecting openfermionpyscf>=0.5; platform_system != \"Windows\"\n",
            "  Downloading https://files.pythonhosted.org/packages/8f/90/1609afe117c42c82a547c76e11db6516c9cf3b7e78856046f54c22d3199f/openfermionpyscf-0.5-py3-none-any.whl\n",
            "Requirement already satisfied: h5py in /usr/local/lib/python3.7/dist-packages (from pyscf==1.7.2; platform_system != \"Windows\"->pennylane-qchem) (2.10.0)\n",
            "Requirement already satisfied: numpy in /usr/local/lib/python3.7/dist-packages (from pyscf==1.7.2; platform_system != \"Windows\"->pennylane-qchem) (1.19.5)\n",
            "Collecting cirq==0.10.0\n",
            "\u001b[?25l  Downloading https://files.pythonhosted.org/packages/38/22/088b20c8c3875194dd23cc8934b9abb84c24f26a40690487ae2d1aaccc7b/cirq-0.10.0-py3-none-any.whl (1.8MB)\n",
            "\u001b[K     |████████████████████████████████| 1.8MB 44.7MB/s \n",
            "\u001b[?25hRequirement already satisfied: nbformat in /usr/local/lib/python3.7/dist-packages (from openfermion>=1.0->pennylane-qchem) (5.1.2)\n",
            "Requirement already satisfied: sympy in /usr/local/lib/python3.7/dist-packages (from openfermion>=1.0->pennylane-qchem) (1.7.1)\n",
            "Collecting pubchempy\n",
            "  Downloading https://files.pythonhosted.org/packages/aa/fb/8de3aa9804b614dbc8dc5c16ed061d819cc360e0ddecda3dcd01c1552339/PubChemPy-1.0.4.tar.gz\n",
            "Requirement already satisfied: networkx in /usr/local/lib/python3.7/dist-packages (from openfermion>=1.0->pennylane-qchem) (2.5)\n",
            "Requirement already satisfied: requests~=2.18 in /usr/local/lib/python3.7/dist-packages (from openfermion>=1.0->pennylane-qchem) (2.23.0)\n",
            "Collecting deprecation\n",
            "  Downloading https://files.pythonhosted.org/packages/02/c3/253a89ee03fc9b9682f1541728eb66db7db22148cd94f89ab22528cd1e1b/deprecation-2.1.0-py2.py3-none-any.whl\n",
            "Requirement already satisfied: toml in /usr/local/lib/python3.7/dist-packages (from pennylane>=0.13->pennylane-qchem) (0.10.2)\n",
            "Requirement already satisfied: semantic-version==2.6 in /usr/local/lib/python3.7/dist-packages (from pennylane>=0.13->pennylane-qchem) (2.6.0)\n",
            "Requirement already satisfied: appdirs in /usr/local/lib/python3.7/dist-packages (from pennylane>=0.13->pennylane-qchem) (1.4.4)\n",
            "Requirement already satisfied: autograd in /usr/local/lib/python3.7/dist-packages (from pennylane>=0.13->pennylane-qchem) (1.3)\n",
            "Requirement already satisfied: pytest in /usr/local/lib/python3.7/dist-packages (from openfermionpyscf>=0.5; platform_system != \"Windows\"->pennylane-qchem) (3.6.4)\n",
            "Requirement already satisfied: six in /usr/local/lib/python3.7/dist-packages (from h5py->pyscf==1.7.2; platform_system != \"Windows\"->pennylane-qchem) (1.15.0)\n",
            "Requirement already satisfied: typing-extensions in /usr/local/lib/python3.7/dist-packages (from cirq==0.10.0->openfermion>=1.0->pennylane-qchem) (3.7.4.3)\n",
            "Requirement already satisfied: google-api-core[grpc]<2.0.0dev,>=1.14.0 in /usr/local/lib/python3.7/dist-packages (from cirq==0.10.0->openfermion>=1.0->pennylane-qchem) (1.26.1)\n",
            "Requirement already satisfied: matplotlib~=3.0 in /usr/local/lib/python3.7/dist-packages (from cirq==0.10.0->openfermion>=1.0->pennylane-qchem) (3.2.2)\n",
            "Requirement already satisfied: tqdm in /usr/local/lib/python3.7/dist-packages (from cirq==0.10.0->openfermion>=1.0->pennylane-qchem) (4.41.1)\n",
            "Requirement already satisfied: sortedcontainers~=2.0 in /usr/local/lib/python3.7/dist-packages (from cirq==0.10.0->openfermion>=1.0->pennylane-qchem) (2.3.0)\n",
            "Collecting protobuf~=3.13.0\n",
            "\u001b[?25l  Downloading https://files.pythonhosted.org/packages/71/dc/5ba56eab7440c62c5f808b4267e2a1d6c136e90293b43fefb1b493c6d704/protobuf-3.13.0-cp37-cp37m-manylinux1_x86_64.whl (1.3MB)\n",
            "\u001b[K     |████████████████████████████████| 1.3MB 41.6MB/s \n",
            "\u001b[?25hRequirement already satisfied: pandas in /usr/local/lib/python3.7/dist-packages (from cirq==0.10.0->openfermion>=1.0->pennylane-qchem) (1.1.5)\n",
            "Requirement already satisfied: jupyter-core in /usr/local/lib/python3.7/dist-packages (from nbformat->openfermion>=1.0->pennylane-qchem) (4.7.1)\n",
            "Requirement already satisfied: ipython-genutils in /usr/local/lib/python3.7/dist-packages (from nbformat->openfermion>=1.0->pennylane-qchem) (0.2.0)\n",
            "Requirement already satisfied: traitlets>=4.1 in /usr/local/lib/python3.7/dist-packages (from nbformat->openfermion>=1.0->pennylane-qchem) (5.0.5)\n",
            "Requirement already satisfied: jsonschema!=2.5.0,>=2.4 in /usr/local/lib/python3.7/dist-packages (from nbformat->openfermion>=1.0->pennylane-qchem) (2.6.0)\n",
            "Requirement already satisfied: mpmath>=0.19 in /usr/local/lib/python3.7/dist-packages (from sympy->openfermion>=1.0->pennylane-qchem) (1.2.1)\n",
            "Requirement already satisfied: decorator>=4.3.0 in /usr/local/lib/python3.7/dist-packages (from networkx->openfermion>=1.0->pennylane-qchem) (4.4.2)\n",
            "Requirement already satisfied: urllib3!=1.25.0,!=1.25.1,<1.26,>=1.21.1 in /usr/local/lib/python3.7/dist-packages (from requests~=2.18->openfermion>=1.0->pennylane-qchem) (1.24.3)\n",
            "Requirement already satisfied: chardet<4,>=3.0.2 in /usr/local/lib/python3.7/dist-packages (from requests~=2.18->openfermion>=1.0->pennylane-qchem) (3.0.4)\n",
            "Requirement already satisfied: idna<3,>=2.5 in /usr/local/lib/python3.7/dist-packages (from requests~=2.18->openfermion>=1.0->pennylane-qchem) (2.10)\n",
            "Requirement already satisfied: certifi>=2017.4.17 in /usr/local/lib/python3.7/dist-packages (from requests~=2.18->openfermion>=1.0->pennylane-qchem) (2020.12.5)\n",
            "Requirement already satisfied: packaging in /usr/local/lib/python3.7/dist-packages (from deprecation->openfermion>=1.0->pennylane-qchem) (20.9)\n",
            "Requirement already satisfied: future>=0.15.2 in /usr/local/lib/python3.7/dist-packages (from autograd->pennylane>=0.13->pennylane-qchem) (0.16.0)\n",
            "Requirement already satisfied: pluggy<0.8,>=0.5 in /usr/local/lib/python3.7/dist-packages (from pytest->openfermionpyscf>=0.5; platform_system != \"Windows\"->pennylane-qchem) (0.7.1)\n",
            "Requirement already satisfied: attrs>=17.4.0 in /usr/local/lib/python3.7/dist-packages (from pytest->openfermionpyscf>=0.5; platform_system != \"Windows\"->pennylane-qchem) (20.3.0)\n",
            "Requirement already satisfied: atomicwrites>=1.0 in /usr/local/lib/python3.7/dist-packages (from pytest->openfermionpyscf>=0.5; platform_system != \"Windows\"->pennylane-qchem) (1.4.0)\n",
            "Requirement already satisfied: setuptools in /usr/local/lib/python3.7/dist-packages (from pytest->openfermionpyscf>=0.5; platform_system != \"Windows\"->pennylane-qchem) (54.0.0)\n",
            "Requirement already satisfied: py>=1.5.0 in /usr/local/lib/python3.7/dist-packages (from pytest->openfermionpyscf>=0.5; platform_system != \"Windows\"->pennylane-qchem) (1.10.0)\n",
            "Requirement already satisfied: more-itertools>=4.0.0 in /usr/local/lib/python3.7/dist-packages (from pytest->openfermionpyscf>=0.5; platform_system != \"Windows\"->pennylane-qchem) (8.7.0)\n",
            "Requirement already satisfied: googleapis-common-protos<2.0dev,>=1.6.0 in /usr/local/lib/python3.7/dist-packages (from google-api-core[grpc]<2.0.0dev,>=1.14.0->cirq==0.10.0->openfermion>=1.0->pennylane-qchem) (1.53.0)\n",
            "Requirement already satisfied: google-auth<2.0dev,>=1.21.1 in /usr/local/lib/python3.7/dist-packages (from google-api-core[grpc]<2.0.0dev,>=1.14.0->cirq==0.10.0->openfermion>=1.0->pennylane-qchem) (1.27.1)\n",
            "Requirement already satisfied: pytz in /usr/local/lib/python3.7/dist-packages (from google-api-core[grpc]<2.0.0dev,>=1.14.0->cirq==0.10.0->openfermion>=1.0->pennylane-qchem) (2018.9)\n",
            "Requirement already satisfied: grpcio<2.0dev,>=1.29.0; extra == \"grpc\" in /usr/local/lib/python3.7/dist-packages (from google-api-core[grpc]<2.0.0dev,>=1.14.0->cirq==0.10.0->openfermion>=1.0->pennylane-qchem) (1.32.0)\n",
            "Requirement already satisfied: cycler>=0.10 in /usr/local/lib/python3.7/dist-packages (from matplotlib~=3.0->cirq==0.10.0->openfermion>=1.0->pennylane-qchem) (0.10.0)\n",
            "Requirement already satisfied: pyparsing!=2.0.4,!=2.1.2,!=2.1.6,>=2.0.1 in /usr/local/lib/python3.7/dist-packages (from matplotlib~=3.0->cirq==0.10.0->openfermion>=1.0->pennylane-qchem) (2.4.7)\n",
            "Requirement already satisfied: kiwisolver>=1.0.1 in /usr/local/lib/python3.7/dist-packages (from matplotlib~=3.0->cirq==0.10.0->openfermion>=1.0->pennylane-qchem) (1.3.1)\n",
            "Requirement already satisfied: python-dateutil>=2.1 in /usr/local/lib/python3.7/dist-packages (from matplotlib~=3.0->cirq==0.10.0->openfermion>=1.0->pennylane-qchem) (2.8.1)\n",
            "Requirement already satisfied: cachetools<5.0,>=2.0.0 in /usr/local/lib/python3.7/dist-packages (from google-auth<2.0dev,>=1.21.1->google-api-core[grpc]<2.0.0dev,>=1.14.0->cirq==0.10.0->openfermion>=1.0->pennylane-qchem) (4.2.1)\n",
            "Requirement already satisfied: pyasn1-modules>=0.2.1 in /usr/local/lib/python3.7/dist-packages (from google-auth<2.0dev,>=1.21.1->google-api-core[grpc]<2.0.0dev,>=1.14.0->cirq==0.10.0->openfermion>=1.0->pennylane-qchem) (0.2.8)\n",
            "Requirement already satisfied: rsa<5,>=3.1.4; python_version >= \"3.6\" in /usr/local/lib/python3.7/dist-packages (from google-auth<2.0dev,>=1.21.1->google-api-core[grpc]<2.0.0dev,>=1.14.0->cirq==0.10.0->openfermion>=1.0->pennylane-qchem) (4.7.2)\n",
            "Requirement already satisfied: pyasn1<0.5.0,>=0.4.6 in /usr/local/lib/python3.7/dist-packages (from pyasn1-modules>=0.2.1->google-auth<2.0dev,>=1.21.1->google-api-core[grpc]<2.0.0dev,>=1.14.0->cirq==0.10.0->openfermion>=1.0->pennylane-qchem) (0.4.8)\n",
            "Building wheels for collected packages: pubchempy\n",
            "  Building wheel for pubchempy (setup.py) ... \u001b[?25l\u001b[?25hdone\n",
            "  Created wheel for pubchempy: filename=PubChemPy-1.0.4-cp37-none-any.whl size=13825 sha256=1514e73c25af61fa95e3210bca4058d5206e7bebec19e9739085156197dca50b\n",
            "  Stored in directory: /root/.cache/pip/wheels/10/4d/51/6b843681a9a5aef35f0d0fbce243de46f85080036e16118752\n",
            "Successfully built pubchempy\n",
            "Installing collected packages: protobuf, cirq, pubchempy, deprecation, openfermion, openfermionpsi4, pyscf, openfermionpyscf, pennylane-qchem\n",
            "  Found existing installation: protobuf 3.12.4\n",
            "    Uninstalling protobuf-3.12.4:\n",
            "      Successfully uninstalled protobuf-3.12.4\n",
            "Successfully installed cirq-0.10.0 deprecation-2.1.0 openfermion-1.0.1 openfermionpsi4-0.5 openfermionpyscf-0.5 pennylane-qchem-0.13.1 protobuf-3.13.0 pubchempy-1.0.4 pyscf-1.7.2\n"
          ],
          "name": "stdout"
        },
        {
          "output_type": "display_data",
          "data": {
            "application/vnd.colab-display-data+json": {
              "pip_warning": {
                "packages": [
                  "google"
                ]
              }
            }
          },
          "metadata": {
            "tags": []
          }
        }
      ]
    },
    {
      "cell_type": "markdown",
      "metadata": {
        "id": "gK4SwOdNv_A1"
      },
      "source": [
        "Building the electronic Hamiltonian"
      ]
    },
    {
      "cell_type": "code",
      "metadata": {
        "id": "2Bf73J60MZ9Q"
      },
      "source": [
        "import pennylane as qml\n",
        "from pennylane import qchem\n",
        "from pennylane import numpy as np"
      ],
      "execution_count": null,
      "outputs": []
    },
    {
      "cell_type": "code",
      "metadata": {
        "id": "x2LOdcv7MZbV"
      },
      "source": [
        "geometry = 'h2.xyz'\n",
        "\n",
        "charge = 0\n",
        "\n",
        "multiplicity = 1"
      ],
      "execution_count": null,
      "outputs": []
    },
    {
      "cell_type": "code",
      "metadata": {
        "id": "rjqIVo8UMgYj"
      },
      "source": [
        "basis_set = 'sto-3g'"
      ],
      "execution_count": null,
      "outputs": []
    },
    {
      "cell_type": "code",
      "metadata": {
        "id": "GJQexF9-wNw5"
      },
      "source": [
        "name = 'h2'"
      ],
      "execution_count": null,
      "outputs": []
    },
    {
      "cell_type": "code",
      "metadata": {
        "colab": {
          "base_uri": "https://localhost:8080/"
        },
        "id": "j_UZmc9IwN0f",
        "outputId": "35b1997e-9d09-45ac-c659-8862b1b58c20"
      },
      "source": [
        "h, qubits = qchem.molecular_hamiltonian(\n",
        "    name,\n",
        "    geometry,\n",
        "    charge=charge,\n",
        "    mult=multiplicity,\n",
        "    basis=basis_set,\n",
        "    active_electrons=2,\n",
        "    active_orbitals=2,\n",
        "    mapping='jordan_wigner'\n",
        ")\n",
        "\n",
        "print('Number of qubits = ', qubits)\n",
        "print('Hamiltonian is ', h)"
      ],
      "execution_count": null,
      "outputs": [
        {
          "output_type": "stream",
          "text": [
            "Number of qubits =  4\n",
            "Hamiltonian is  (-0.04207897647782276) [I0]\n",
            "+ (0.17771287465139946) [Z0]\n",
            "+ (0.1777128746513994) [Z1]\n",
            "+ (-0.24274280513140462) [Z2]\n",
            "+ (-0.24274280513140462) [Z3]\n",
            "+ (0.17059738328801052) [Z0 Z1]\n",
            "+ (0.04475014401535161) [Y0 X1 X2 Y3]\n",
            "+ (-0.04475014401535161) [Y0 Y1 X2 X3]\n",
            "+ (-0.04475014401535161) [X0 X1 Y2 Y3]\n",
            "+ (0.04475014401535161) [X0 Y1 Y2 X3]\n",
            "+ (0.12293305056183798) [Z0 Z2]\n",
            "+ (0.1676831945771896) [Z0 Z3]\n",
            "+ (0.1676831945771896) [Z1 Z2]\n",
            "+ (0.12293305056183798) [Z1 Z3]\n",
            "+ (0.17627640804319591) [Z2 Z3]\n"
          ],
          "name": "stdout"
        }
      ]
    },
    {
      "cell_type": "markdown",
      "metadata": {
        "id": "HovCIFfex6Jk"
      },
      "source": [
        "Implementing the VQE algorithm"
      ]
    },
    {
      "cell_type": "code",
      "metadata": {
        "id": "bXR3ewF6x6sz"
      },
      "source": [
        "dev = qml.device('default.qubit', wires=qubits)"
      ],
      "execution_count": null,
      "outputs": []
    },
    {
      "cell_type": "code",
      "metadata": {
        "id": "3smM7BOSx6vE"
      },
      "source": [
        "def circuit(params, wires):\n",
        "    qml.BasisState(np.array([1, 1, 0, 0], requires_grad=False), wires=wires)\n",
        "    for i in wires:\n",
        "        qml.Rot(*params[i], wires=i)\n",
        "    qml.CNOT(wires=[2, 3])\n",
        "    qml.CNOT(wires=[2, 0])\n",
        "    qml.CNOT(wires=[3, 1])"
      ],
      "execution_count": null,
      "outputs": []
    },
    {
      "cell_type": "code",
      "metadata": {
        "id": "kmwMkR1Ox6xx"
      },
      "source": [
        "cost_fn = qml.ExpvalCost(circuit, h, dev)"
      ],
      "execution_count": null,
      "outputs": []
    },
    {
      "cell_type": "code",
      "metadata": {
        "colab": {
          "base_uri": "https://localhost:8080/"
        },
        "id": "j-iNeS0gwN3h",
        "outputId": "55f537ff-24e1-4211-a5b9-1369e24b80b3"
      },
      "source": [
        "opt = qml.GradientDescentOptimizer(stepsize=0.4)\n",
        "np.random.seed(0)\n",
        "params = np.random.normal(0, np.pi, (qubits, 3))\n",
        "\n",
        "print(params)"
      ],
      "execution_count": null,
      "outputs": [
        {
          "output_type": "stream",
          "text": [
            "[[ 5.54193389  1.25713095  3.07479606]\n",
            " [ 7.03997361  5.86710646 -3.07020901]\n",
            " [ 2.98479079 -0.47550269 -0.32427159]\n",
            " [ 1.28993324  0.45252622  4.56873497]]\n"
          ],
          "name": "stdout"
        }
      ]
    },
    {
      "cell_type": "code",
      "metadata": {
        "colab": {
          "base_uri": "https://localhost:8080/"
        },
        "id": "zM9R8ItMwOEZ",
        "outputId": "e0bfde8f-062c-407f-8d07-06e83a6a9644"
      },
      "source": [
        "conv_tol = 1e-06\n",
        "max_iterations = 200\n",
        "\n",
        "for n in range(max_iterations):\n",
        "    params, prev_energy = opt.step_and_cost(cost_fn, params)\n",
        "    energy = cost_fn(params)\n",
        "    conv = np.abs(energy - prev_energy)\n",
        "\n",
        "    if n % 20 == 0:\n",
        "        print('Iteration = {:},  Energy = {:.8f} Ha'.format(n, energy))\n",
        "\n",
        "    if conv <= conv_tol:\n",
        "        break\n",
        "\n",
        "print()\n",
        "print('Final convergence parameter = {:.8f} Ha'.format(conv))\n",
        "print('Final value of the ground-state energy = {:.8f} Ha'.format(energy))\n",
        "print('Accuracy with respect to the FCI energy: {:.8f} Ha ({:.8f} kcal/mol)'.format(\n",
        "    np.abs(energy - (-1.136189454088)), np.abs(energy - (-1.136189454088))*627.503\n",
        "    )\n",
        ")\n",
        "print()\n",
        "print('Final circuit parameters = \\n', params)"
      ],
      "execution_count": null,
      "outputs": [
        {
          "output_type": "stream",
          "text": [
            "Iteration = 0,  Energy = -0.88179557 Ha\n",
            "Iteration = 20,  Energy = -1.13380513 Ha\n",
            "Iteration = 40,  Energy = -1.13558756 Ha\n",
            "Iteration = 60,  Energy = -1.13585794 Ha\n",
            "Iteration = 80,  Energy = -1.13600617 Ha\n",
            "Iteration = 100,  Energy = -1.13608848 Ha\n",
            "Iteration = 120,  Energy = -1.13613394 Ha\n",
            "\n",
            "Final convergence parameter = 0.00000099 Ha\n",
            "Final value of the ground-state energy = -1.13615709 Ha\n",
            "Accuracy with respect to the FCI energy: 0.00003237 Ha (0.02031093 kcal/mol)\n",
            "\n",
            "Final circuit parameters = \n",
            " [[ 5.54193389e+00  1.30219523e-08  3.07479606e+00]\n",
            " [ 7.03997361e+00  6.28318530e+00 -3.07020901e+00]\n",
            " [ 2.98479079e+00 -2.09540998e-01 -4.16893297e-02]\n",
            " [ 1.28993324e+00  1.30907669e-12  4.56873497e+00]]\n"
          ],
          "name": "stdout"
        }
      ]
    },
    {
      "cell_type": "markdown",
      "metadata": {
        "id": "0pOnnL0UMhBb"
      },
      "source": [
        "# __Optimization__"
      ]
    },
    {
      "cell_type": "code",
      "metadata": {
        "id": "oGrmXtwbMgbm"
      },
      "source": [
        "import pennylane as qml\n",
        "from pennylane import numpy as np\n",
        "\n",
        "np.random.seed(42)"
      ],
      "execution_count": null,
      "outputs": []
    },
    {
      "cell_type": "code",
      "metadata": {
        "id": "3lYCJkWeJJWy"
      },
      "source": [
        "n_wires = 4\n",
        "graph = [(0, 1), (0, 3), (1, 2), (2, 3)]\n",
        "\n",
        "# unitary operator U_B with parameter beta\n",
        "def U_B(beta):\n",
        "    for wire in range(n_wires):\n",
        "        qml.RX(2 * beta, wires=wire)\n",
        "\n",
        "\n",
        "# unitary operator U_C with parameter gamma\n",
        "def U_C(gamma):\n",
        "    for edge in graph:\n",
        "        wire1 = edge[0]\n",
        "        wire2 = edge[1]\n",
        "        qml.CNOT(wires=[wire1, wire2])\n",
        "        qml.RZ(gamma, wires=wire2)\n",
        "        qml.CNOT(wires=[wire1, wire2])"
      ],
      "execution_count": null,
      "outputs": []
    },
    {
      "cell_type": "code",
      "metadata": {
        "id": "llj0-9o8ziOB"
      },
      "source": [
        "def comp_basis_measurement(wires):\n",
        "    n_wires = len(wires)\n",
        "    return qml.Hermitian(np.diag(range(2 ** n_wires)), wires=wires)"
      ],
      "execution_count": null,
      "outputs": []
    },
    {
      "cell_type": "code",
      "metadata": {
        "id": "BkIEGy4EziRS"
      },
      "source": [
        "dev = qml.device(\"default.qubit\", wires=n_wires, analytic=True, shots=1)\n"
      ],
      "execution_count": null,
      "outputs": []
    },
    {
      "cell_type": "code",
      "metadata": {
        "id": "H-Fw4XdvziUM"
      },
      "source": [
        "pauli_z = [[1, 0], [0, -1]]\n",
        "pauli_z_2 = np.kron(pauli_z, pauli_z)\n",
        "\n",
        "\n",
        "@qml.qnode(dev)\n",
        "def circuit(gammas, betas, edge=None, n_layers=1):\n",
        "    # apply Hadamards to get the n qubit |+> state\n",
        "    for wire in range(n_wires):\n",
        "        qml.Hadamard(wires=wire)\n",
        "    # p instances of unitary operators\n",
        "    for i in range(n_layers):\n",
        "        U_C(gammas[i])\n",
        "        U_B(betas[i])\n",
        "    if edge is None:\n",
        "        # measurement phase\n",
        "        return qml.sample(comp_basis_measurement(range(n_wires)))\n",
        "    # during the optimization phase we are evaluating a term\n",
        "    # in the objective using expval\n",
        "    return qml.expval(qml.Hermitian(pauli_z_2, wires=edge))"
      ],
      "execution_count": null,
      "outputs": []
    },
    {
      "cell_type": "code",
      "metadata": {
        "colab": {
          "base_uri": "https://localhost:8080/"
        },
        "id": "9zWlo_82ziWt",
        "outputId": "411e2d83-a4d1-48c9-e7e5-a2a41c9b91a7"
      },
      "source": [
        "def qaoa_maxcut(n_layers=1):\n",
        "    print(\"\\np={:d}\".format(n_layers))\n",
        "\n",
        "    # initialize the parameters near zero\n",
        "    init_params = 0.01 * np.random.rand(2, 2)\n",
        "\n",
        "    # minimize the negative of the objective function\n",
        "    def objective(params):\n",
        "        gammas = params[0]\n",
        "        betas = params[1]\n",
        "        neg_obj = 0\n",
        "        for edge in graph:\n",
        "            # objective for the MaxCut problem\n",
        "            neg_obj -= 0.5 * (1 - circuit(gammas, betas, edge=edge, n_layers=n_layers))\n",
        "        return neg_obj\n",
        "\n",
        "    # initialize optimizer: Adagrad works well empirically\n",
        "    opt = qml.AdagradOptimizer(stepsize=0.5)\n",
        "\n",
        "    # optimize parameters in objective\n",
        "    params = init_params\n",
        "    steps = 30\n",
        "    for i in range(steps):\n",
        "        params = opt.step(objective, params)\n",
        "        if (i + 1) % 5 == 0:\n",
        "            print(\"Objective after step {:5d}: {: .7f}\".format(i + 1, -objective(params)))\n",
        "\n",
        "    # sample measured bitstrings 100 times\n",
        "    bit_strings = []\n",
        "    n_samples = 100\n",
        "    for i in range(0, n_samples):\n",
        "        bit_strings.append(int(circuit(params[0], params[1], edge=None, n_layers=n_layers)))\n",
        "\n",
        "    # print optimal parameters and most frequently sampled bitstring\n",
        "    counts = np.bincount(np.array(bit_strings))\n",
        "    most_freq_bit_string = np.argmax(counts)\n",
        "    print(\"Optimized (gamma, beta) vectors:\\n{}\".format(params[:, :n_layers]))\n",
        "    print(\"Most frequently sampled bit string is: {:04b}\".format(most_freq_bit_string))\n",
        "\n",
        "    return -objective(params), bit_strings\n",
        "\n",
        "\n",
        "# perform qaoa on our graph with p=1,2 and\n",
        "# keep the bitstring sample lists\n",
        "bitstrings1 = qaoa_maxcut(n_layers=1)[1]\n",
        "bitstrings2 = qaoa_maxcut(n_layers=2)[1]"
      ],
      "execution_count": null,
      "outputs": [
        {
          "output_type": "stream",
          "text": [
            "\n",
            "p=1\n",
            "Objective after step     5:  2.7880374\n",
            "Objective after step    10:  2.9985748\n",
            "Objective after step    15:  2.9999911\n",
            "Objective after step    20:  2.9999999\n",
            "Objective after step    25:  3.0000000\n",
            "Objective after step    30:  3.0000000\n",
            "Optimized (gamma, beta) vectors:\n",
            "[[-0.78539816]\n",
            " [-1.17809777]]\n",
            "Most frequently sampled bit string is: 0101\n",
            "\n",
            "p=2\n",
            "Objective after step     5:  3.1570925\n",
            "Objective after step    10:  3.3870161\n",
            "Objective after step    15:  3.8427178\n",
            "Objective after step    20:  3.9902061\n",
            "Objective after step    25:  3.9995094\n",
            "Objective after step    30:  3.9999765\n",
            "Optimized (gamma, beta) vectors:\n",
            "[[ 1.56868319 -0.78401189]\n",
            " [-1.17856453 -0.78638292]]\n",
            "Most frequently sampled bit string is: 1010\n"
          ],
          "name": "stdout"
        }
      ]
    },
    {
      "cell_type": "code",
      "metadata": {
        "colab": {
          "base_uri": "https://localhost:8080/",
          "height": 297
        },
        "id": "G3YFEnjA0KLD",
        "outputId": "735bcdbc-6e7a-4da1-92ad-2b9eb2bbb3f7"
      },
      "source": [
        "import matplotlib.pyplot as plt\n",
        "\n",
        "xticks = range(0, 16)\n",
        "xtick_labels = list(map(lambda x: format(x, \"04b\"), xticks))\n",
        "bins = np.arange(0, 17) - 0.5\n",
        "\n",
        "fig, (ax1, ax2) = plt.subplots(1, 2, figsize=(8, 4))\n",
        "plt.subplot(1, 2, 1)\n",
        "plt.title(\"n_layers=1\")\n",
        "plt.xlabel(\"bitstrings\")\n",
        "plt.ylabel(\"freq.\")\n",
        "plt.xticks(xticks, xtick_labels, rotation=\"vertical\")\n",
        "plt.hist(bitstrings1, bins=bins)\n",
        "plt.subplot(1, 2, 2)\n",
        "plt.title(\"n_layers=2\")\n",
        "plt.xlabel(\"bitstrings\")\n",
        "plt.ylabel(\"freq.\")\n",
        "plt.xticks(xticks, xtick_labels, rotation=\"vertical\")\n",
        "plt.hist(bitstrings2, bins=bins)\n",
        "plt.tight_layout()\n",
        "plt.show()"
      ],
      "execution_count": null,
      "outputs": [
        {
          "output_type": "display_data",
          "data": {
            "image/png": "[encoded data removed]",
            "text/plain": [
              "<Figure size 576x288 with 2 Axes>"
            ]
          },
          "metadata": {
            "tags": [],
            "needs_background": "light"
          }
        }
      ]
    },
    {
      "cell_type": "code",
      "metadata": {
        "id": "3GsoPC7G0Rxk"
      },
      "source": [
        ""
      ],
      "execution_count": null,
      "outputs": []
    }
  ]
}