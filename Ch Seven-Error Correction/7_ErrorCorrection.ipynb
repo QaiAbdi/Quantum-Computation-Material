{
  "nbformat": 4,
  "nbformat_minor": 0,
  "metadata": {
    "colab": {
      "name": "7-ErrorCorrection.ipynb",
      "provenance": []
    },
    "kernelspec": {
      "name": "python3",
      "display_name": "Python 3"
    }
  },
  "cells": [
    {
      "cell_type": "markdown",
      "metadata": {
        "id": "w7FNncoFJOcX"
      },
      "source": [
        "## Error Correction"
      ]
    },
    {
      "cell_type": "code",
      "metadata": {
        "id": "Ibiw4KxV7kmR"
      },
      "source": [
        "!pip install qiskit\n",
        "!pip install pylatexenc"
      ],
      "execution_count": null,
      "outputs": []
    },
    {
      "cell_type": "markdown",
      "metadata": {
        "id": "CJ2oyv-dRgVU"
      },
      "source": [
        "## Three Qubit Bit Flip Code"
      ]
    },
    {
      "cell_type": "markdown",
      "metadata": {
        "id": "BYAE_RBVRgVg"
      },
      "source": [
        "### Bit-Flip Error Correction"
      ]
    },
    {
      "cell_type": "markdown",
      "metadata": {
        "id": "nHct0PHkRgVh"
      },
      "source": [
        "Suppose we want to send some quantum information through some noisy information channel that flips the qubits with probability $p$. So, with probability $p$, the state $|\\psi\\rangle$ is sent to $X|\\psi \\rangle$, where $X$ is the Pauli-$X$ gate. To protect against bit flips we encode the state $|\\psi\\rangle = \\alpha|0\\rangle + \\beta|1\\rangle$ into three qubits as the state $\\alpha|000\\rangle + \\beta|111\\rangle$. This can be written as,\n",
        "\n",
        "\\begin{align}\n",
        "|0\\rangle \\mapsto |0_L\\rangle &= |000\\rangle \\\\\n",
        "|1\\rangle \\mapsto |1_L\\rangle &= |111\\rangle \n",
        "\\end{align}"
      ]
    },
    {
      "cell_type": "markdown",
      "metadata": {
        "id": "NwCx7Bsi8Mtn"
      },
      "source": [
        "![3_qubit_bit_flip.png](data:image/png;base64,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)"
      ]
    },
    {
      "cell_type": "code",
      "metadata": {
        "id": "Q9PR0HBN7kvm"
      },
      "source": [
        ""
      ],
      "execution_count": null,
      "outputs": []
    },
    {
      "cell_type": "markdown",
      "metadata": {
        "id": "CrhdzfiV87p3"
      },
      "source": [
        "## Three Qubit Bit Flip Code"
      ]
    },
    {
      "cell_type": "markdown",
      "metadata": {
        "id": "5IRRsihq87p6"
      },
      "source": [
        "### Bit-Flip Error Correction"
      ]
    },
    {
      "cell_type": "markdown",
      "metadata": {
        "id": "jKnmEsI487p7"
      },
      "source": [
        "Suppose we want to send some quantum information through some noisy information channel that flips the qubits with probability $p$. So, with probability $p$, the state $|\\psi\\rangle$ is sent to $X|\\psi \\rangle$, where $X$ is the Pauli-$X$ gate. To protect against bit flips we encode the state $|\\psi\\rangle = \\alpha|0\\rangle + \\beta|1\\rangle$ into three qubits as the state $\\alpha|000\\rangle + \\beta|111\\rangle$. This can be written as,\n",
        "\n",
        "\\begin{align}\n",
        "|0\\rangle \\mapsto |0_L\\rangle &= |000\\rangle \\\\\n",
        "|1\\rangle \\mapsto |1_L\\rangle &= |111\\rangle \n",
        "\\end{align}"
      ]
    },
    {
      "cell_type": "markdown",
      "metadata": {
        "id": "tiGB2AIyRgVk"
      },
      "source": [
        "Suppose now that we send each of the three qubits above through the noisy bit-flip channel after we have encoded the arbitrary state $|\\psi\\rangle$. Then each of the three qubits is flipped via the Pauli-$X$ gate with probability $p$. then we may *detect the arror*. There are four projection operators corresponding to four *error syndromes*:\n",
        "\n",
        "\\begin{align}\n",
        "P_0 &= |000\\rangle \\langle 000| + |111\\rangle \\langle 111| \\text{no error} \\\\\n",
        "P_1 &= |100\\rangle \\langle 100| + |011\\rangle \\langle 011| \\text{bit flip on first qubit} \\\\\n",
        "P_2 &= |010\\rangle \\langle 010| + |101\\rangle \\langle 101| \\text{bit flip on second qubit} \\\\\n",
        "P_3 &= |001\\rangle \\langle 001| + |110\\rangle \\langle 110| \\text{bit flip on third qubit}\n",
        "\\end{align}"
      ]
    },
    {
      "cell_type": "markdown",
      "metadata": {
        "id": "hlLVWX_uRgVl"
      },
      "source": [
        "So, if for example we have an error that occurs on the second qubit, then the corrupted state is $\\alpha |010\\rangle + \\beta|101\\rangle$. Computing $\\langle \\psi |P_2|\\psi \\rangle = 1$, we can see two things. First, the measurment using the projection operator $P_2$ does not effect the state. It is the same before and after the measurement. Second, the syndrome measurment contains only information about the kind of error that has occurred and not what the values of $\\alpha$ and $\\beta$ are. Let's look at a little Python code. "
      ]
    },
    {
      "cell_type": "code",
      "metadata": {
        "id": "RQI3xpmORgVm",
        "colab": {
          "base_uri": "https://localhost:8080/"
        },
        "outputId": "a04c01fb-8ad6-4372-9a1d-7a1e2ffc1d33"
      },
      "source": [
        "import numpy as np\n",
        "\n",
        "\n",
        "# Define the spin-down single qubit basis state\n",
        "d = np.matrix([[1],\n",
        "               [0]])\n",
        "\n",
        "# Define the spin-up single qubit basis state\n",
        "u = np.matrix([[0],\n",
        "               [1]])\n",
        "\n",
        "\n",
        "# Define the two basis state summands of the corrupted state\n",
        "dud = np.kron(d, np.kron(u, d))\n",
        "\n",
        "udu = np.kron(u, np.kron(d, u))\n",
        "\n",
        "print(dud)\n",
        "print(udu)"
      ],
      "execution_count": null,
      "outputs": [
        {
          "output_type": "stream",
          "text": [
            "[[0]\n",
            " [0]\n",
            " [1]\n",
            " [0]\n",
            " [0]\n",
            " [0]\n",
            " [0]\n",
            " [0]]\n",
            "[[0]\n",
            " [0]\n",
            " [0]\n",
            " [0]\n",
            " [0]\n",
            " [1]\n",
            " [0]\n",
            " [0]]\n"
          ],
          "name": "stdout"
        }
      ]
    },
    {
      "cell_type": "code",
      "metadata": {
        "id": "iDwu9L75RgVq",
        "colab": {
          "base_uri": "https://localhost:8080/"
        },
        "outputId": "50ffd357-e029-44ec-a48a-d62bfcb797b3"
      },
      "source": [
        "# Define the projection operator corresponding to the corrupted state\n",
        "P2 = dud*(dud.H) + udu*(udu.H)\n",
        "print(P2)"
      ],
      "execution_count": null,
      "outputs": [
        {
          "output_type": "stream",
          "text": [
            "[[0 0 0 0 0 0 0 0]\n",
            " [0 0 0 0 0 0 0 0]\n",
            " [0 0 1 0 0 0 0 0]\n",
            " [0 0 0 0 0 0 0 0]\n",
            " [0 0 0 0 0 0 0 0]\n",
            " [0 0 0 0 0 1 0 0]\n",
            " [0 0 0 0 0 0 0 0]\n",
            " [0 0 0 0 0 0 0 0]]\n"
          ],
          "name": "stdout"
        }
      ]
    },
    {
      "cell_type": "markdown",
      "metadata": {
        "id": "zLEAi_qQRgVr"
      },
      "source": [
        "Take for example the initial state $|\\psi\\rangle = \\frac{1}{\\sqrt{2}}(|0\\rangle - |1\\rangle)$ and encode it as the state $\\frac{1}{\\sqrt{2}}(|000\\rangle - |111\\rangle)$. The bit flip occurs on the second qubit so we have the corrupted state $\\frac{1}{\\sqrt{2}}(|010\\rangle - |101\\rangle)$. "
      ]
    },
    {
      "cell_type": "code",
      "metadata": {
        "id": "M9aLbGUWRgVu",
        "colab": {
          "base_uri": "https://localhost:8080/"
        },
        "outputId": "3cfc9677-bdbd-43b2-c9db-7f28a4848d93"
      },
      "source": [
        "# Define some corrupted state using complex coefficients a and b such that |a|^2+|b|^2 = 1\n",
        "a = 1/np.sqrt(2)\n",
        "b = -1/np.sqrt(2)\n",
        "psi = a*(dud) + b*(udu)\n",
        "print(psi)"
      ],
      "execution_count": null,
      "outputs": [
        {
          "output_type": "stream",
          "text": [
            "[[ 0.        ]\n",
            " [ 0.        ]\n",
            " [ 0.70710678]\n",
            " [ 0.        ]\n",
            " [ 0.        ]\n",
            " [-0.70710678]\n",
            " [ 0.        ]\n",
            " [ 0.        ]]\n"
          ],
          "name": "stdout"
        }
      ]
    },
    {
      "cell_type": "markdown",
      "metadata": {
        "id": "p2yO_rCaRgVv"
      },
      "source": [
        "Now, we can measure using the projection operator $P_2$:\n",
        "\n",
        "\\begin{align}\n",
        "\\begin{pmatrix}\n",
        "0, & 0, & 1/\\sqrt{2}, & 0, & 0, & -1/\\sqrt{2}, & 0, & 0\n",
        "\\end{pmatrix}\n",
        "\\begin{pmatrix}\n",
        "0 & 0 & 0 & 0 & 0 & 0 & 0 & 0 \\\\\n",
        "0 & 0 & 0 & 0 & 0 & 0 & 0 & 0 \\\\\n",
        "0 & 0 & 1 & 0 & 0 & 0 & 0 & 0 \\\\\n",
        "0 & 0 & 0 & 0 & 0 & 0 & 0 & 0 \\\\\n",
        "0 & 0 & 0 & 0 & 0 & 0 & 0 & 0 \\\\\n",
        "0 & 0 & 0 & 0 & 0 & 1 & 0 & 0 \\\\\n",
        "0 & 0 & 0 & 0 & 0 & 0 & 0 & 0 \\\\\n",
        "0 & 0 & 0 & 0 & 0 & 0 & 0 & 0 \n",
        "\\end{pmatrix}\n",
        "\\begin{pmatrix}\n",
        "0 \\\\ 0 \\\\ 1/\\sqrt{2} \\\\ 0 \\\\ 0 \\\\ -1/\\sqrt{2} \\\\ 0 \\\\ 0\n",
        "\\end{pmatrix} = 1\n",
        "\\end{align}"
      ]
    },
    {
      "cell_type": "markdown",
      "metadata": {
        "id": "PdKZ-Su4RgVw"
      },
      "source": [
        "In slightly different notation this can be written as,\n",
        "\n",
        "\\begin{align}\n",
        "\\frac{1}{\\sqrt{2}}(\\langle 010| - \\langle 101|)\n",
        "(|010\\rangle \\langle 010| + |101 \\rangle \\langle 101|)\n",
        "\\frac{1}{\\sqrt{2}}(|010\\rangle - |101\\rangle)\n",
        "\\end{align}"
      ]
    },
    {
      "cell_type": "code",
      "metadata": {
        "id": "MJxkckhYRgVw",
        "colab": {
          "base_uri": "https://localhost:8080/"
        },
        "outputId": "968f37a1-43c5-488b-9e84-9e4d4f29ae32"
      },
      "source": [
        "# Measure using the projection operator P2\n",
        "(psi.H)*P2*(psi)"
      ],
      "execution_count": null,
      "outputs": [
        {
          "output_type": "execute_result",
          "data": {
            "text/plain": [
              "matrix([[1.]])"
            ]
          },
          "metadata": {
            "tags": []
          },
          "execution_count": 6
        }
      ]
    },
    {
      "cell_type": "markdown",
      "metadata": {
        "id": "XI5hdkHbRgVx"
      },
      "source": [
        "Let's perform measurements on the same corrupted state using the other projection operators to see what happens. In particular, we want to compute the values of \n",
        "\n",
        "\\begin{align}\n",
        "\\langle \\psi |P_0|\\psi \\rangle \\\\\n",
        "\\langle \\psi |P_1|\\psi \\rangle \\\\\n",
        "\\langle \\psi |P_3|\\psi \\rangle\n",
        "\\end{align}\n",
        "\n",
        "where $|\\psi \\rangle = \\frac{1}{\\sqrt{2}}(|010\\rangle - |101\\rangle)$. First, let's define the three operators $P_0, P_1,$ and $P_3$. "
      ]
    },
    {
      "cell_type": "code",
      "metadata": {
        "id": "5q38Bxu7RgVy"
      },
      "source": [
        "# Define all of the basis states\n",
        "ddd = np.kron(d, np.kron(d,d))\n",
        "ddu = np.kron(d, np.kron(d,u))\n",
        "dud = np.kron(d, np.kron(u,d))\n",
        "udd = np.kron(u, np.kron(d,d))\n",
        "uuu = np.kron(u, np.kron(u,u))\n",
        "uud = np.kron(u, np.kron(u,d))\n",
        "udu = np.kron(u, np.kron(d,u))\n",
        "duu = np.kron(d, np.kron(u,u))"
      ],
      "execution_count": null,
      "outputs": []
    },
    {
      "cell_type": "code",
      "metadata": {
        "id": "0G5RyDVpRgVy",
        "colab": {
          "base_uri": "https://localhost:8080/"
        },
        "outputId": "cfeb6ade-dfb3-4fc0-eb69-820027ef211f"
      },
      "source": [
        "# Define the P0 projection operator\n",
        "P0 = ddd*(ddd.H) + uuu*(uuu.H)\n",
        "print(P0)"
      ],
      "execution_count": null,
      "outputs": [
        {
          "output_type": "stream",
          "text": [
            "[[1 0 0 0 0 0 0 0]\n",
            " [0 0 0 0 0 0 0 0]\n",
            " [0 0 0 0 0 0 0 0]\n",
            " [0 0 0 0 0 0 0 0]\n",
            " [0 0 0 0 0 0 0 0]\n",
            " [0 0 0 0 0 0 0 0]\n",
            " [0 0 0 0 0 0 0 0]\n",
            " [0 0 0 0 0 0 0 1]]\n"
          ],
          "name": "stdout"
        }
      ]
    },
    {
      "cell_type": "code",
      "metadata": {
        "id": "jKnYqAjbRgVz",
        "colab": {
          "base_uri": "https://localhost:8080/"
        },
        "outputId": "d2ce954b-1136-4e12-c44a-89fbc2e2e7bf"
      },
      "source": [
        "# Define the P1 projection operator\n",
        "P1 = ddu*(ddu.H) + uud*(uud.H)\n",
        "print(P1)"
      ],
      "execution_count": null,
      "outputs": [
        {
          "output_type": "stream",
          "text": [
            "[[0 0 0 0 0 0 0 0]\n",
            " [0 1 0 0 0 0 0 0]\n",
            " [0 0 0 0 0 0 0 0]\n",
            " [0 0 0 0 0 0 0 0]\n",
            " [0 0 0 0 0 0 0 0]\n",
            " [0 0 0 0 0 0 0 0]\n",
            " [0 0 0 0 0 0 1 0]\n",
            " [0 0 0 0 0 0 0 0]]\n"
          ],
          "name": "stdout"
        }
      ]
    },
    {
      "cell_type": "code",
      "metadata": {
        "id": "C1HbmbjpRgV0",
        "colab": {
          "base_uri": "https://localhost:8080/"
        },
        "outputId": "e5f96086-0a95-46ee-91e1-b0df57aa765d"
      },
      "source": [
        "# Define the P3 projection operator\n",
        "P3 = udd*(udd.H) + duu*(duu.H)\n",
        "print(P3)"
      ],
      "execution_count": null,
      "outputs": [
        {
          "output_type": "stream",
          "text": [
            "[[0 0 0 0 0 0 0 0]\n",
            " [0 0 0 0 0 0 0 0]\n",
            " [0 0 0 0 0 0 0 0]\n",
            " [0 0 0 1 0 0 0 0]\n",
            " [0 0 0 0 1 0 0 0]\n",
            " [0 0 0 0 0 0 0 0]\n",
            " [0 0 0 0 0 0 0 0]\n",
            " [0 0 0 0 0 0 0 0]]\n"
          ],
          "name": "stdout"
        }
      ]
    },
    {
      "cell_type": "code",
      "metadata": {
        "id": "qMKL1ik0RgV1",
        "colab": {
          "base_uri": "https://localhost:8080/"
        },
        "outputId": "bc90f23f-2310-4f42-cdca-cd7fec424000"
      },
      "source": [
        "# Measure using P0\n",
        "(psi.H)*P0*(psi)"
      ],
      "execution_count": null,
      "outputs": [
        {
          "output_type": "execute_result",
          "data": {
            "text/plain": [
              "matrix([[0.]])"
            ]
          },
          "metadata": {
            "tags": []
          },
          "execution_count": 11
        }
      ]
    },
    {
      "cell_type": "code",
      "metadata": {
        "id": "Odf1n1vRRgV2",
        "colab": {
          "base_uri": "https://localhost:8080/"
        },
        "outputId": "6cdd5925-a347-4443-de56-d253830aaf5f"
      },
      "source": [
        "# Measure using P2\n",
        "(psi.H)*P1*(psi)"
      ],
      "execution_count": null,
      "outputs": [
        {
          "output_type": "execute_result",
          "data": {
            "text/plain": [
              "matrix([[0.]])"
            ]
          },
          "metadata": {
            "tags": []
          },
          "execution_count": 12
        }
      ]
    },
    {
      "cell_type": "code",
      "metadata": {
        "id": "S0QoU5elRgV3",
        "colab": {
          "base_uri": "https://localhost:8080/"
        },
        "outputId": "591a291c-53dd-434f-af0d-ec99a75388c7"
      },
      "source": [
        "# Measure using P3\n",
        "(psi.H)*P3*(psi)"
      ],
      "execution_count": null,
      "outputs": [
        {
          "output_type": "execute_result",
          "data": {
            "text/plain": [
              "matrix([[0.]])"
            ]
          },
          "metadata": {
            "tags": []
          },
          "execution_count": 13
        }
      ]
    },
    {
      "cell_type": "markdown",
      "metadata": {
        "id": "z85vWU4xRgV3"
      },
      "source": [
        "All of the measurements came out to be zero since the error did not occur in the first or third qubit. So, the syndrome measurements associated with the three different places where an error can occur return $1$ if the appropriate operator was applied, and $0$ otherwise. "
      ]
    },
    {
      "cell_type": "code",
      "metadata": {
        "id": "u_3G3FYNHtPo"
      },
      "source": [
        ""
      ],
      "execution_count": null,
      "outputs": []
    },
    {
      "cell_type": "markdown",
      "metadata": {
        "id": "zAazT3Aj9PtE"
      },
      "source": [
        "## Three Qubit Bit Flip Code"
      ]
    },
    {
      "cell_type": "markdown",
      "metadata": {
        "id": "u51xWlka9PtF"
      },
      "source": [
        "### Bit-Flip Error Correction"
      ]
    },
    {
      "cell_type": "markdown",
      "metadata": {
        "id": "ym0JaK_q9PtG"
      },
      "source": [
        "Suppose we want to send some quantum information through some noisy information channel that flips the qubits with probability $p$. So, with probability $p$, the state $|\\psi\\rangle$ is sent to $X|\\psi \\rangle$, where $X$ is the Pauli-$X$ gate. To protect against bit flips we encode the state $|\\psi\\rangle = \\alpha|0\\rangle + \\beta|1\\rangle$ into three qubits as the state $\\alpha|000\\rangle + \\beta|111\\rangle$. This can be written as,\n",
        "\n",
        "\\begin{align}\n",
        "|0\\rangle \\mapsto |0_L\\rangle &= |000\\rangle \\\\\n",
        "|1\\rangle \\mapsto |1_L\\rangle &= |111\\rangle \n",
        "\\end{align}"
      ]
    },
    {
      "cell_type": "markdown",
      "metadata": {
        "id": "hzaeVz_N9PtH"
      },
      "source": [
        "Suppose now that we send each of the three qubits above through the noisy bit-flip channel after we have encoded the arbitrary state $|\\psi\\rangle$. Then each of the three qubits is flipped via the Pauli-$X$ gate with probability $p$. then we may *detect the arror*. There are four projection operators corresponding to four *error syndromes*:\n",
        "\n",
        "\\begin{align}\n",
        "P_0 &= |000\\rangle \\langle 000| + |111\\rangle \\langle 111| \\text{no error} \\\\\n",
        "P_1 &= |100\\rangle \\langle 100| + |011\\rangle \\langle 011| \\text{bit flip on first qubit} \\\\\n",
        "P_2 &= |010\\rangle \\langle 010| + |101\\rangle \\langle 101| \\text{bit flip on second qubit} \\\\\n",
        "P_3 &= |001\\rangle \\langle 001| + |110\\rangle \\langle 110| \\text{bit flip on third qubit}\n",
        "\\end{align}"
      ]
    },
    {
      "cell_type": "markdown",
      "metadata": {
        "id": "cpOD6Nyv9PtI"
      },
      "source": [
        "So, if for example we have an error that occurs on the second qubit, then the corrupted state is $\\alpha |010\\rangle + \\beta|101\\rangle$. Computing $\\langle \\psi |P_2|\\psi \\rangle = 1$, we can see two things. First, the measurment using the projection operator $P_2$ does not effect the state. It is the same before and after the measurement. Second, the syndrome measurment contains only information about the kind of error that has occurred and not what the values of $\\alpha$ and $\\beta$ are. Let's look at a little Python code. "
      ]
    },
    {
      "cell_type": "code",
      "metadata": {
        "colab": {
          "base_uri": "https://localhost:8080/"
        },
        "id": "xXU6xUP89PtK",
        "outputId": "7a835b04-1bf2-4156-9dfc-912c5a83f9ba"
      },
      "source": [
        "# Define the spin-down single qubit basis state\n",
        "d = np.matrix([[1],\n",
        "               [0]])\n",
        "\n",
        "# Define the spin-up single qubit basis state\n",
        "u = np.matrix([[0],\n",
        "               [1]])\n",
        "\n",
        "\n",
        "# Define the two basis state summands of the corrupted state\n",
        "dud = np.kron(d, np.kron(u, d))\n",
        "\n",
        "udu = np.kron(u, np.kron(d, u))\n",
        "\n",
        "print(dud)\n",
        "print(udu)"
      ],
      "execution_count": null,
      "outputs": [
        {
          "output_type": "stream",
          "text": [
            "[[0]\n",
            " [0]\n",
            " [1]\n",
            " [0]\n",
            " [0]\n",
            " [0]\n",
            " [0]\n",
            " [0]]\n",
            "[[0]\n",
            " [0]\n",
            " [0]\n",
            " [0]\n",
            " [0]\n",
            " [1]\n",
            " [0]\n",
            " [0]]\n"
          ],
          "name": "stdout"
        }
      ]
    },
    {
      "cell_type": "code",
      "metadata": {
        "colab": {
          "base_uri": "https://localhost:8080/"
        },
        "id": "862_LiCw9PtN",
        "outputId": "47aa7f7f-10f2-4b18-ae58-e1fd02b22132"
      },
      "source": [
        "# Define the projection operator corresponding to the corrupted state\n",
        "P2 = dud*(dud.H) + udu*(udu.H)\n",
        "print(P2)"
      ],
      "execution_count": null,
      "outputs": [
        {
          "output_type": "stream",
          "text": [
            "[[0 0 0 0 0 0 0 0]\n",
            " [0 0 0 0 0 0 0 0]\n",
            " [0 0 1 0 0 0 0 0]\n",
            " [0 0 0 0 0 0 0 0]\n",
            " [0 0 0 0 0 0 0 0]\n",
            " [0 0 0 0 0 1 0 0]\n",
            " [0 0 0 0 0 0 0 0]\n",
            " [0 0 0 0 0 0 0 0]]\n"
          ],
          "name": "stdout"
        }
      ]
    },
    {
      "cell_type": "markdown",
      "metadata": {
        "id": "BbVX16It9PtP"
      },
      "source": [
        "Take for example the initial state $|\\psi\\rangle = \\frac{1}{\\sqrt{2}}(|0\\rangle - |1\\rangle)$ and encode it as the state $\\frac{1}{\\sqrt{2}}(|000\\rangle - |111\\rangle)$. The bit flip occurs on the second qubit so we have the corrupted state $\\frac{1}{\\sqrt{2}}(|010\\rangle - |101\\rangle)$. "
      ]
    },
    {
      "cell_type": "code",
      "metadata": {
        "colab": {
          "base_uri": "https://localhost:8080/"
        },
        "id": "RfeUu_UC9PtQ",
        "outputId": "f7499185-ca02-4774-923f-0ab75525a792"
      },
      "source": [
        "# Define some corrupted state using complex coefficients a and b such that |a|^2+|b|^2 = 1\n",
        "a = 1/np.sqrt(2)\n",
        "b = -1/np.sqrt(2)\n",
        "psi = a*(dud) + b*(udu)\n",
        "print(psi)"
      ],
      "execution_count": null,
      "outputs": [
        {
          "output_type": "stream",
          "text": [
            "[[ 0.        ]\n",
            " [ 0.        ]\n",
            " [ 0.70710678]\n",
            " [ 0.        ]\n",
            " [ 0.        ]\n",
            " [-0.70710678]\n",
            " [ 0.        ]\n",
            " [ 0.        ]]\n"
          ],
          "name": "stdout"
        }
      ]
    },
    {
      "cell_type": "markdown",
      "metadata": {
        "id": "39b64Ql09PtR"
      },
      "source": [
        "Now, we can measure using the projection operator $P_2$:\n",
        "\n",
        "\\begin{align}\n",
        "\\begin{pmatrix}\n",
        "0, & 0, & 1/\\sqrt{2}, & 0, & 0, & -1/\\sqrt{2}, & 0, & 0\n",
        "\\end{pmatrix}\n",
        "\\begin{pmatrix}\n",
        "0 & 0 & 0 & 0 & 0 & 0 & 0 & 0 \\\\\n",
        "0 & 0 & 0 & 0 & 0 & 0 & 0 & 0 \\\\\n",
        "0 & 0 & 1 & 0 & 0 & 0 & 0 & 0 \\\\\n",
        "0 & 0 & 0 & 0 & 0 & 0 & 0 & 0 \\\\\n",
        "0 & 0 & 0 & 0 & 0 & 0 & 0 & 0 \\\\\n",
        "0 & 0 & 0 & 0 & 0 & 1 & 0 & 0 \\\\\n",
        "0 & 0 & 0 & 0 & 0 & 0 & 0 & 0 \\\\\n",
        "0 & 0 & 0 & 0 & 0 & 0 & 0 & 0 \n",
        "\\end{pmatrix}\n",
        "\\begin{pmatrix}\n",
        "0 \\\\ 0 \\\\ 1/\\sqrt{2} \\\\ 0 \\\\ 0 \\\\ -1/\\sqrt{2} \\\\ 0 \\\\ 0\n",
        "\\end{pmatrix} = 1\n",
        "\\end{align}"
      ]
    },
    {
      "cell_type": "markdown",
      "metadata": {
        "id": "gLFi-0ia9PtS"
      },
      "source": [
        "In slightly different notation this can be written as,\n",
        "\n",
        "\\begin{align}\n",
        "\\frac{1}{\\sqrt{2}}(\\langle 010| - \\langle 101|)\n",
        "(|010\\rangle \\langle 010| + |101 \\rangle \\langle 101|)\n",
        "\\frac{1}{\\sqrt{2}}(|010\\rangle - |101\\rangle)\n",
        "\\end{align}"
      ]
    },
    {
      "cell_type": "code",
      "metadata": {
        "colab": {
          "base_uri": "https://localhost:8080/"
        },
        "id": "0C3Xc9EY9PtT",
        "outputId": "e8a82d44-3b7e-4b77-b186-41d91c819673"
      },
      "source": [
        "# Measure using the projection operator P2\n",
        "(psi.H)*P2*(psi)"
      ],
      "execution_count": null,
      "outputs": [
        {
          "output_type": "execute_result",
          "data": {
            "text/plain": [
              "matrix([[1.]])"
            ]
          },
          "metadata": {
            "tags": []
          },
          "execution_count": 17
        }
      ]
    },
    {
      "cell_type": "markdown",
      "metadata": {
        "id": "zyUSedLX9PtU"
      },
      "source": [
        "Let's perform measurements on the same corrupted state using the other projection operators to see what happens. In particular, we want to compute the values of \n",
        "\n",
        "\\begin{align}\n",
        "\\langle \\psi |P_0|\\psi \\rangle \\\\\n",
        "\\langle \\psi |P_1|\\psi \\rangle \\\\\n",
        "\\langle \\psi |P_3|\\psi \\rangle\n",
        "\\end{align}\n",
        "\n",
        "where $|\\psi \\rangle = \\frac{1}{\\sqrt{2}}(|010\\rangle - |101\\rangle)$. First, let's define the three operators $P_0, P_1,$ and $P_3$. "
      ]
    },
    {
      "cell_type": "code",
      "metadata": {
        "id": "Vi2PPjgR9PtV"
      },
      "source": [
        "# Define all of the basis states\n",
        "ddd = np.kron(d, np.kron(d,d))\n",
        "ddu = np.kron(d, np.kron(d,u))\n",
        "dud = np.kron(d, np.kron(u,d))\n",
        "udd = np.kron(u, np.kron(d,d))\n",
        "uuu = np.kron(u, np.kron(u,u))\n",
        "uud = np.kron(u, np.kron(u,d))\n",
        "udu = np.kron(u, np.kron(d,u))\n",
        "duu = np.kron(d, np.kron(u,u))"
      ],
      "execution_count": null,
      "outputs": []
    },
    {
      "cell_type": "code",
      "metadata": {
        "colab": {
          "base_uri": "https://localhost:8080/"
        },
        "id": "j9UZLg4I9PtW",
        "outputId": "377663e0-7eac-44ce-ff67-04c3705da7b5"
      },
      "source": [
        "# Define the P0 projection operator\n",
        "P0 = ddd*(ddd.H) + uuu*(uuu.H)\n",
        "print(P0)"
      ],
      "execution_count": null,
      "outputs": [
        {
          "output_type": "stream",
          "text": [
            "[[1 0 0 0 0 0 0 0]\n",
            " [0 0 0 0 0 0 0 0]\n",
            " [0 0 0 0 0 0 0 0]\n",
            " [0 0 0 0 0 0 0 0]\n",
            " [0 0 0 0 0 0 0 0]\n",
            " [0 0 0 0 0 0 0 0]\n",
            " [0 0 0 0 0 0 0 0]\n",
            " [0 0 0 0 0 0 0 1]]\n"
          ],
          "name": "stdout"
        }
      ]
    },
    {
      "cell_type": "code",
      "metadata": {
        "colab": {
          "base_uri": "https://localhost:8080/"
        },
        "id": "fuzk8U3g9PtX",
        "outputId": "58e4f32d-630a-4760-8c7e-5f9b84546be7"
      },
      "source": [
        "# Define the P1 projection operator\n",
        "P1 = ddu*(ddu.H) + uud*(uud.H)\n",
        "print(P1)"
      ],
      "execution_count": null,
      "outputs": [
        {
          "output_type": "stream",
          "text": [
            "[[0 0 0 0 0 0 0 0]\n",
            " [0 1 0 0 0 0 0 0]\n",
            " [0 0 0 0 0 0 0 0]\n",
            " [0 0 0 0 0 0 0 0]\n",
            " [0 0 0 0 0 0 0 0]\n",
            " [0 0 0 0 0 0 0 0]\n",
            " [0 0 0 0 0 0 1 0]\n",
            " [0 0 0 0 0 0 0 0]]\n"
          ],
          "name": "stdout"
        }
      ]
    },
    {
      "cell_type": "code",
      "metadata": {
        "colab": {
          "base_uri": "https://localhost:8080/"
        },
        "id": "bV0tdIL-9PtX",
        "outputId": "8e3bb2e6-bd9f-45c0-fdfc-0f35625451fb"
      },
      "source": [
        "# Define the P3 projection operator\n",
        "P3 = udd*(udd.H) + duu*(duu.H)\n",
        "print(P3)"
      ],
      "execution_count": null,
      "outputs": [
        {
          "output_type": "stream",
          "text": [
            "[[0 0 0 0 0 0 0 0]\n",
            " [0 0 0 0 0 0 0 0]\n",
            " [0 0 0 0 0 0 0 0]\n",
            " [0 0 0 1 0 0 0 0]\n",
            " [0 0 0 0 1 0 0 0]\n",
            " [0 0 0 0 0 0 0 0]\n",
            " [0 0 0 0 0 0 0 0]\n",
            " [0 0 0 0 0 0 0 0]]\n"
          ],
          "name": "stdout"
        }
      ]
    },
    {
      "cell_type": "code",
      "metadata": {
        "colab": {
          "base_uri": "https://localhost:8080/"
        },
        "id": "TnX2z7dV9PtY",
        "outputId": "efd37354-37bc-4e23-9bd0-031e0646f05e"
      },
      "source": [
        "# Measure using P0\n",
        "(psi.H)*P0*(psi)"
      ],
      "execution_count": null,
      "outputs": [
        {
          "output_type": "execute_result",
          "data": {
            "text/plain": [
              "matrix([[0.]])"
            ]
          },
          "metadata": {
            "tags": []
          },
          "execution_count": 22
        }
      ]
    },
    {
      "cell_type": "code",
      "metadata": {
        "colab": {
          "base_uri": "https://localhost:8080/"
        },
        "id": "mEoNH_KP9PtZ",
        "outputId": "fa171b82-edda-4841-b4d6-cd0946a6cfbb"
      },
      "source": [
        "# Measure using P2\n",
        "(psi.H)*P1*(psi)"
      ],
      "execution_count": null,
      "outputs": [
        {
          "output_type": "execute_result",
          "data": {
            "text/plain": [
              "matrix([[0.]])"
            ]
          },
          "metadata": {
            "tags": []
          },
          "execution_count": 23
        }
      ]
    },
    {
      "cell_type": "code",
      "metadata": {
        "colab": {
          "base_uri": "https://localhost:8080/"
        },
        "id": "cjlJlZ5M9Pta",
        "outputId": "5a827eec-4e54-4d66-d38e-04f7f0f1dc16"
      },
      "source": [
        "# Measure using P3\n",
        "(psi.H)*P3*(psi)"
      ],
      "execution_count": null,
      "outputs": [
        {
          "output_type": "execute_result",
          "data": {
            "text/plain": [
              "matrix([[0.]])"
            ]
          },
          "metadata": {
            "tags": []
          },
          "execution_count": 24
        }
      ]
    },
    {
      "cell_type": "markdown",
      "metadata": {
        "id": "h125RCwS9Ptb"
      },
      "source": [
        "All of the measurements came out to be zero since the error did not occur in the first or third qubit. So, the syndrome measurements associated with the three different places where an error can occur return $1$ if the appropriate operator was applied, and $0$ otherwise. "
      ]
    },
    {
      "cell_type": "markdown",
      "metadata": {
        "id": "RngUD46bRgV5"
      },
      "source": [
        "## Three Qubit Phase Flip Code"
      ]
    },
    {
      "cell_type": "markdown",
      "metadata": {
        "id": "WBdRgHURRgV6"
      },
      "source": [
        "The three qubit phase flip code is somewhat similar to the bit-flip code but there is no classical equivalent. Classicla information in the form of bit have no phase, so transmitting quantum information through a noisy channel that causes a phase flip must be treated differently. The phase flip error takes an arbitrary state $\\alpha|0\\rangle + \\beta|1\\rangle$ to the corrupted state $\\alpha|0\\rangle - \\beta|1\\rangle$. If we take the qubit basis,\n",
        "\n",
        "\\begin{align}\n",
        "|l\\rangle &= \\frac{1}{\\sqrt{2}}(|0\\rangle + |1\\rangle) \\\\\n",
        "|r\\rangle &= \\frac{1}{\\sqrt{2}}(|0\\rangle - |1\\rangle)\n",
        "\\end{align}\n",
        "\n",
        "then the Pauli-$Z$ gate acts by,\n",
        "\n",
        "\\begin{align}\n",
        "|l\\rangle &\\mapsto |r\\rangle \\\\\n",
        "|r\\rangle &\\mapsto |l\\rangle \n",
        "\\end{align}\n",
        "\n",
        "So, we can encode the logical qubit $|0_L\\rangle$ into the state $|lll\\rangle$ and we can encode the logical qubit $|1_L\\rangle$ into the state $|rrr\\rangle$. The phase flip circuit is given by:"
      ]
    },
    {
      "cell_type": "markdown",
      "metadata": {
        "id": "KWc06vQ-9SF7"
      },
      "source": [
        "![3_qubit_phase_flip.png](data:image/png;base64,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)"
      ]
    },
    {
      "cell_type": "code",
      "metadata": {
        "id": "_DqywZH19Yc7"
      },
      "source": [
        ""
      ],
      "execution_count": null,
      "outputs": []
    },
    {
      "cell_type": "markdown",
      "metadata": {
        "id": "S11bLho7RgV7"
      },
      "source": [
        "The projection operators used in the error detection and correction procedure are very similar to before, but they are conjugated by Hadamard gates:\n",
        "\n",
        "\\begin{align}\n",
        "P_0' &= H^{\\otimes 3}P_0H^{\\otimes 3} \\\\\n",
        "P_1' &= H^{\\otimes 3}P_1H^{\\otimes 3} \\\\\n",
        "P_2' &= H^{\\otimes 3}P_2H^{\\otimes 3} \\\\\n",
        "P_3' &= H^{\\otimes 3}P_3H^{\\otimes 3}\n",
        "\\end{align}\n",
        "\n",
        "So, for example, let's compute the projection operator $P_1'$. First, compute the tensor product of three Hadamard gates:\n",
        "\n",
        "\\begin{align}\n",
        "\\frac{1}{\\sqrt{2}}\n",
        "\\begin{pmatrix}\n",
        "1 & 1 \\\\\n",
        "1 & -1\n",
        "\\end{pmatrix} \\otimes\n",
        "\\frac{1}{\\sqrt{2}}\n",
        "\\begin{pmatrix}\n",
        "1 & 1 \\\\\n",
        "1 & -1\n",
        "\\end{pmatrix} \\otimes \n",
        "\\frac{1}{\\sqrt{2}}\n",
        "\\begin{pmatrix}\n",
        "1 & 1 \\\\\n",
        "1 & -1\n",
        "\\end{pmatrix} = \n",
        "\\left( \\frac{1}{\\sqrt{2}}\\right)^3\n",
        "\\begin{pmatrix}\n",
        "1 & 1 & 1 & 1 & 1 & 1 & 1 & 1 \\\\\n",
        "1 & -1 & 1 & -1 & 1 & -1 & 1 & -1 \\\\\n",
        "1 & 1  & -1 & -1 & 1 & 1 & -1 & -1 \\\\\n",
        "1 & -1 & -1 & 1 & 1 & -1 & -1 &  1 \\\\\n",
        "1 & 1 & 1 & 1 & -1 & -1 & -1 & -1 \\\\\n",
        "1 & -1 & 1 & -1 & -1 & 1 & -1 & 1 \\\\\n",
        "1 & 1 & -1 & -1 & -1 & -1 & 1 & 1 \\\\\n",
        "1 & -1 & -1 & 1 & -1 & 1 & 1 & -1 \n",
        "\\end{pmatrix}\n",
        "\\end{align}"
      ]
    },
    {
      "cell_type": "code",
      "metadata": {
        "id": "XvnWafjBRgV7",
        "colab": {
          "base_uri": "https://localhost:8080/"
        },
        "outputId": "2cb288b8-2ef7-4de2-990e-74c97e2552c3"
      },
      "source": [
        "H = np.matrix([[1,  1],\n",
        "               [1, -1]])/np.sqrt(2)\n",
        "\n",
        "HHH = np.kron(H, np.kron(H,H))\n",
        "\n",
        "print(HHH)"
      ],
      "execution_count": null,
      "outputs": [
        {
          "output_type": "stream",
          "text": [
            "[[ 0.35355339  0.35355339  0.35355339  0.35355339  0.35355339  0.35355339\n",
            "   0.35355339  0.35355339]\n",
            " [ 0.35355339 -0.35355339  0.35355339 -0.35355339  0.35355339 -0.35355339\n",
            "   0.35355339 -0.35355339]\n",
            " [ 0.35355339  0.35355339 -0.35355339 -0.35355339  0.35355339  0.35355339\n",
            "  -0.35355339 -0.35355339]\n",
            " [ 0.35355339 -0.35355339 -0.35355339  0.35355339  0.35355339 -0.35355339\n",
            "  -0.35355339  0.35355339]\n",
            " [ 0.35355339  0.35355339  0.35355339  0.35355339 -0.35355339 -0.35355339\n",
            "  -0.35355339 -0.35355339]\n",
            " [ 0.35355339 -0.35355339  0.35355339 -0.35355339 -0.35355339  0.35355339\n",
            "  -0.35355339  0.35355339]\n",
            " [ 0.35355339  0.35355339 -0.35355339 -0.35355339 -0.35355339 -0.35355339\n",
            "   0.35355339  0.35355339]\n",
            " [ 0.35355339 -0.35355339 -0.35355339  0.35355339 -0.35355339  0.35355339\n",
            "   0.35355339 -0.35355339]]\n"
          ],
          "name": "stdout"
        }
      ]
    },
    {
      "cell_type": "markdown",
      "metadata": {
        "id": "ZgXmC-bjRgV8"
      },
      "source": [
        "Now, compute the conjugate operator $P_1' = H^{\\otimes 3}P_1H^{\\otimes 3}$:"
      ]
    },
    {
      "cell_type": "code",
      "metadata": {
        "id": "x7YaPvcJRgV8",
        "colab": {
          "base_uri": "https://localhost:8080/"
        },
        "outputId": "331031b0-b3c5-43fc-d2dd-5b662fea7a4e"
      },
      "source": [
        "M1 = HHH*P1*HHH\n",
        "print(M1)"
      ],
      "execution_count": null,
      "outputs": [
        {
          "output_type": "stream",
          "text": [
            "[[ 2.50000000e-01 -5.90395006e-18  5.90395006e-18 -2.50000000e-01\n",
            "   5.90395006e-18 -2.50000000e-01  2.50000000e-01 -5.90395006e-18]\n",
            " [-5.90395006e-18  2.50000000e-01 -2.50000000e-01  5.90395006e-18\n",
            "  -2.50000000e-01  5.90395006e-18 -5.90395006e-18  2.50000000e-01]\n",
            " [ 5.90395006e-18 -2.50000000e-01  2.50000000e-01 -5.90395006e-18\n",
            "   2.50000000e-01 -5.90395006e-18  5.90395006e-18 -2.50000000e-01]\n",
            " [-2.50000000e-01  5.90395006e-18 -5.90395006e-18  2.50000000e-01\n",
            "  -5.90395006e-18  2.50000000e-01 -2.50000000e-01  5.90395006e-18]\n",
            " [ 5.90395006e-18 -2.50000000e-01  2.50000000e-01 -5.90395006e-18\n",
            "   2.50000000e-01 -5.90395006e-18  5.90395006e-18 -2.50000000e-01]\n",
            " [-2.50000000e-01  5.90395006e-18 -5.90395006e-18  2.50000000e-01\n",
            "  -5.90395006e-18  2.50000000e-01 -2.50000000e-01  5.90395006e-18]\n",
            " [ 2.50000000e-01 -5.90395006e-18  5.90395006e-18 -2.50000000e-01\n",
            "   5.90395006e-18 -2.50000000e-01  2.50000000e-01 -5.90395006e-18]\n",
            " [-5.90395006e-18  2.50000000e-01 -2.50000000e-01  5.90395006e-18\n",
            "  -2.50000000e-01  5.90395006e-18 -5.90395006e-18  2.50000000e-01]]\n"
          ],
          "name": "stdout"
        }
      ]
    },
    {
      "cell_type": "markdown",
      "metadata": {
        "id": "hdzusLf6RgV9"
      },
      "source": [
        "Now, if we want to perform the same error correction as before, we will need the eight basis states corresponding to the phase flips that can occur to $|0_L\\rangle = |lll\\rangle$ and $|1_L\\rangle = |rrr\\rangle$. Start by defining a state \n",
        "\n",
        "\\begin{align}\n",
        "\\frac{1}{\\sqrt{2}}(|0_L\\rangle + |1_L\\rangle)\n",
        "\\end{align}"
      ]
    },
    {
      "cell_type": "code",
      "metadata": {
        "id": "WcVBQZy4RgV9"
      },
      "source": [
        "# Define the basis states |l> and |r>\n",
        "l = (d+u)/np.sqrt(2)\n",
        "r = (d-u)/np.sqrt(2)\n",
        "\n",
        "# Define the basis states on three qubits for phase flips\n",
        "rrr = np.kron(r, np.kron(r,r))\n",
        "rrl = np.kron(r, np.kron(r,l))\n",
        "rlr = np.kron(r, np.kron(l,r))\n",
        "lrr = np.kron(l, np.kron(r,r))\n",
        "lll = np.kron(l, np.kron(l,l))\n",
        "llr = np.kron(l, np.kron(l,r))\n",
        "lrl = np.kron(l, np.kron(r,l))\n",
        "rll = np.kron(r, np.kron(l,l))"
      ],
      "execution_count": null,
      "outputs": []
    },
    {
      "cell_type": "markdown",
      "metadata": {
        "id": "Qjnsk4JCRgV-"
      },
      "source": [
        "Now, suppose we have a phase flip in the noise channel that produces the corrupt state \n",
        "\n",
        "\\begin{align}\n",
        "\\frac{1}{\\sqrt{2}}|llr\\rangle + \\frac{1}{\\sqrt{2}}|rrl\\rangle \n",
        "\\end{align}\n",
        "\n",
        "on the first qubit. Then we can use the projection operator $P_1' = H^{\\otimes 3}P_0H^{\\otimes 3}$ to detect this:"
      ]
    },
    {
      "cell_type": "code",
      "metadata": {
        "id": "cWJW83siRgWB",
        "colab": {
          "base_uri": "https://localhost:8080/"
        },
        "outputId": "54d78d53-670a-42bd-d439-53ab4cb7ed8e"
      },
      "source": [
        "# Define an error on first qubit corrupted state\n",
        "psi1 = (llr + rrl)/np.sqrt(2)\n",
        "print((psi1.H)*M1*(psi1))"
      ],
      "execution_count": null,
      "outputs": [
        {
          "output_type": "stream",
          "text": [
            "[[1.]]\n"
          ],
          "name": "stdout"
        }
      ]
    },
    {
      "cell_type": "markdown",
      "metadata": {
        "id": "HBa6yQxHRgWC"
      },
      "source": [
        "If we apply this to any of the other phase flip errors, we should get zero:"
      ]
    },
    {
      "cell_type": "code",
      "metadata": {
        "id": "TK5az8-0RgWC",
        "colab": {
          "base_uri": "https://localhost:8080/"
        },
        "outputId": "8b7cb42c-22a5-4faa-cddc-a44021986851"
      },
      "source": [
        "# Define the other three possible phase flip errors:\n",
        "psi0 = (rrr + lll)/np.sqrt(2) # no error\n",
        "psi2 = (rlr + lrl)/np.sqrt(2) # error on second qubit\n",
        "psi3 = (lrr + rll)/np.sqrt(2) # error on third qubit\n",
        "\n",
        "# Compute the measurements\n",
        "print((psi0.H)*M1*(psi0))\n",
        "print((psi2.H)*M1*(psi2))\n",
        "print((psi3.H)*M1*(psi3))"
      ],
      "execution_count": null,
      "outputs": [
        {
          "output_type": "stream",
          "text": [
            "[[0.]]\n",
            "[[0.]]\n",
            "[[0.]]\n"
          ],
          "name": "stdout"
        }
      ]
    },
    {
      "cell_type": "markdown",
      "metadata": {
        "id": "2oUT7ch4RgWE"
      },
      "source": [
        "## The Shor Code"
      ]
    },
    {
      "cell_type": "markdown",
      "metadata": {
        "id": "ywFtWugDRgWE"
      },
      "source": [
        "As we have already discussed, it is possible to encode the information of a single qubit into several qubits, effectively spreading the information out over a highly entangled system of qubits. The mathemtician Peter Shor discovered how to do this by encoding the information of a single qubit into a highly entangled system of nine qubits. This circumvents the issue of no-cloning, and also provides a good example of a quantum error correcting code that corrects *arbitrary* single qubit errors. The Shor code is a combination of the bit-flip and phase-flip codes. First, we encode \n",
        "\n",
        "\\begin{align}\n",
        "|0\\rangle \\mapsto |lll\\rangle, \\quad |1\\rangle \\mapsto |rrr\\rangle \n",
        "\\end{align}\n",
        "\n",
        "where \n",
        "\n",
        "\\begin{align}\n",
        "|l\\rangle &= \\frac{1}{\\sqrt{2}}(|0\\rangle + |1\\rangle) \\\\\n",
        "|r\\rangle &= \\frac{1}{\\sqrt{2}}(|0\\rangle - |1\\rangle)\n",
        "\\end{align}\n",
        "\n",
        "and $|lll\\rangle = |l\\rangle \\otimes |l\\rangle \\otimes |l\\rangle$ and $|rrr\\rangle = |r\\rangle \\otimes |r\\rangle \\otimes |r\\rangle$ as usual. Let's compute this in Python code:"
      ]
    },
    {
      "cell_type": "code",
      "metadata": {
        "id": "jOh0ees2RgWF"
      },
      "source": [
        "# Define the basis states |l> and |r>\n",
        "l = (d+u)/np.sqrt(2)\n",
        "r = (d-u)/np.sqrt(2)\n",
        "\n",
        "# Define the basis states on three qubits for phase flips\n",
        "lll = np.kron(l, np.kron(l,l))\n",
        "rrr = np.kron(r, np.kron(r,r))"
      ],
      "execution_count": null,
      "outputs": []
    },
    {
      "cell_type": "code",
      "metadata": {
        "id": "71X45XKfRgWF",
        "colab": {
          "base_uri": "https://localhost:8080/"
        },
        "outputId": "f2e963c8-3394-42c7-f786-af3d258e364e"
      },
      "source": [
        "print(lll)"
      ],
      "execution_count": null,
      "outputs": [
        {
          "output_type": "stream",
          "text": [
            "[[0.35355339]\n",
            " [0.35355339]\n",
            " [0.35355339]\n",
            " [0.35355339]\n",
            " [0.35355339]\n",
            " [0.35355339]\n",
            " [0.35355339]\n",
            " [0.35355339]]\n"
          ],
          "name": "stdout"
        }
      ]
    },
    {
      "cell_type": "code",
      "metadata": {
        "id": "oGOI8E2SRgWG",
        "colab": {
          "base_uri": "https://localhost:8080/"
        },
        "outputId": "e965ba85-eb9a-4a3e-f481-6d0b7ae5a2ee"
      },
      "source": [
        "print(rrr)"
      ],
      "execution_count": null,
      "outputs": [
        {
          "output_type": "stream",
          "text": [
            "[[ 0.35355339]\n",
            " [-0.35355339]\n",
            " [-0.35355339]\n",
            " [ 0.35355339]\n",
            " [-0.35355339]\n",
            " [ 0.35355339]\n",
            " [ 0.35355339]\n",
            " [-0.35355339]]\n"
          ],
          "name": "stdout"
        }
      ]
    },
    {
      "cell_type": "markdown",
      "metadata": {
        "id": "vWuQqbUnRgWG"
      },
      "source": [
        "Next, each of these qubits is encoded using the three qubit bit-flip code with \n",
        "\n",
        "\\begin{align}\n",
        "|l\\rangle \\mapsto \\frac{|000\\rangle + |111\\rangle}{\\sqrt{2}}\n",
        "\\end{align}\n",
        "\n",
        "and \n",
        "\n",
        "\\begin{align}\n",
        "|r\\rangle \\mapsto \\frac{|000\\rangle - |111\\rangle}{\\sqrt{2}}\n",
        "\\end{align}"
      ]
    },
    {
      "cell_type": "markdown",
      "metadata": {
        "id": "kVJPUy4ARgWH"
      },
      "source": [
        "The result is a nine-qubit code with codewords:\n",
        "\n",
        "\\begin{align}\n",
        "|0\\rangle \\mapsto |0_L\\rangle &= \\left(\\frac{1}{\\sqrt{2}}|000\\rangle + |111\\rangle \\right)^{\\otimes 3}\\\\\n",
        "&= \\left(\\frac{1}{\\sqrt{2}}|000\\rangle + |111\\rangle \\right) \\otimes \\left(\\frac{1}{\\sqrt{2}}|000\\rangle + |111\\rangle \\right) \\otimes \\left(\\frac{1}{\\sqrt{2}}|000\\rangle + |111\\rangle \\right)\\\\\n",
        "&= \\frac{1}{2\\sqrt{2}}(|000\\rangle + |111\\rangle) \\otimes (|000\\rangle + |111\\rangle) \\otimes (|000\\rangle + |111\\rangle)\n",
        "\\end{align}"
      ]
    },
    {
      "cell_type": "markdown",
      "metadata": {
        "id": "7g-LBMrCRgWH"
      },
      "source": [
        "and\n",
        "\n",
        "\\begin{align}\n",
        "|0\\rangle \\mapsto |0_L\\rangle &= \\left(\\frac{1}{\\sqrt{2}}|000\\rangle - |111\\rangle \\right)^{\\otimes 3}\\\\\n",
        "&= \\left(\\frac{1}{\\sqrt{2}}|000\\rangle - |111\\rangle \\right) \\otimes \\left(\\frac{1}{\\sqrt{2}}|000\\rangle - |111\\rangle \\right) \\otimes \\left(\\frac{1}{\\sqrt{2}}|000\\rangle - |111\\rangle \\right)\\\\\n",
        "&= \\frac{1}{2\\sqrt{2}}(|000\\rangle - |111\\rangle) \\otimes (|000\\rangle - |111\\rangle) \\otimes (|000\\rangle - |111\\rangle)\n",
        "\\end{align}"
      ]
    },
    {
      "cell_type": "markdown",
      "metadata": {
        "id": "fsD4J9i3RgWI"
      },
      "source": [
        "The encoding circuit for the Shor code is:"
      ]
    },
    {
      "cell_type": "markdown",
      "metadata": {
        "id": "uUaTY9uR-KXO"
      },
      "source": [
        "![Shor_code.png](data:image/png;base64,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)"
      ]
    },
    {
      "cell_type": "markdown",
      "metadata": {
        "id": "rdfQf2v-RgWJ"
      },
      "source": [
        "Representing this circuit diagram in a slightly different way makes it more clear that the Shor code is in fact the composite code give by composing the bit-flip and phase-flip codes on three qubits. "
      ]
    },
    {
      "cell_type": "markdown",
      "metadata": {
        "id": "kZjDgrgF-PUz"
      },
      "source": [
        "![Shor_code_v2.png](data:image/png;base64,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)"
      ]
    },
    {
      "cell_type": "code",
      "metadata": {
        "id": "tvM49ZRc-SDt"
      },
      "source": [
        ""
      ],
      "execution_count": null,
      "outputs": []
    },
    {
      "cell_type": "markdown",
      "metadata": {
        "id": "iOPBPdNDRgWK"
      },
      "source": [
        "## Stabilizer Codes"
      ]
    },
    {
      "cell_type": "markdown",
      "metadata": {
        "id": "5qmn4v6-RgWL"
      },
      "source": [
        "Stabilizer codes are a formalism for error correction which are more oriented towards operators than qubit sates. The basic idea is to find invariant vector spaces relaive to a certain list of operators that are spanned by certain qubit state vectors. This puts stabilizer codes, and more generally, graph states and surface codes, into the realm of mathematics known as **invariant theory**. *Invariant theory* is an area of mathematics that studies operators, such as matrices and more general \"*linear operators*\", by looking at their action on vector spaces. A matrix can act on a vector space in many ways, but generally one studies how matrices act on vectors by multiplication or conjugation. If a certain subset of the vector space is *stabilized* it is often called an invariant subspace with respect to that matrix. There are mathematical structures called *groups*, which are just a special collection of matrices with certain formal properties. Groups are a fundamental object of study in mathematics. One of the most important groups of matrices in quantum computing are the **Pauli groups**. The most basic Pauli group is:\n",
        "\n",
        "\\begin{align}\n",
        "G_1 = \\{\\pm I, \\pm X, \\pm Y, \\pm Z, \\pm iI, \\pm iX, \\pm iY, \\pm iZ\\}\n",
        "\\end{align}\n",
        "\n",
        "So, this is the collection of Pauli operators, but we are allowed to multiply them by $\\pm 1$ and $\\pm i$. We are also allowed to multiply these matrices by each other. Something you should prove is that no matter how you multiply any two of the matrices in the Pauli group $G_1$, you will always get another matrix from the group $G_1$. Try picking any two of the matrices in $G_1$, and multiply them together. See what you get. As an example, let's compute the following multiplication by hand, and then in Python:\n",
        "\n",
        "\\begin{align}\n",
        "(iX)(-Y) &= \n",
        "\\begin{pmatrix}\n",
        "0 & i \\\\\n",
        "i & 0\n",
        "\\end{pmatrix}\n",
        "\\begin{pmatrix}\n",
        "0 & i \\\\\n",
        "-i & 0\n",
        "\\end{pmatrix}\\\\\n",
        "&= \n",
        "\\begin{pmatrix}\n",
        "0 & i \\\\\n",
        "i & 0\n",
        "\\end{pmatrix}\n",
        "\\begin{pmatrix}\n",
        "0 \\\\ -i\n",
        "\\end{pmatrix} + \n",
        "\\begin{pmatrix}\n",
        "0 & i \\\\\n",
        "i & 0\n",
        "\\end{pmatrix}\n",
        "\\begin{pmatrix}\n",
        "i \\\\ 0\n",
        "\\end{pmatrix}\\\\\n",
        "&= \n",
        "\\begin{pmatrix}\n",
        "1 & 0 \\\\\n",
        "0 & -1\n",
        "\\end{pmatrix} \\\\\n",
        "&= Z\n",
        "\\end{align}\n",
        "\n",
        "In Python code, we can verify this:"
      ]
    },
    {
      "cell_type": "code",
      "metadata": {
        "id": "J6DJKX1IRgWL",
        "colab": {
          "base_uri": "https://localhost:8080/"
        },
        "outputId": "7ce60040-000a-4d8d-ed53-dc0df3569410"
      },
      "source": [
        "X = np.matrix([[0, 1],\n",
        "               [1, 0]])\n",
        "\n",
        "Y = np.matrix([[0, -1j], \n",
        "               [1j, 0]])\n",
        "\n",
        "print((1j*X)*(-Y))"
      ],
      "execution_count": null,
      "outputs": [
        {
          "output_type": "stream",
          "text": [
            "[[ 1.+0.j  0.+0.j]\n",
            " [ 0.+0.j -1.+0.j]]\n"
          ],
          "name": "stdout"
        }
      ]
    },
    {
      "cell_type": "markdown",
      "metadata": {
        "id": "LDhR0BARRgWM"
      },
      "source": [
        "The Pauli group $G_1$ only acts on a single qubit state vector\n",
        "\\begin{align}\n",
        "|\\psi \\rangle = \n",
        "\\begin{pmatrix}\n",
        "\\alpha \\\\ \\beta\n",
        "\\end{pmatrix}\n",
        "\\end{align}\n",
        "\n",
        "However, there are more general Pauli groups $G_n$ which are given by tensor products of the matrices in $G_1$. So, for example, $G_2$ would be:\n",
        "\n",
        "\\begin{align}\n",
        "G_2 &= \\{\\pm I, \\pm X, \\pm Y, \\pm Z, \\pm iI, \\pm iX, \\pm iY, \\pm iZ\\}^{\\otimes 2} \\\\\n",
        "= \\{\\pm 1, \\pm i\\} \\times &\\{I \\otimes I, I \\otimes X, I \\otimes Y, I \\otimes Z, X \\otimes I, X \\otimes X, X \\otimes Y, X \\otimes Z\\\\\n",
        "& Y \\otimes I, Y \\otimes X, Y \\otimes Y, Y \\otimes Z, Z \\otimes I, Z \\otimes X, Z \\otimes Y, Z \\otimes Z \\}\n",
        "\\end{align}\n",
        "\n",
        "The above notation is from set theory and is meant to indicate that we can multiply any of the matrices in the list by $\\pm 1$ or $\\pm i$. So, $G_2$ is given by tensor products of two matrices from $G_1$. Similarly, $G_3$ is given by tensor products of any three matrices from $G_1$. In general, $G_n$ is given by tensor products of $n$-matrices from $G_1$. These all form a mathematical structure called a **group**. To be a group means:\n",
        "\n",
        "1. Multiplying any two matrices in $G_n$ always gives another matrix in $G_n$. \n",
        "2. There is an **\"identity operator\"**, given by $I^{\\otimes n} = I \\otimes I \\otimes \\cdots \\otimes I$. \n",
        "3. Every matrix in $G_n$ has an **inverse**, meaning if we multiply a matrix and its (unique) inverse, we get the identity operator. \n",
        "\n",
        "Now, the formalities of group theory are not terribly important at the moment, but it is important to know that groups are a heavily studied structure in mathematics. They show up everywhere. They show up in physics just as often, and you wouldn't be wasting your time if you developed an interest in group theory. Groups are useful. Now, suppose we have some sub-collection of matrices from one of the Pauli groups $G_n$. Let's call our sub-collection $S$. Next, assume that $S$ also satisfies the three properties above for a group. Then we call $S$ a **subgroup** of $G_n$. $S$ will *act on* state vectors describing the state of $n$-qubits. The collection of all state vectors describing $n$-qubit states is a **vector space**, let's call it $\\mathbb{H}^n = (\\mathbb{C}^2)^{\\otimes n}$. This is just all vectors given by the tensor product of three state vectors for three different qubits. If we let the group $S$ act on $\\mathbb{H}^n$, there will be some state vectors which are *stabilized* or *left unchanged* by the matrices in $S$. These vectors must of course be fixed or left unchanged by every matrix in $S$, and if they are we call such a vector space the *\"vector space stabilized by $S$\"*, and we will label if by $V_S$. We also call $S$ the *stabilizer* of $V_S$. Let's look at an example. Let $S$ be the subgroup of $G_3$ given by \n",
        "\n",
        "\\begin{align}\n",
        "S &= \\{I^{\\otimes 3}, Z \\otimes Z \\otimes I, Z \\otimes I \\otimes Z, I \\otimes Z \\otimes Z\\}\\\\\n",
        "&= \\{III, ZZI, ZIZ, IZZ\\}\n",
        "\\end{align}\n",
        "\n",
        "The second notation is a shorthand we will use so that writing something like $ZZI$ becomes much shorter and easier that writing $Z \\otimes Z \\otimes I$. This is a very common notation in quantum computing, especially in the context of stabilizer codes and error correction. It should not be confused with matrix multiplication. To prevent confusion, sometimes people add subscripts to the matrices and write things like $Z_1Z_2I_3$ to denote $ZZI$ or $Z \\otimes Z \\otimes I$. We will generally just write $ZZI$ and hope that there is not confusion. "
      ]
    },
    {
      "cell_type": "markdown",
      "metadata": {
        "id": "q6QarDYRRgWM"
      },
      "source": [
        "Let's look at a few vectors that are stabilized by the operator $ZZI$. \n",
        "\n",
        "\\begin{align}\n",
        "ZZI |000\\rangle &= \n",
        "\\begin{pmatrix}\n",
        "1 & 0 \\\\\n",
        "0 & -1\n",
        "\\end{pmatrix} \\otimes\n",
        "\\begin{pmatrix}\n",
        "1 & 0 \\\\\n",
        "0 & -1\n",
        "\\end{pmatrix} \\otimes\n",
        "\\begin{pmatrix}\n",
        "1 & 0 \\\\\n",
        "0 & 1\n",
        "\\end{pmatrix}\n",
        "\\begin{pmatrix}\n",
        "1 \\\\ 0 \\\\ 0 \\\\ 0 \\\\ 0 \\\\ 0 \\\\ 0 \\\\ 0\n",
        "\\end{pmatrix} \\\\\n",
        "&= \n",
        "\\begin{pmatrix}\n",
        "1 & 0 & 0 & 0 & 0 & 0 & 0 & 0 \\\\\n",
        "0 & 1 & 0 & 0 & 0 & 0 & 0 & 0 \\\\\n",
        "0 & 0 &-1 & 0 & 0 & 0 & 0 & 0 \\\\\n",
        "0 & 0 & 0 &-1 & 0 & 0 & 0 & 0 \\\\\n",
        "0 & 0 & 0 & 0 &-1 & 0 & 0 & 0 \\\\\n",
        "0 & 0 & 0 & 0 & 0 &-1 & 0 & 0 \\\\\n",
        "0 & 0 & 0 & 0 & 0 & 0 & 1 & 0 \\\\\n",
        "0 & 0 & 0 & 0 & 0 & 0 & 0 & 1 \n",
        "\\end{pmatrix}\n",
        "\\begin{pmatrix}\n",
        "1 \\\\ 0 \\\\ 0 \\\\ 0 \\\\ 0 \\\\ 0 \\\\ 0 \\\\ 0\n",
        "\\end{pmatrix} \\\\\n",
        "& = \n",
        "\\begin{pmatrix}\n",
        "1 \\\\ 0 \\\\ 0 \\\\ 0 \\\\ 0 \\\\ 0 \\\\ 0 \\\\ 0\n",
        "\\end{pmatrix}\\\\\n",
        "&= |000\\rangle\n",
        "\\end{align}\n",
        "\n",
        "We can see that $ZZI|000\\rangle = |000\\rangle$. We can verify this with a little Python code:"
      ]
    },
    {
      "cell_type": "markdown",
      "metadata": {
        "id": "qbymLFAARgWS"
      },
      "source": [
        "## Stabilizer Version of the Shor Code"
      ]
    },
    {
      "cell_type": "markdown",
      "metadata": {
        "id": "-rV93MN9RgWS"
      },
      "source": [
        "The eight generators for the stabilizer nine-qubit Shor code, along with the logical Z and logical X operators are given as follows:\n",
        "\n",
        "\\begin{align}\n",
        "g_1 &= ZZIIIIIII \\\\\n",
        "g_2 &= IZZIIIIII \\\\\n",
        "g_3 &= IIIZZIIII \\\\\n",
        "g_4 &= IIIIZZIII \\\\\n",
        "g_5 &= IIIIIIZZI \\\\\n",
        "g_6 &= IIIIIIIZZ \\\\\n",
        "g_7 &= XXXXXXIII \\\\\n",
        "g_8 &= IIIXXXXXX \\\\\n",
        "(\\text{logical}\\ X)\\ \\overline{Z} &= XXXXXXXXX \\\\\n",
        "(\\text{logical}\\ Z)\\ \\overline{X} &= ZZZZZZZZZ\n",
        "\\end{align}"
      ]
    },
    {
      "cell_type": "markdown",
      "metadata": {
        "id": "wDBB9Mv8RgWS"
      },
      "source": [
        "To verify that these indeed stabilize the Shor code, let's create the circuit for the Shor code in QISKit. "
      ]
    },
    {
      "cell_type": "code",
      "metadata": {
        "id": "nUbvcqGvRgWT"
      },
      "source": [
        "from qiskit import *\n",
        "%matplotlib inline"
      ],
      "execution_count": null,
      "outputs": []
    },
    {
      "cell_type": "code",
      "metadata": {
        "id": "4Rw537g5RgWT"
      },
      "source": [
        "qr = QuantumRegister(9)\n",
        "cr = ClassicalRegister(9)\n",
        "qc = QuantumCircuit(qr, cr)"
      ],
      "execution_count": null,
      "outputs": []
    },
    {
      "cell_type": "code",
      "metadata": {
        "id": "jE8OrZzvRgWT",
        "colab": {
          "base_uri": "https://localhost:8080/",
          "height": 504
        },
        "outputId": "a67a107a-b28d-458e-c818-8a7278f5c442"
      },
      "source": [
        "qc.cx(0,3)\n",
        "qc.cx(0,6)\n",
        "qc.h(0)\n",
        "qc.h(3)\n",
        "qc.h(6)\n",
        "qc.cx(0,1)\n",
        "qc.cx(0,2)\n",
        "qc.cx(3,4)\n",
        "qc.cx(3,5)\n",
        "qc.cx(6,7)\n",
        "qc.cx(6,8)\n",
        "qc.draw(output='mpl')"
      ],
      "execution_count": null,
      "outputs": [
        {
          "output_type": "execute_result",
          "data": {
            "image/png": "[encoded data removed]",
            "text/plain": [
              "<Figure size 400.578x626.08 with 1 Axes>"
            ]
          },
          "metadata": {
            "tags": []
          },
          "execution_count": 36
        }
      ]
    },
    {
      "cell_type": "markdown",
      "metadata": {
        "id": "y1mN7_TiRgWU"
      },
      "source": [
        "Now, let's print out the state vector."
      ]
    },
    {
      "cell_type": "code",
      "metadata": {
        "id": "27V5cnJbRgWU",
        "colab": {
          "base_uri": "https://localhost:8080/"
        },
        "outputId": "52623835-02a8-48d7-8010-2131e768e2a9"
      },
      "source": [
        "from qiskit.visualization import plot_bloch_multivector\n",
        "# Tell Qiskit how to simulate our circuit\n",
        "backend = Aer.get_backend('statevector_simulator') \n",
        "# Do the simulation, returning the state vector\n",
        "out_state = execute(qc,backend).result().get_statevector() \n",
        "# Display the output state vector\n",
        "out_state"
      ],
      "execution_count": null,
      "outputs": [
        {
          "output_type": "execute_result",
          "data": {
            "text/plain": [
              "array([0.35355339+0.j, 0.        +0.j, 0.        +0.j, 0.        +0.j,\n",
              "       0.        +0.j, 0.        +0.j, 0.        +0.j, 0.35355339+0.j,\n",
              "       0.        +0.j, 0.        +0.j, 0.        +0.j, 0.        +0.j,\n",
              "       0.        +0.j, 0.        +0.j, 0.        +0.j, 0.        +0.j,\n",
              "       0.        +0.j, 0.        +0.j, 0.        +0.j, 0.        +0.j,\n",
              "       0.        +0.j, 0.        +0.j, 0.        +0.j, 0.        +0.j,\n",
              "       0.        +0.j, 0.        +0.j, 0.        +0.j, 0.        +0.j,\n",
              "       0.        +0.j, 0.        +0.j, 0.        +0.j, 0.        +0.j,\n",
              "       0.        +0.j, 0.        +0.j, 0.        +0.j, 0.        +0.j,\n",
              "       0.        +0.j, 0.        +0.j, 0.        +0.j, 0.        +0.j,\n",
              "       0.        +0.j, 0.        +0.j, 0.        +0.j, 0.        +0.j,\n",
              "       0.        +0.j, 0.        +0.j, 0.        +0.j, 0.        +0.j,\n",
              "       0.        +0.j, 0.        +0.j, 0.        +0.j, 0.        +0.j,\n",
              "       0.        +0.j, 0.        +0.j, 0.        +0.j, 0.        +0.j,\n",
              "       0.35355339+0.j, 0.        +0.j, 0.        +0.j, 0.        +0.j,\n",
              "       0.        +0.j, 0.        +0.j, 0.        +0.j, 0.35355339+0.j,\n",
              "       0.        +0.j, 0.        +0.j, 0.        +0.j, 0.        +0.j,\n",
              "       0.        +0.j, 0.        +0.j, 0.        +0.j, 0.        +0.j,\n",
              "       0.        +0.j, 0.        +0.j, 0.        +0.j, 0.        +0.j,\n",
              "       0.        +0.j, 0.        +0.j, 0.        +0.j, 0.        +0.j,\n",
              "       0.        +0.j, 0.        +0.j, 0.        +0.j, 0.        +0.j,\n",
              "       0.        +0.j, 0.        +0.j, 0.        +0.j, 0.        +0.j,\n",
              "       0.        +0.j, 0.        +0.j, 0.        +0.j, 0.        +0.j,\n",
              "       0.        +0.j, 0.        +0.j, 0.        +0.j, 0.        +0.j,\n",
              "       0.        +0.j, 0.        +0.j, 0.        +0.j, 0.        +0.j,\n",
              "       0.        +0.j, 0.        +0.j, 0.        +0.j, 0.        +0.j,\n",
              "       0.        +0.j, 0.        +0.j, 0.        +0.j, 0.        +0.j,\n",
              "       0.        +0.j, 0.        +0.j, 0.        +0.j, 0.        +0.j,\n",
              "       0.        +0.j, 0.        +0.j, 0.        +0.j, 0.        +0.j,\n",
              "       0.        +0.j, 0.        +0.j, 0.        +0.j, 0.        +0.j,\n",
              "       0.        +0.j, 0.        +0.j, 0.        +0.j, 0.        +0.j,\n",
              "       0.        +0.j, 0.        +0.j, 0.        +0.j, 0.        +0.j,\n",
              "       0.        +0.j, 0.        +0.j, 0.        +0.j, 0.        +0.j,\n",
              "       0.        +0.j, 0.        +0.j, 0.        +0.j, 0.        +0.j,\n",
              "       0.        +0.j, 0.        +0.j, 0.        +0.j, 0.        +0.j,\n",
              "       0.        +0.j, 0.        +0.j, 0.        +0.j, 0.        +0.j,\n",
              "       0.        +0.j, 0.        +0.j, 0.        +0.j, 0.        +0.j,\n",
              "       0.        +0.j, 0.        +0.j, 0.        +0.j, 0.        +0.j,\n",
              "       0.        +0.j, 0.        +0.j, 0.        +0.j, 0.        +0.j,\n",
              "       0.        +0.j, 0.        +0.j, 0.        +0.j, 0.        +0.j,\n",
              "       0.        +0.j, 0.        +0.j, 0.        +0.j, 0.        +0.j,\n",
              "       0.        +0.j, 0.        +0.j, 0.        +0.j, 0.        +0.j,\n",
              "       0.        +0.j, 0.        +0.j, 0.        +0.j, 0.        +0.j,\n",
              "       0.        +0.j, 0.        +0.j, 0.        +0.j, 0.        +0.j,\n",
              "       0.        +0.j, 0.        +0.j, 0.        +0.j, 0.        +0.j,\n",
              "       0.        +0.j, 0.        +0.j, 0.        +0.j, 0.        +0.j,\n",
              "       0.        +0.j, 0.        +0.j, 0.        +0.j, 0.        +0.j,\n",
              "       0.        +0.j, 0.        +0.j, 0.        +0.j, 0.        +0.j,\n",
              "       0.        +0.j, 0.        +0.j, 0.        +0.j, 0.        +0.j,\n",
              "       0.        +0.j, 0.        +0.j, 0.        +0.j, 0.        +0.j,\n",
              "       0.        +0.j, 0.        +0.j, 0.        +0.j, 0.        +0.j,\n",
              "       0.        +0.j, 0.        +0.j, 0.        +0.j, 0.        +0.j,\n",
              "       0.        +0.j, 0.        +0.j, 0.        +0.j, 0.        +0.j,\n",
              "       0.        +0.j, 0.        +0.j, 0.        +0.j, 0.        +0.j,\n",
              "       0.        +0.j, 0.        +0.j, 0.        +0.j, 0.        +0.j,\n",
              "       0.        +0.j, 0.        +0.j, 0.        +0.j, 0.        +0.j,\n",
              "       0.        +0.j, 0.        +0.j, 0.        +0.j, 0.        +0.j,\n",
              "       0.        +0.j, 0.        +0.j, 0.        +0.j, 0.        +0.j,\n",
              "       0.        +0.j, 0.        +0.j, 0.        +0.j, 0.        +0.j,\n",
              "       0.        +0.j, 0.        +0.j, 0.        +0.j, 0.        +0.j,\n",
              "       0.        +0.j, 0.        +0.j, 0.        +0.j, 0.        +0.j,\n",
              "       0.        +0.j, 0.        +0.j, 0.        +0.j, 0.        +0.j,\n",
              "       0.        +0.j, 0.        +0.j, 0.        +0.j, 0.        +0.j,\n",
              "       0.        +0.j, 0.        +0.j, 0.        +0.j, 0.        +0.j,\n",
              "       0.        +0.j, 0.        +0.j, 0.        +0.j, 0.        +0.j,\n",
              "       0.        +0.j, 0.        +0.j, 0.        +0.j, 0.        +0.j,\n",
              "       0.        +0.j, 0.        +0.j, 0.        +0.j, 0.        +0.j,\n",
              "       0.        +0.j, 0.        +0.j, 0.        +0.j, 0.        +0.j,\n",
              "       0.        +0.j, 0.        +0.j, 0.        +0.j, 0.        +0.j,\n",
              "       0.        +0.j, 0.        +0.j, 0.        +0.j, 0.        +0.j,\n",
              "       0.        +0.j, 0.        +0.j, 0.        +0.j, 0.        +0.j,\n",
              "       0.        +0.j, 0.        +0.j, 0.        +0.j, 0.        +0.j,\n",
              "       0.        +0.j, 0.        +0.j, 0.        +0.j, 0.        +0.j,\n",
              "       0.        +0.j, 0.        +0.j, 0.        +0.j, 0.        +0.j,\n",
              "       0.        +0.j, 0.        +0.j, 0.        +0.j, 0.        +0.j,\n",
              "       0.        +0.j, 0.        +0.j, 0.        +0.j, 0.        +0.j,\n",
              "       0.        +0.j, 0.        +0.j, 0.        +0.j, 0.        +0.j,\n",
              "       0.        +0.j, 0.        +0.j, 0.        +0.j, 0.        +0.j,\n",
              "       0.        +0.j, 0.        +0.j, 0.        +0.j, 0.        +0.j,\n",
              "       0.        +0.j, 0.        +0.j, 0.        +0.j, 0.        +0.j,\n",
              "       0.        +0.j, 0.        +0.j, 0.        +0.j, 0.        +0.j,\n",
              "       0.        +0.j, 0.        +0.j, 0.        +0.j, 0.        +0.j,\n",
              "       0.        +0.j, 0.        +0.j, 0.        +0.j, 0.        +0.j,\n",
              "       0.        +0.j, 0.        +0.j, 0.        +0.j, 0.        +0.j,\n",
              "       0.        +0.j, 0.        +0.j, 0.        +0.j, 0.        +0.j,\n",
              "       0.        +0.j, 0.        +0.j, 0.        +0.j, 0.        +0.j,\n",
              "       0.        +0.j, 0.        +0.j, 0.        +0.j, 0.        +0.j,\n",
              "       0.        +0.j, 0.        +0.j, 0.        +0.j, 0.        +0.j,\n",
              "       0.        +0.j, 0.        +0.j, 0.        +0.j, 0.        +0.j,\n",
              "       0.        +0.j, 0.        +0.j, 0.        +0.j, 0.        +0.j,\n",
              "       0.        +0.j, 0.        +0.j, 0.        +0.j, 0.        +0.j,\n",
              "       0.        +0.j, 0.        +0.j, 0.        +0.j, 0.        +0.j,\n",
              "       0.        +0.j, 0.        +0.j, 0.        +0.j, 0.        +0.j,\n",
              "       0.        +0.j, 0.        +0.j, 0.        +0.j, 0.        +0.j,\n",
              "       0.        +0.j, 0.        +0.j, 0.        +0.j, 0.        +0.j,\n",
              "       0.        +0.j, 0.        +0.j, 0.        +0.j, 0.        +0.j,\n",
              "       0.        +0.j, 0.        +0.j, 0.        +0.j, 0.        +0.j,\n",
              "       0.        +0.j, 0.        +0.j, 0.        +0.j, 0.        +0.j,\n",
              "       0.        +0.j, 0.        +0.j, 0.        +0.j, 0.        +0.j,\n",
              "       0.        +0.j, 0.        +0.j, 0.        +0.j, 0.        +0.j,\n",
              "       0.        +0.j, 0.        +0.j, 0.        +0.j, 0.        +0.j,\n",
              "       0.        +0.j, 0.        +0.j, 0.        +0.j, 0.        +0.j,\n",
              "       0.        +0.j, 0.        +0.j, 0.        +0.j, 0.        +0.j,\n",
              "       0.        +0.j, 0.        +0.j, 0.        +0.j, 0.        +0.j,\n",
              "       0.        +0.j, 0.        +0.j, 0.        +0.j, 0.        +0.j,\n",
              "       0.        +0.j, 0.        +0.j, 0.        +0.j, 0.        +0.j,\n",
              "       0.        +0.j, 0.        +0.j, 0.        +0.j, 0.        +0.j,\n",
              "       0.        +0.j, 0.        +0.j, 0.        +0.j, 0.        +0.j,\n",
              "       0.        +0.j, 0.        +0.j, 0.        +0.j, 0.        +0.j,\n",
              "       0.        +0.j, 0.        +0.j, 0.        +0.j, 0.        +0.j,\n",
              "       0.        +0.j, 0.        +0.j, 0.        +0.j, 0.        +0.j,\n",
              "       0.        +0.j, 0.        +0.j, 0.        +0.j, 0.        +0.j,\n",
              "       0.35355339+0.j, 0.        +0.j, 0.        +0.j, 0.        +0.j,\n",
              "       0.        +0.j, 0.        +0.j, 0.        +0.j, 0.35355339+0.j,\n",
              "       0.        +0.j, 0.        +0.j, 0.        +0.j, 0.        +0.j,\n",
              "       0.        +0.j, 0.        +0.j, 0.        +0.j, 0.        +0.j,\n",
              "       0.        +0.j, 0.        +0.j, 0.        +0.j, 0.        +0.j,\n",
              "       0.        +0.j, 0.        +0.j, 0.        +0.j, 0.        +0.j,\n",
              "       0.        +0.j, 0.        +0.j, 0.        +0.j, 0.        +0.j,\n",
              "       0.        +0.j, 0.        +0.j, 0.        +0.j, 0.        +0.j,\n",
              "       0.        +0.j, 0.        +0.j, 0.        +0.j, 0.        +0.j,\n",
              "       0.        +0.j, 0.        +0.j, 0.        +0.j, 0.        +0.j,\n",
              "       0.        +0.j, 0.        +0.j, 0.        +0.j, 0.        +0.j,\n",
              "       0.        +0.j, 0.        +0.j, 0.        +0.j, 0.        +0.j,\n",
              "       0.        +0.j, 0.        +0.j, 0.        +0.j, 0.        +0.j,\n",
              "       0.        +0.j, 0.        +0.j, 0.        +0.j, 0.        +0.j,\n",
              "       0.35355339+0.j, 0.        +0.j, 0.        +0.j, 0.        +0.j,\n",
              "       0.        +0.j, 0.        +0.j, 0.        +0.j, 0.35355339+0.j])"
            ]
          },
          "metadata": {
            "tags": []
          },
          "execution_count": 37
        }
      ]
    },
    {
      "cell_type": "code",
      "metadata": {
        "id": "MK7PPYEcRgWV",
        "colab": {
          "base_uri": "https://localhost:8080/",
          "height": 504
        },
        "outputId": "4ffbcc51-4434-49b5-d62a-9e9fc67f9858"
      },
      "source": [
        "qc.z(0)\n",
        "qc.z(1)\n",
        "qc.draw(output='mpl')"
      ],
      "execution_count": null,
      "outputs": [
        {
          "output_type": "execute_result",
          "data": {
            "image/png": "[encoded data removed]",
            "text/plain": [
              "<Figure size 460.778x626.08 with 1 Axes>"
            ]
          },
          "metadata": {
            "tags": []
          },
          "execution_count": 38
        }
      ]
    },
    {
      "cell_type": "code",
      "metadata": {
        "id": "8zdBG4WNRgWW"
      },
      "source": [
        "# Tell Qiskit how to simulate our circuit\n",
        "backend = Aer.get_backend('statevector_simulator') \n",
        "# Do the simulation, returning the state vector\n",
        "out_state_2 = execute(qc,backend).result().get_statevector() \n",
        "# Display the output state vector"
      ],
      "execution_count": null,
      "outputs": []
    },
    {
      "cell_type": "code",
      "metadata": {
        "id": "MjDXxvQxRgWW",
        "colab": {
          "base_uri": "https://localhost:8080/"
        },
        "outputId": "fc2f9088-7507-4f8f-80ad-28f116f3878c"
      },
      "source": [
        "out_state == out_state_2"
      ],
      "execution_count": null,
      "outputs": [
        {
          "output_type": "execute_result",
          "data": {
            "text/plain": [
              "array([ True,  True,  True,  True,  True,  True,  True,  True,  True,\n",
              "        True,  True,  True,  True,  True,  True,  True,  True,  True,\n",
              "        True,  True,  True,  True,  True,  True,  True,  True,  True,\n",
              "        True,  True,  True,  True,  True,  True,  True,  True,  True,\n",
              "        True,  True,  True,  True,  True,  True,  True,  True,  True,\n",
              "        True,  True,  True,  True,  True,  True,  True,  True,  True,\n",
              "        True,  True,  True,  True,  True,  True,  True,  True,  True,\n",
              "        True,  True,  True,  True,  True,  True,  True,  True,  True,\n",
              "        True,  True,  True,  True,  True,  True,  True,  True,  True,\n",
              "        True,  True,  True,  True,  True,  True,  True,  True,  True,\n",
              "        True,  True,  True,  True,  True,  True,  True,  True,  True,\n",
              "        True,  True,  True,  True,  True,  True,  True,  True,  True,\n",
              "        True,  True,  True,  True,  True,  True,  True,  True,  True,\n",
              "        True,  True,  True,  True,  True,  True,  True,  True,  True,\n",
              "        True,  True,  True,  True,  True,  True,  True,  True,  True,\n",
              "        True,  True,  True,  True,  True,  True,  True,  True,  True,\n",
              "        True,  True,  True,  True,  True,  True,  True,  True,  True,\n",
              "        True,  True,  True,  True,  True,  True,  True,  True,  True,\n",
              "        True,  True,  True,  True,  True,  True,  True,  True,  True,\n",
              "        True,  True,  True,  True,  True,  True,  True,  True,  True,\n",
              "        True,  True,  True,  True,  True,  True,  True,  True,  True,\n",
              "        True,  True,  True,  True,  True,  True,  True,  True,  True,\n",
              "        True,  True,  True,  True,  True,  True,  True,  True,  True,\n",
              "        True,  True,  True,  True,  True,  True,  True,  True,  True,\n",
              "        True,  True,  True,  True,  True,  True,  True,  True,  True,\n",
              "        True,  True,  True,  True,  True,  True,  True,  True,  True,\n",
              "        True,  True,  True,  True,  True,  True,  True,  True,  True,\n",
              "        True,  True,  True,  True,  True,  True,  True,  True,  True,\n",
              "        True,  True,  True,  True,  True,  True,  True,  True,  True,\n",
              "        True,  True,  True,  True,  True,  True,  True,  True,  True,\n",
              "        True,  True,  True,  True,  True,  True,  True,  True,  True,\n",
              "        True,  True,  True,  True,  True,  True,  True,  True,  True,\n",
              "        True,  True,  True,  True,  True,  True,  True,  True,  True,\n",
              "        True,  True,  True,  True,  True,  True,  True,  True,  True,\n",
              "        True,  True,  True,  True,  True,  True,  True,  True,  True,\n",
              "        True,  True,  True,  True,  True,  True,  True,  True,  True,\n",
              "        True,  True,  True,  True,  True,  True,  True,  True,  True,\n",
              "        True,  True,  True,  True,  True,  True,  True,  True,  True,\n",
              "        True,  True,  True,  True,  True,  True,  True,  True,  True,\n",
              "        True,  True,  True,  True,  True,  True,  True,  True,  True,\n",
              "        True,  True,  True,  True,  True,  True,  True,  True,  True,\n",
              "        True,  True,  True,  True,  True,  True,  True,  True,  True,\n",
              "        True,  True,  True,  True,  True,  True,  True,  True,  True,\n",
              "        True,  True,  True,  True,  True,  True,  True,  True,  True,\n",
              "        True,  True,  True,  True,  True,  True,  True,  True,  True,\n",
              "        True,  True,  True,  True,  True,  True,  True,  True,  True,\n",
              "        True,  True,  True,  True,  True,  True,  True,  True,  True,\n",
              "        True,  True,  True,  True,  True,  True,  True,  True,  True,\n",
              "        True,  True,  True,  True,  True,  True,  True,  True,  True,\n",
              "        True,  True,  True,  True,  True,  True,  True,  True,  True,\n",
              "        True,  True,  True,  True,  True,  True,  True,  True,  True,\n",
              "        True,  True,  True,  True,  True,  True,  True,  True,  True,\n",
              "        True,  True,  True,  True,  True,  True,  True,  True,  True,\n",
              "        True,  True,  True,  True,  True,  True,  True,  True,  True,\n",
              "        True,  True,  True,  True,  True,  True,  True,  True,  True,\n",
              "        True,  True,  True,  True,  True,  True,  True,  True,  True,\n",
              "        True,  True,  True,  True,  True,  True,  True,  True])"
            ]
          },
          "metadata": {
            "tags": []
          },
          "execution_count": 40
        }
      ]
    },
    {
      "cell_type": "markdown",
      "metadata": {
        "id": "cDDUUGKoRgWX"
      },
      "source": [
        "This clearly shows that the first stabilizer generator in the table indeed preserves the state vector of the circuit. "
      ]
    }
  ]
}