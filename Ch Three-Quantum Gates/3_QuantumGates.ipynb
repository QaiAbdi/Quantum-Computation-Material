{
  "nbformat": 4,
  "nbformat_minor": 0,
  "metadata": {
    "colab": {
      "name": "3_QuantumGates.ipynb",
      "provenance": [],
      "collapsed_sections": []
    },
    "kernelspec": {
      "display_name": "Python 3",
      "language": "python",
      "name": "python3"
    },
    "language_info": {
      "codemirror_mode": {
        "name": "ipython",
        "version": 3
      },
      "file_extension": ".py",
      "mimetype": "text/x-python",
      "name": "python",
      "nbconvert_exporter": "python",
      "pygments_lexer": "ipython3",
      "version": "3.7.4"
    }
  },
  "cells": [
    {
      "cell_type": "markdown",
      "metadata": {
        "id": "TU7pxcAlIr_R"
      },
      "source": [
        "## QuantumGates"
      ]
    },
    {
      "cell_type": "code",
      "metadata": {
        "colab": {
          "base_uri": "https://localhost:8080/"
        },
        "id": "9AvWxOq5WC-A",
        "outputId": "aa79ccc1-9ed3-4203-ab64-580fa6732f75"
      },
      "source": [
        "!pip install qiskit\n",
        "!pip install pylatexenc"
      ],
      "execution_count": null,
      "outputs": [
        {
          "output_type": "stream",
          "text": [
            "Collecting qiskit\n",
            "  Downloading https://files.pythonhosted.org/packages/f7/4c/2d3065e1feca573a6f9f5f53d6d9db3896d50b6575191e33401956608955/qiskit-0.24.1.tar.gz\n",
            "Collecting qiskit-terra==0.16.4\n",
            "\u001b[?25l  Downloading https://files.pythonhosted.org/packages/89/64/d70a10bce894ec81a227aabc47305449b48bcffd7dde76d30e7cea6c9786/qiskit_terra-0.16.4-cp37-cp37m-manylinux2010_x86_64.whl (8.5MB)\n",
            "\u001b[K     |████████████████████████████████| 8.5MB 7.3MB/s \n",
            "\u001b[?25hCollecting qiskit-aer==0.7.6\n",
            "\u001b[?25l  Downloading https://files.pythonhosted.org/packages/03/98/735a869724392a8fa084a65d601a8c8940aacdc4c245aba9a65d9a2669ec/qiskit_aer-0.7.6-cp37-cp37m-manylinux2010_x86_64.whl (17.6MB)\n",
            "\u001b[K     |████████████████████████████████| 17.6MB 221kB/s \n",
            "\u001b[?25hCollecting qiskit-ibmq-provider==0.12.2\n",
            "\u001b[?25l  Downloading https://files.pythonhosted.org/packages/08/ac/69bb35892303c3a4a52eaaf7ea95431dd3f57963b580a011ee92693a7fcc/qiskit_ibmq_provider-0.12.2-py3-none-any.whl (198kB)\n",
            "\u001b[K     |████████████████████████████████| 204kB 46.5MB/s \n",
            "\u001b[?25hCollecting qiskit-ignis==0.5.2\n",
            "\u001b[?25l  Downloading https://files.pythonhosted.org/packages/b2/1d/d5df8cf48cf20a26deb6e0535f020cd2ad625cb27457abb0ab39c2104e38/qiskit_ignis-0.5.2-py3-none-any.whl (203kB)\n",
            "\u001b[K     |████████████████████████████████| 204kB 50.0MB/s \n",
            "\u001b[?25hCollecting qiskit-aqua==0.8.2\n",
            "\u001b[?25l  Downloading https://files.pythonhosted.org/packages/0e/82/528741676960a7fd1c75151639601826118f2729ad53034fa3b39290c056/qiskit_aqua-0.8.2-py3-none-any.whl (2.1MB)\n",
            "\u001b[K     |████████████████████████████████| 2.1MB 46.2MB/s \n",
            "\u001b[?25hRequirement already satisfied: numpy>=1.17 in /usr/local/lib/python3.7/dist-packages (from qiskit-terra==0.16.4->qiskit) (1.19.5)\n",
            "Collecting python-constraint>=1.4\n",
            "  Downloading https://files.pythonhosted.org/packages/37/8b/5f1bc2734ca611943e1d6733ee244238679f6410a10cd45ede55a61a8402/python-constraint-1.4.0.tar.bz2\n",
            "Collecting ply>=3.10\n",
            "\u001b[?25l  Downloading https://files.pythonhosted.org/packages/a3/58/35da89ee790598a0700ea49b2a66594140f44dec458c07e8e3d4979137fc/ply-3.11-py2.py3-none-any.whl (49kB)\n",
            "\u001b[K     |████████████████████████████████| 51kB 5.0MB/s \n",
            "\u001b[?25hRequirement already satisfied: python-dateutil>=2.8.0 in /usr/local/lib/python3.7/dist-packages (from qiskit-terra==0.16.4->qiskit) (2.8.1)\n",
            "Requirement already satisfied: dill>=0.3 in /usr/local/lib/python3.7/dist-packages (from qiskit-terra==0.16.4->qiskit) (0.3.3)\n",
            "Requirement already satisfied: networkx>=2.2 in /usr/local/lib/python3.7/dist-packages (from qiskit-terra==0.16.4->qiskit) (2.5)\n",
            "Requirement already satisfied: psutil>=5 in /usr/local/lib/python3.7/dist-packages (from qiskit-terra==0.16.4->qiskit) (5.4.8)\n",
            "Requirement already satisfied: scipy>=1.4 in /usr/local/lib/python3.7/dist-packages (from qiskit-terra==0.16.4->qiskit) (1.4.1)\n",
            "Collecting fastjsonschema>=2.10\n",
            "  Downloading https://files.pythonhosted.org/packages/89/1c/8be51fa42aadc1c1611a52b866e1a5a1032a504f24789cf140b4e6d7c940/fastjsonschema-2.15.0-py3-none-any.whl\n",
            "Requirement already satisfied: sympy>=1.3 in /usr/local/lib/python3.7/dist-packages (from qiskit-terra==0.16.4->qiskit) (1.7.1)\n",
            "Collecting retworkx>=0.5.0\n",
            "\u001b[?25l  Downloading https://files.pythonhosted.org/packages/1b/92/f007f8b9d88dcd5b90e363967e5d54431a68c5fe06d83400732e3b438084/retworkx-0.8.0-cp37-cp37m-manylinux2010_x86_64.whl (1.0MB)\n",
            "\u001b[K     |████████████████████████████████| 1.0MB 34.2MB/s \n",
            "\u001b[?25hRequirement already satisfied: jsonschema>=2.6 in /usr/local/lib/python3.7/dist-packages (from qiskit-terra==0.16.4->qiskit) (2.6.0)\n",
            "Requirement already satisfied: cython>=0.27.1 in /usr/local/lib/python3.7/dist-packages (from qiskit-aer==0.7.6->qiskit) (0.29.22)\n",
            "Collecting pybind11>=2.4\n",
            "\u001b[?25l  Downloading https://files.pythonhosted.org/packages/8d/43/7339dbabbc2793718d59703aace4166f53c29ee1c202f6ff5bf8a26c4d91/pybind11-2.6.2-py2.py3-none-any.whl (191kB)\n",
            "\u001b[K     |████████████████████████████████| 194kB 33.1MB/s \n",
            "\u001b[?25hCollecting websockets>=8\n",
            "\u001b[?25l  Downloading https://files.pythonhosted.org/packages/5a/0b/3ebc752392a368af14dd24ee041683416ac6d2463eead94b311b11e41c82/websockets-8.1-cp37-cp37m-manylinux2010_x86_64.whl (79kB)\n",
            "\u001b[K     |████████████████████████████████| 81kB 7.6MB/s \n",
            "\u001b[?25hCollecting requests-ntlm>=1.1.0\n",
            "  Downloading https://files.pythonhosted.org/packages/03/4b/8b9a1afde8072c4d5710d9fa91433d504325821b038e00237dc8d6d833dc/requests_ntlm-1.1.0-py2.py3-none-any.whl\n",
            "Requirement already satisfied: nest-asyncio!=1.1.0,>=1.0.0 in /usr/local/lib/python3.7/dist-packages (from qiskit-ibmq-provider==0.12.2->qiskit) (1.5.1)\n",
            "Requirement already satisfied: urllib3>=1.21.1 in /usr/local/lib/python3.7/dist-packages (from qiskit-ibmq-provider==0.12.2->qiskit) (1.24.3)\n",
            "Requirement already satisfied: requests>=2.19 in /usr/local/lib/python3.7/dist-packages (from qiskit-ibmq-provider==0.12.2->qiskit) (2.23.0)\n",
            "Requirement already satisfied: setuptools>=40.1.0 in /usr/local/lib/python3.7/dist-packages (from qiskit-ignis==0.5.2->qiskit) (54.2.0)\n",
            "Requirement already satisfied: scikit-learn>=0.17 in /usr/local/lib/python3.7/dist-packages (from qiskit-ignis==0.5.2->qiskit) (0.22.2.post1)\n",
            "Requirement already satisfied: fastdtw in /usr/local/lib/python3.7/dist-packages (from qiskit-aqua==0.8.2->qiskit) (0.3.4)\n",
            "Requirement already satisfied: pandas in /usr/local/lib/python3.7/dist-packages (from qiskit-aqua==0.8.2->qiskit) (1.1.5)\n",
            "Requirement already satisfied: h5py in /usr/local/lib/python3.7/dist-packages (from qiskit-aqua==0.8.2->qiskit) (2.10.0)\n",
            "Collecting quandl\n",
            "  Downloading https://files.pythonhosted.org/packages/8b/2b/feefb36015beaecc5c0f9f2533e815b409621d9fa7b50b2aac621796f828/Quandl-3.6.1-py2.py3-none-any.whl\n",
            "Collecting dlx\n",
            "  Downloading https://files.pythonhosted.org/packages/54/c0/b8fb5bb727e983b6f5251433ef941b48f38c65bb0bd6ec509e9185bcd406/dlx-1.0.4.tar.gz\n",
            "Collecting docplex==2.15.194\n",
            "\u001b[?25l  Downloading https://files.pythonhosted.org/packages/9b/76/ebf5b75a25c4357c9a4758cae7fea778dd7f282b83c2f22e150dc7e3c852/docplex-2.15.194.tar.gz (582kB)\n",
            "\u001b[K     |████████████████████████████████| 583kB 38.2MB/s \n",
            "\u001b[?25hCollecting yfinance\n",
            "  Downloading https://files.pythonhosted.org/packages/a7/ee/315752b9ef281ba83c62aa7ec2e2074f85223da6e7e74efb4d3e11c0f510/yfinance-0.1.59.tar.gz\n",
            "Requirement already satisfied: six>=1.5 in /usr/local/lib/python3.7/dist-packages (from python-dateutil>=2.8.0->qiskit-terra==0.16.4->qiskit) (1.15.0)\n",
            "Requirement already satisfied: decorator>=4.3.0 in /usr/local/lib/python3.7/dist-packages (from networkx>=2.2->qiskit-terra==0.16.4->qiskit) (4.4.2)\n",
            "Requirement already satisfied: mpmath>=0.19 in /usr/local/lib/python3.7/dist-packages (from sympy>=1.3->qiskit-terra==0.16.4->qiskit) (1.2.1)\n",
            "Collecting cryptography>=1.3\n",
            "\u001b[?25l  Downloading https://files.pythonhosted.org/packages/b2/26/7af637e6a7e87258b963f1731c5982fb31cd507f0d90d91836e446955d02/cryptography-3.4.7-cp36-abi3-manylinux2014_x86_64.whl (3.2MB)\n",
            "\u001b[K     |████████████████████████████████| 3.2MB 32.5MB/s \n",
            "\u001b[?25hCollecting ntlm-auth>=1.0.2\n",
            "  Downloading https://files.pythonhosted.org/packages/ff/84/97c550164b54942b0e908c31ef09d9469f3ba4cd7332a671e2125732f63b/ntlm_auth-1.5.0-py2.py3-none-any.whl\n",
            "Requirement already satisfied: certifi>=2017.4.17 in /usr/local/lib/python3.7/dist-packages (from requests>=2.19->qiskit-ibmq-provider==0.12.2->qiskit) (2020.12.5)\n",
            "Requirement already satisfied: idna<3,>=2.5 in /usr/local/lib/python3.7/dist-packages (from requests>=2.19->qiskit-ibmq-provider==0.12.2->qiskit) (2.10)\n",
            "Requirement already satisfied: chardet<4,>=3.0.2 in /usr/local/lib/python3.7/dist-packages (from requests>=2.19->qiskit-ibmq-provider==0.12.2->qiskit) (3.0.4)\n",
            "Requirement already satisfied: joblib>=0.11 in /usr/local/lib/python3.7/dist-packages (from scikit-learn>=0.17->qiskit-ignis==0.5.2->qiskit) (1.0.1)\n",
            "Requirement already satisfied: pytz>=2017.2 in /usr/local/lib/python3.7/dist-packages (from pandas->qiskit-aqua==0.8.2->qiskit) (2018.9)\n",
            "Requirement already satisfied: more-itertools in /usr/local/lib/python3.7/dist-packages (from quandl->qiskit-aqua==0.8.2->qiskit) (8.7.0)\n",
            "Collecting inflection>=0.3.1\n",
            "  Downloading https://files.pythonhosted.org/packages/59/91/aa6bde563e0085a02a435aa99b49ef75b0a4b062635e606dab23ce18d720/inflection-0.5.1-py2.py3-none-any.whl\n",
            "Requirement already satisfied: multitasking>=0.0.7 in /usr/local/lib/python3.7/dist-packages (from yfinance->qiskit-aqua==0.8.2->qiskit) (0.0.9)\n",
            "Collecting lxml>=4.5.1\n",
            "\u001b[?25l  Downloading https://files.pythonhosted.org/packages/cf/4d/6537313bf58fe22b508f08cf3eb86b29b6f9edf68e00454224539421073b/lxml-4.6.3-cp37-cp37m-manylinux1_x86_64.whl (5.5MB)\n",
            "\u001b[K     |████████████████████████████████| 5.5MB 38.4MB/s \n",
            "\u001b[?25hRequirement already satisfied: cffi>=1.12 in /usr/local/lib/python3.7/dist-packages (from cryptography>=1.3->requests-ntlm>=1.1.0->qiskit-ibmq-provider==0.12.2->qiskit) (1.14.5)\n",
            "Requirement already satisfied: pycparser in /usr/local/lib/python3.7/dist-packages (from cffi>=1.12->cryptography>=1.3->requests-ntlm>=1.1.0->qiskit-ibmq-provider==0.12.2->qiskit) (2.20)\n",
            "Building wheels for collected packages: qiskit, python-constraint, dlx, docplex, yfinance\n",
            "  Building wheel for qiskit (setup.py) ... \u001b[?25l\u001b[?25hdone\n",
            "  Created wheel for qiskit: filename=qiskit-0.24.1-cp37-none-any.whl size=2919 sha256=265267b04b78303af18b6e94e505b98ed8503e1ce27def9b14056e035fab2ccb\n",
            "  Stored in directory: /root/.cache/pip/wheels/4a/3e/be/606704f95c92255208f2c6c571d95cc075a12d8672515ec7a5\n",
            "  Building wheel for python-constraint (setup.py) ... \u001b[?25l\u001b[?25hdone\n",
            "  Created wheel for python-constraint: filename=python_constraint-1.4.0-py2.py3-none-any.whl size=24079 sha256=f9b58907b1c7a1a560d42d030b530b50d6c14f1f42ddd5d549e18b8b17bc1d9b\n",
            "  Stored in directory: /root/.cache/pip/wheels/34/31/15/7b070b25d0a549d20ce2e9fe6d727471c2c61ef904720fd40c\n",
            "  Building wheel for dlx (setup.py) ... \u001b[?25l\u001b[?25hdone\n",
            "  Created wheel for dlx: filename=dlx-1.0.4-cp37-none-any.whl size=5712 sha256=0de641b99278277fea57d995f164b0157fa32ea93b8ee3f8ca15627abc83ea6b\n",
            "  Stored in directory: /root/.cache/pip/wheels/bb/ba/15/fdd0deb104df3254912998150ba9245668db06b00af5912d1a\n",
            "  Building wheel for docplex (setup.py) ... \u001b[?25l\u001b[?25hdone\n",
            "  Created wheel for docplex: filename=docplex-2.15.194-cp37-none-any.whl size=645116 sha256=2165be4ba795d1e6272a6e4cbbe107cc75e7923dbf8bc4a9169106144301908f\n",
            "  Stored in directory: /root/.cache/pip/wheels/ce/fa/5d/8f4d5fed1b8edb72e453cb2ac6fb75c6776b49d7174eb70457\n",
            "  Building wheel for yfinance (setup.py) ... \u001b[?25l\u001b[?25hdone\n",
            "  Created wheel for yfinance: filename=yfinance-0.1.59-py2.py3-none-any.whl size=23442 sha256=dea0d2a3739829c688d8b895df9326bccf5957562a8cb786bc60123dcee616a5\n",
            "  Stored in directory: /root/.cache/pip/wheels/f8/2a/0f/4b5a86e1d52e451757eb6bc17fd899629f0925c777741b6d04\n",
            "Successfully built qiskit python-constraint dlx docplex yfinance\n",
            "Installing collected packages: python-constraint, ply, fastjsonschema, retworkx, qiskit-terra, pybind11, qiskit-aer, websockets, cryptography, ntlm-auth, requests-ntlm, qiskit-ibmq-provider, qiskit-ignis, inflection, quandl, dlx, docplex, lxml, yfinance, qiskit-aqua, qiskit\n",
            "  Found existing installation: lxml 4.2.6\n",
            "    Uninstalling lxml-4.2.6:\n",
            "      Successfully uninstalled lxml-4.2.6\n",
            "Successfully installed cryptography-3.4.7 dlx-1.0.4 docplex-2.15.194 fastjsonschema-2.15.0 inflection-0.5.1 lxml-4.6.3 ntlm-auth-1.5.0 ply-3.11 pybind11-2.6.2 python-constraint-1.4.0 qiskit-0.24.1 qiskit-aer-0.7.6 qiskit-aqua-0.8.2 qiskit-ibmq-provider-0.12.2 qiskit-ignis-0.5.2 qiskit-terra-0.16.4 quandl-3.6.1 requests-ntlm-1.1.0 retworkx-0.8.0 websockets-8.1 yfinance-0.1.59\n",
            "Collecting pylatexenc\n",
            "\u001b[?25l  Downloading https://files.pythonhosted.org/packages/ee/bd/aab29298c50e36ecabb94caaebdadce78ef609b3b185456413f866c7abd5/pylatexenc-2.9.tar.gz (159kB)\n",
            "\u001b[K     |████████████████████████████████| 163kB 10.6MB/s \n",
            "\u001b[?25hBuilding wheels for collected packages: pylatexenc\n",
            "  Building wheel for pylatexenc (setup.py) ... \u001b[?25l\u001b[?25hdone\n",
            "  Created wheel for pylatexenc: filename=pylatexenc-2.9-cp37-none-any.whl size=131522 sha256=bd90aa665c3cc38bffd04073f57756efe075462590c65dc12ae0db7bca008b6d\n",
            "  Stored in directory: /root/.cache/pip/wheels/5f/86/11/64616b16465470fd7a5396909953c0e83b3137159b78cc0352\n",
            "Successfully built pylatexenc\n",
            "Installing collected packages: pylatexenc\n",
            "Successfully installed pylatexenc-2.9\n"
          ],
          "name": "stdout"
        }
      ]
    },
    {
      "cell_type": "markdown",
      "metadata": {
        "id": "06waOmB_nSy9"
      },
      "source": [
        "# __Single Qubit Gates__\n"
      ]
    },
    {
      "cell_type": "markdown",
      "metadata": {
        "id": "DpDuC8H-7xGA"
      },
      "source": [
        "Previous lesson,  three different simulators:\n",
        "- unitary_simulator\n",
        "- qasm_simulator\n",
        "- statevector_simulator"
      ]
    },
    {
      "cell_type": "code",
      "metadata": {
        "id": "erB70NHRNnCV"
      },
      "source": [
        "from qiskit import *\n",
        "from qiskit.visualization import plot_bloch_multivector\n",
        "import matplotlib.pyplot as plt\n"
      ],
      "execution_count": null,
      "outputs": []
    },
    {
      "cell_type": "code",
      "metadata": {
        "id": "NbIdj3qXNpEW"
      },
      "source": [
        "back_state = BasicAer.get_backend('statevector_simulator')\n",
        "back_uni = BasicAer.get_backend('unitary_simulator')"
      ],
      "execution_count": null,
      "outputs": []
    },
    {
      "cell_type": "markdown",
      "metadata": {
        "id": "OhT-JyZVnZc2"
      },
      "source": [
        "The single-qubit gates available are:\n",
        "- u gates\n",
        "- Identity gate\n",
        "- Pauli gates\n",
        "- Clifford gates\n",
        "- $C3$ gates\n",
        "- Standard rotation gates "
      ]
    },
    {
      "cell_type": "markdown",
      "metadata": {
        "id": "WO6rl4QuOnel"
      },
      "source": [
        "__U Gates__"
      ]
    },
    {
      "cell_type": "markdown",
      "metadata": {
        "id": "nW8DhwWvPvMo"
      },
      "source": [
        "<math xmlns=\"http://www.w3.org/1998/Math/MathML\" display=\"block\">\n",
        "  <mi>U</mi>\n",
        "  <mo stretchy=\"false\">(</mo>\n",
        "  <mi>&#x03B8;<!-- θ --></mi>\n",
        "  <mo>,</mo>\n",
        "  <mi>&#x03D5;<!-- ϕ --></mi>\n",
        "  <mo>,</mo>\n",
        "  <mi>&#x03BB;<!-- λ --></mi>\n",
        "  <mo stretchy=\"false\">)</mo>\n",
        "  <mo>=</mo>\n",
        "  <mi>R</mi>\n",
        "  <mi>Z</mi>\n",
        "  <mo stretchy=\"false\">(</mo>\n",
        "  <mi>&#x03D5;<!-- ϕ --></mi>\n",
        "  <mo>&#x2212;<!-- − --></mo>\n",
        "  <mi>&#x03C0;<!-- π --></mi>\n",
        "  <mo>/</mo>\n",
        "  <mn>2</mn>\n",
        "  <mo stretchy=\"false\">)</mo>\n",
        "  <mi>R</mi>\n",
        "  <mi>X</mi>\n",
        "  <mo stretchy=\"false\">(</mo>\n",
        "  <mi>&#x03C0;<!-- π --></mi>\n",
        "  <mo>/</mo>\n",
        "  <mn>2</mn>\n",
        "  <mo stretchy=\"false\">)</mo>\n",
        "  <mi>R</mi>\n",
        "  <mi>Z</mi>\n",
        "  <mo stretchy=\"false\">(</mo>\n",
        "  <mi>&#x03C0;<!-- π --></mi>\n",
        "  <mo>&#x2212;<!-- − --></mo>\n",
        "  <mi>&#x03B8;<!-- θ --></mi>\n",
        "  <mo stretchy=\"false\">)</mo>\n",
        "  <mi>R</mi>\n",
        "  <mi>X</mi>\n",
        "  <mo stretchy=\"false\">(</mo>\n",
        "  <mi>&#x03C0;<!-- π --></mi>\n",
        "  <mo>/</mo>\n",
        "  <mn>2</mn>\n",
        "  <mo stretchy=\"false\">)</mo>\n",
        "  <mi>R</mi>\n",
        "  <mi>Z</mi>\n",
        "  <mo stretchy=\"false\">(</mo>\n",
        "  <mi>&#x03BB;<!-- λ --></mi>\n",
        "  <mo>&#x2212;<!-- − --></mo>\n",
        "  <mi>&#x03C0;<!-- π --></mi>\n",
        "  <mo>/</mo>\n",
        "  <mn>2</mn>\n",
        "  <mo stretchy=\"false\">)</mo>\n",
        "</math>"
      ]
    },
    {
      "cell_type": "markdown",
      "metadata": {
        "id": "Oe1Y9e0BWbwn"
      },
      "source": [
        "$$\n",
        "U = \\begin{pmatrix}\n",
        "\\cos(\\theta/2) & -e^{i\\lambda}\\sin(\\theta/2) \\\\\n",
        "e^{i\\phi}\\sin(\\theta/2) & e^{i\\lambda+i\\phi}\\cos(\\theta/2) \n",
        "\\end{pmatrix}.\n",
        "$$"
      ]
    },
    {
      "cell_type": "markdown",
      "metadata": {
        "id": "P3sMuUT0Wmxy"
      },
      "source": [
        "In qiskit: \n",
        "$$\n",
        "u3(\\theta, \\phi, \\lambda) = U(\\theta, \\phi, \\lambda) \n",
        "$$"
      ]
    },
    {
      "cell_type": "code",
      "metadata": {
        "colab": {
          "base_uri": "https://localhost:8080/",
          "height": 149
        },
        "id": "4T0hLv1rOnen",
        "outputId": "8abb2873-e049-4a12-fe79-56e520f79267"
      },
      "source": [
        "import numpy as np\n",
        "\n",
        "qc = QuantumCircuit(1)\n",
        "qc.u3(np.pi/2, np.pi/2, np.pi/2, [0])\n",
        "\n",
        "qc.draw('mpl')"
      ],
      "execution_count": null,
      "outputs": [
        {
          "output_type": "stream",
          "text": [
            "/usr/local/lib/python3.7/dist-packages/ipykernel_launcher.py:4: DeprecationWarning: The QuantumCircuit.u3 method is deprecated as of 0.16.0. It will be removed no earlier than 3 months after the release date. You should use QuantumCircuit.u instead, which acts identically. Alternatively, you can decompose u3 in terms of QuantumCircuit.p and QuantumCircuit.sx: u3(ϴ,φ,λ) = p(φ+π) sx p(ϴ+π) sx p(λ) (2 pulses on hardware).\n",
            "  after removing the cwd from sys.path.\n"
          ],
          "name": "stderr"
        },
        {
          "output_type": "execute_result",
          "data": {
            "image/png": "[encoded data removed]",
            "text/plain": [
              "<Figure size 193.726x84.28 with 1 Axes>"
            ]
          },
          "metadata": {
            "tags": []
          },
          "execution_count": 7
        }
      ]
    },
    {
      "cell_type": "code",
      "metadata": {
        "colab": {
          "base_uri": "https://localhost:8080/"
        },
        "id": "hG14EI8MZQ2i",
        "outputId": "1dd95ebd-1ade-4e3b-93b5-ff7470e4ee8c"
      },
      "source": [
        "job = execute(qc, back_uni)\n",
        "job.result().get_unitary(qc)"
      ],
      "execution_count": null,
      "outputs": [
        {
          "output_type": "execute_result",
          "data": {
            "text/plain": [
              "array([[ 7.07106781e-01+0.00000000e+00j, -4.32978028e-17-7.07106781e-01j],\n",
              "       [ 4.32978028e-17+7.07106781e-01j, -7.07106781e-01+8.65956056e-17j]])"
            ]
          },
          "metadata": {
            "tags": []
          },
          "execution_count": 9
        }
      ]
    },
    {
      "cell_type": "code",
      "metadata": {
        "colab": {
          "base_uri": "https://localhost:8080/",
          "height": 268
        },
        "id": "2hVVwWAsaCuD",
        "outputId": "9fc253ec-e7cb-4cb4-c168-5cba069125a8"
      },
      "source": [
        "result = execute(qc,back_state)\n",
        "state = result.result().get_statevector(qc)\n",
        "plot_bloch_multivector(state)"
      ],
      "execution_count": null,
      "outputs": [
        {
          "output_type": "execute_result",
          "data": {
            "image/png": "[encoded data removed]",
            "text/plain": [
              "<Figure size 288x288 with 1 Axes>"
            ]
          },
          "metadata": {
            "tags": []
          },
          "execution_count": 11
        }
      ]
    },
    {
      "cell_type": "markdown",
      "metadata": {
        "id": "dR9avOfrOnen"
      },
      "source": [
        "The $u2(\\phi, \\lambda) =u3(\\pi/2, \\phi, \\lambda)$ gate has the matrix form\n",
        "\n",
        "$$\n",
        "u2(\\phi, \\lambda) = \n",
        "\\frac{1}{\\sqrt{2}} \\begin{pmatrix}\n",
        "1 & -e^{i\\lambda} \\\\\n",
        "e^{i\\phi} & e^{i(\\phi + \\lambda)}\n",
        "\\end{pmatrix}.\n",
        "$$\n",
        "\n",
        "This is a useful gate as it allows us to create superpositions."
      ]
    },
    {
      "cell_type": "code",
      "metadata": {
        "id": "usVCl-jxOneo"
      },
      "source": [
        ""
      ],
      "execution_count": null,
      "outputs": []
    },
    {
      "cell_type": "markdown",
      "metadata": {
        "id": "-1HoOslCOnep"
      },
      "source": [
        "The $u1(\\lambda)= u3(0, 0, \\lambda)$ gate has the matrix form\n",
        "\n",
        "$$\n",
        "u1(\\lambda) = \n",
        "\\begin{pmatrix}\n",
        "1 & 0 \\\\\n",
        "0 & e^{i \\lambda}\n",
        "\\end{pmatrix},\n",
        "$$\n",
        "\n",
        "which is useful as it allows us to apply a quantum phase."
      ]
    },
    {
      "cell_type": "code",
      "metadata": {
        "id": "bmbL83rlWlQP"
      },
      "source": [
        ""
      ],
      "execution_count": null,
      "outputs": []
    },
    {
      "cell_type": "code",
      "metadata": {
        "id": "Py0wB_0OWQ8k"
      },
      "source": [
        ""
      ],
      "execution_count": null,
      "outputs": []
    },
    {
      "cell_type": "code",
      "metadata": {
        "id": "d-c0-h2eXHu5"
      },
      "source": [
        ""
      ],
      "execution_count": null,
      "outputs": []
    },
    {
      "cell_type": "code",
      "metadata": {
        "id": "zZ6PzwRLXHyD"
      },
      "source": [
        ""
      ],
      "execution_count": null,
      "outputs": []
    },
    {
      "cell_type": "markdown",
      "metadata": {
        "id": "VYwOzlavYRvb"
      },
      "source": [
        "__Pauli Gates__"
      ]
    },
    {
      "cell_type": "code",
      "metadata": {
        "id": "OFU7vDxlHsgY",
        "colab": {
          "base_uri": "https://localhost:8080/",
          "height": 185
        },
        "outputId": "4e1e8051-2284-4ceb-c8c1-8662d640a401"
      },
      "source": [
        "qc = QuantumCircuit(3)\n",
        "qc.id(0)\n",
        "qc.draw('mpl')"
      ],
      "execution_count": null,
      "outputs": [
        {
          "output_type": "execute_result",
          "data": {
            "image/png": "[encoded data removed]",
            "text/plain": [
              "<Figure size 146.797x204.68 with 1 Axes>"
            ]
          },
          "metadata": {
            "tags": []
          },
          "execution_count": 13
        }
      ]
    },
    {
      "cell_type": "code",
      "metadata": {
        "colab": {
          "base_uri": "https://localhost:8080/"
        },
        "id": "LSwLFq_jbpC0",
        "outputId": "22eab6bd-5265-417b-ab6f-c2488f8b2585"
      },
      "source": [
        "job = execute(qc, back_uni)\n",
        "job.result().get_unitary(qc)"
      ],
      "execution_count": null,
      "outputs": [
        {
          "output_type": "execute_result",
          "data": {
            "text/plain": [
              "array([[1.+0.j, 0.+0.j, 0.+0.j, 0.+0.j, 0.+0.j, 0.+0.j, 0.+0.j, 0.+0.j],\n",
              "       [0.+0.j, 1.+0.j, 0.+0.j, 0.+0.j, 0.+0.j, 0.+0.j, 0.+0.j, 0.+0.j],\n",
              "       [0.+0.j, 0.+0.j, 1.+0.j, 0.+0.j, 0.+0.j, 0.+0.j, 0.+0.j, 0.+0.j],\n",
              "       [0.+0.j, 0.+0.j, 0.+0.j, 1.+0.j, 0.+0.j, 0.+0.j, 0.+0.j, 0.+0.j],\n",
              "       [0.+0.j, 0.+0.j, 0.+0.j, 0.+0.j, 1.+0.j, 0.+0.j, 0.+0.j, 0.+0.j],\n",
              "       [0.+0.j, 0.+0.j, 0.+0.j, 0.+0.j, 0.+0.j, 1.+0.j, 0.+0.j, 0.+0.j],\n",
              "       [0.+0.j, 0.+0.j, 0.+0.j, 0.+0.j, 0.+0.j, 0.+0.j, 1.+0.j, 0.+0.j],\n",
              "       [0.+0.j, 0.+0.j, 0.+0.j, 0.+0.j, 0.+0.j, 0.+0.j, 0.+0.j, 1.+0.j]])"
            ]
          },
          "metadata": {
            "tags": []
          },
          "execution_count": 14
        }
      ]
    },
    {
      "cell_type": "markdown",
      "metadata": {
        "id": "0Txso9owXtu0"
      },
      "source": [
        "The bit-flip gate $X$ is defined as:\n",
        "\n",
        "$$\n",
        "X   =  \n",
        "\\begin{pmatrix}\n",
        "0 & 1\\\\\n",
        "1 & 0\n",
        "\\end{pmatrix}= u3(\\pi,0,\\pi)\n",
        "$$"
      ]
    },
    {
      "cell_type": "code",
      "metadata": {
        "id": "PtPnETaIXcHz",
        "colab": {
          "base_uri": "https://localhost:8080/",
          "height": 95
        },
        "outputId": "5d080781-ec1c-4a09-e47f-c5827367961c"
      },
      "source": [
        "qc = QuantumCircuit(1)\n",
        "qc.x(0)\n",
        "qc.draw('mpl')"
      ],
      "execution_count": null,
      "outputs": [
        {
          "output_type": "execute_result",
          "data": {
            "image/png": "[encoded data removed]",
            "text/plain": [
              "<Figure size 133.526x84.28 with 1 Axes>"
            ]
          },
          "metadata": {
            "tags": []
          },
          "execution_count": 15
        }
      ]
    },
    {
      "cell_type": "code",
      "metadata": {
        "colab": {
          "base_uri": "https://localhost:8080/",
          "height": 268
        },
        "id": "AOj8-TMgcHQb",
        "outputId": "ba401c52-dd49-41cc-eb5f-7ecf61ae55fc"
      },
      "source": [
        "job = execute(qc, back_state)\n",
        "state = job.result().get_statevector(qc)\n",
        "plot_bloch_multivector(state)"
      ],
      "execution_count": null,
      "outputs": [
        {
          "output_type": "execute_result",
          "data": {
            "image/png": "[encoded data removed]",
            "text/plain": [
              "<Figure size 288x288 with 1 Axes>"
            ]
          },
          "metadata": {
            "tags": []
          },
          "execution_count": 17
        }
      ]
    },
    {
      "cell_type": "markdown",
      "metadata": {
        "id": "-g4goqfKXwSG"
      },
      "source": [
        "The $Y$ gate is defined as:\n",
        "\n",
        "$$\n",
        "Y  = \n",
        "\\begin{pmatrix}\n",
        "0 & -i\\\\\n",
        "i & 0\n",
        "\\end{pmatrix}=u3(\\pi,\\pi/2,\\pi/2)\n",
        "$$"
      ]
    },
    {
      "cell_type": "code",
      "metadata": {
        "id": "CjhtRFasXcSp",
        "colab": {
          "base_uri": "https://localhost:8080/",
          "height": 95
        },
        "outputId": "f8bb9ac3-31d3-4b44-918a-6b54095ecc52"
      },
      "source": [
        "qc.y(0)\n",
        "qc.draw('mpl')"
      ],
      "execution_count": null,
      "outputs": [
        {
          "output_type": "execute_result",
          "data": {
            "image/png": "[encoded data removed]",
            "text/plain": [
              "<Figure size 314.126x84.28 with 1 Axes>"
            ]
          },
          "metadata": {
            "tags": []
          },
          "execution_count": 20
        }
      ]
    },
    {
      "cell_type": "markdown",
      "metadata": {
        "id": "PZdMYf6gYArz"
      },
      "source": [
        "The phase-flip gate $Z$ is defined as:\n",
        "\n",
        "$$\n",
        "Z = \n",
        "\\begin{pmatrix}\n",
        "1 & 0\\\\\n",
        "0 & -1\n",
        "\\end{pmatrix}=u1(\\pi)\n",
        "$$"
      ]
    },
    {
      "cell_type": "code",
      "metadata": {
        "id": "Bq5GRQZCXcp9"
      },
      "source": [
        ""
      ],
      "execution_count": null,
      "outputs": []
    },
    {
      "cell_type": "markdown",
      "metadata": {
        "id": "3jaLtr-QYIFQ"
      },
      "source": [
        "__Clifford Gates__"
      ]
    },
    {
      "cell_type": "markdown",
      "metadata": {
        "id": "OI-3xEckYvux"
      },
      "source": [
        "Hadamard gate\n",
        "\n",
        "$$\n",
        "H = \n",
        "\\frac{1}{\\sqrt{2}}\n",
        "\\begin{pmatrix}\n",
        "1 & 1\\\\\n",
        "1 & -1\n",
        "\\end{pmatrix}= u2(0,\\pi)\n",
        "$$"
      ]
    },
    {
      "cell_type": "code",
      "metadata": {
        "id": "EvofQe_xYuFm",
        "colab": {
          "base_uri": "https://localhost:8080/",
          "height": 95
        },
        "outputId": "00dc2e90-8b1d-459e-ff9c-d338206676ab"
      },
      "source": [
        "qc = QuantumCircuit(1)\n",
        "qc.h(0)\n",
        "qc.h(0)\n",
        "qc.draw('mpl')"
      ],
      "execution_count": null,
      "outputs": [
        {
          "output_type": "execute_result",
          "data": {
            "image/png": "[encoded data removed]",
            "text/plain": [
              "<Figure size 193.726x84.28 with 1 Axes>"
            ]
          },
          "metadata": {
            "tags": []
          },
          "execution_count": 26
        }
      ]
    },
    {
      "cell_type": "code",
      "metadata": {
        "colab": {
          "base_uri": "https://localhost:8080/"
        },
        "id": "QkQeGxIpdCvU",
        "outputId": "bb0b159d-3a1b-420c-fab5-6c888039e174"
      },
      "source": [
        "job = execute(qc, back_uni)\n",
        "job.result().get_unitary(qc)"
      ],
      "execution_count": null,
      "outputs": [
        {
          "output_type": "execute_result",
          "data": {
            "text/plain": [
              "array([[1.+0.j, 0.+0.j],\n",
              "       [0.+0.j, 1.+0.j]])"
            ]
          },
          "metadata": {
            "tags": []
          },
          "execution_count": 27
        }
      ]
    },
    {
      "cell_type": "code",
      "metadata": {
        "colab": {
          "base_uri": "https://localhost:8080/",
          "height": 268
        },
        "id": "XnMge0R8dKRK",
        "outputId": "eb1b8c0c-da21-4ee2-8c09-5afa4061eed6"
      },
      "source": [
        "job = execute(qc, back_state)\n",
        "state = job.result().get_statevector(qc)\n",
        "plot_bloch_multivector(state)"
      ],
      "execution_count": null,
      "outputs": [
        {
          "output_type": "execute_result",
          "data": {
            "image/png": "[encoded data removed]",
            "text/plain": [
              "<Figure size 288x288 with 1 Axes>"
            ]
          },
          "metadata": {
            "tags": []
          },
          "execution_count": 28
        }
      ]
    },
    {
      "cell_type": "markdown",
      "metadata": {
        "id": "cBBJecL9Y5O6"
      },
      "source": [
        "$S$ (or, $\\sqrt{Z}$ phase) gate\n",
        "\n",
        "$$\n",
        "S = \n",
        "\\begin{pmatrix}\n",
        "1 & 0\\\\\n",
        "0 & i\n",
        "\\end{pmatrix}= u1(\\pi/2)\n",
        "$$"
      ]
    },
    {
      "cell_type": "code",
      "metadata": {
        "id": "T9jaGBBJYuLY",
        "colab": {
          "base_uri": "https://localhost:8080/",
          "height": 95
        },
        "outputId": "b10026e8-a23d-4858-c8d2-8368366fe374"
      },
      "source": [
        "qc.s(0)\n",
        "qc.draw('mpl')"
      ],
      "execution_count": null,
      "outputs": [
        {
          "output_type": "execute_result",
          "data": {
            "image/png": "[encoded data removed]",
            "text/plain": [
              "<Figure size 253.926x84.28 with 1 Axes>"
            ]
          },
          "metadata": {
            "tags": []
          },
          "execution_count": 29
        }
      ]
    },
    {
      "cell_type": "markdown",
      "metadata": {
        "id": "R2JhahA9ZDB2"
      },
      "source": [
        " $S^{\\dagger}$ (or, conjugate of $\\sqrt{Z}$ phase) gate\n",
        "\n",
        "$$\n",
        "S^{\\dagger} = \n",
        "\\begin{pmatrix}\n",
        "1 & 0\\\\\n",
        "0 & -i\n",
        "\\end{pmatrix}= u1(-\\pi/2)\n",
        "$$\n"
      ]
    },
    {
      "cell_type": "code",
      "metadata": {
        "id": "9vzFyy2lN5ed",
        "colab": {
          "base_uri": "https://localhost:8080/",
          "height": 62
        },
        "outputId": "38316f33-b29b-41a8-cc72-49d549c65145"
      },
      "source": [
        "qc.sdg(0)\n",
        "qc.draw()"
      ],
      "execution_count": null,
      "outputs": [
        {
          "output_type": "execute_result",
          "data": {
            "text/html": [
              "<pre style=\"word-wrap: normal;white-space: pre;background: #fff0;line-height: 1.1;font-family: &quot;Courier New&quot;,Courier,monospace\">     ┌───┐┌───┐┌───┐┌─────┐┌─────┐\n",
              "q_0: ┤ H ├┤ H ├┤ S ├┤ SDG ├┤ SDG ├\n",
              "     └───┘└───┘└───┘└─────┘└─────┘</pre>"
            ],
            "text/plain": [
              "     ┌───┐┌───┐┌───┐┌─────┐┌─────┐\n",
              "q_0: ┤ H ├┤ H ├┤ S ├┤ SDG ├┤ SDG ├\n",
              "     └───┘└───┘└───┘└─────┘└─────┘"
            ]
          },
          "metadata": {
            "tags": []
          },
          "execution_count": 31
        }
      ]
    },
    {
      "cell_type": "markdown",
      "metadata": {
        "id": "Qo0jXWacG5YB"
      },
      "source": [
        "* __Example: Bell States__"
      ]
    },
    {
      "cell_type": "code",
      "metadata": {
        "id": "WJhw6D4LG-tT"
      },
      "source": [
        ""
      ],
      "execution_count": null,
      "outputs": []
    },
    {
      "cell_type": "code",
      "metadata": {
        "id": "Rizb_iHEG-_t"
      },
      "source": [
        ""
      ],
      "execution_count": null,
      "outputs": []
    },
    {
      "cell_type": "code",
      "metadata": {
        "id": "Nfxc1UuMYuwq"
      },
      "source": [
        ""
      ],
      "execution_count": null,
      "outputs": []
    },
    {
      "cell_type": "markdown",
      "metadata": {
        "id": "JdhfDBNqJ18-"
      },
      "source": [
        "__$C3$ gates__"
      ]
    },
    {
      "cell_type": "markdown",
      "metadata": {
        "id": "__oFw9Z9Zci1"
      },
      "source": [
        " $T$ (or, $\\sqrt{S}$ phase) gate\n",
        "\n",
        "$$\n",
        "T = \n",
        "\\begin{pmatrix}\n",
        "1 & 0\\\\\n",
        "0 & e^{i \\pi/4}\n",
        "\\end{pmatrix}= u1(\\pi/4) \n",
        "$$"
      ]
    },
    {
      "cell_type": "code",
      "metadata": {
        "id": "_B4FA5MbYuzR",
        "colab": {
          "base_uri": "https://localhost:8080/",
          "height": 62
        },
        "outputId": "134c439a-ecb4-41b8-b1c7-c03c3009d0a5"
      },
      "source": [
        "qc = QuantumCircuit(1)\n",
        "qc.h(0)\n",
        "qc.t(0)\n",
        "qc.draw()"
      ],
      "execution_count": null,
      "outputs": [
        {
          "output_type": "execute_result",
          "data": {
            "text/html": [
              "<pre style=\"word-wrap: normal;white-space: pre;background: #fff0;line-height: 1.1;font-family: &quot;Courier New&quot;,Courier,monospace\">     ┌───┐┌───┐\n",
              "q_0: ┤ H ├┤ T ├\n",
              "     └───┘└───┘</pre>"
            ],
            "text/plain": [
              "     ┌───┐┌───┐\n",
              "q_0: ┤ H ├┤ T ├\n",
              "     └───┘└───┘"
            ]
          },
          "metadata": {
            "tags": []
          },
          "execution_count": 34
        }
      ]
    },
    {
      "cell_type": "code",
      "metadata": {
        "colab": {
          "base_uri": "https://localhost:8080/",
          "height": 268
        },
        "id": "6GPtVETXelEv",
        "outputId": "fa8bd968-1b2c-4d72-ba91-3d6b0d9f4415"
      },
      "source": [
        "job = execute(qc, back_state)\n",
        "state = job.result().get_statevector(qc)\n",
        "plot_bloch_multivector(state)"
      ],
      "execution_count": null,
      "outputs": [
        {
          "output_type": "execute_result",
          "data": {
            "image/png": "[encoded data removed]",
            "text/plain": [
              "<Figure size 288x288 with 1 Axes>"
            ]
          },
          "metadata": {
            "tags": []
          },
          "execution_count": 35
        }
      ]
    },
    {
      "cell_type": "markdown",
      "metadata": {
        "id": "4cnatfGfZw4s"
      },
      "source": [
        "$T^{\\dagger}$ (or, conjugate of $\\sqrt{S}$ phase) gate\n",
        "\n",
        "$$\n",
        "T^{\\dagger} =  \n",
        "\\begin{pmatrix}\n",
        "1 & 0\\\\\n",
        "0 & e^{-i \\pi/4}\n",
        "\\end{pmatrix}= u1(-\\pi/4)\n",
        "$$"
      ]
    },
    {
      "cell_type": "code",
      "metadata": {
        "id": "NZskc58LZ1g5",
        "colab": {
          "base_uri": "https://localhost:8080/",
          "height": 62
        },
        "outputId": "1a52eb83-f27e-4d06-a0dc-ce6834a31c03"
      },
      "source": [
        "qc.tdg(0)\n",
        "qc.draw()"
      ],
      "execution_count": null,
      "outputs": [
        {
          "output_type": "execute_result",
          "data": {
            "text/html": [
              "<pre style=\"word-wrap: normal;white-space: pre;background: #fff0;line-height: 1.1;font-family: &quot;Courier New&quot;,Courier,monospace\">     ┌───┐┌───┐┌─────┐┌─────┐\n",
              "q_0: ┤ H ├┤ T ├┤ TDG ├┤ TDG ├\n",
              "     └───┘└───┘└─────┘└─────┘</pre>"
            ],
            "text/plain": [
              "     ┌───┐┌───┐┌─────┐┌─────┐\n",
              "q_0: ┤ H ├┤ T ├┤ TDG ├┤ TDG ├\n",
              "     └───┘└───┘└─────┘└─────┘"
            ]
          },
          "metadata": {
            "tags": []
          },
          "execution_count": 37
        }
      ]
    },
    {
      "cell_type": "markdown",
      "metadata": {
        "id": "6IsXEy7gaI3m"
      },
      "source": [
        "__Standard Rotations__\n",
        "\n",
        "The standard rotation gates are those that define rotations around the Paulis $P=\\{X,Y,Z\\}$. They are defined as \n",
        "\n",
        "$$ R_P(\\theta) = \\exp(-i \\theta P/2) = \\cos(\\theta/2)I -i \\sin(\\theta/2)P$$"
      ]
    },
    {
      "cell_type": "markdown",
      "metadata": {
        "id": "WUG67OywaLsI"
      },
      "source": [
        "Rotation around X-axis\n",
        "\n",
        "$$\n",
        "R_x(\\theta) = \n",
        "\\begin{pmatrix}\n",
        "\\cos(\\theta/2) & -i\\sin(\\theta/2)\\\\\n",
        "-i\\sin(\\theta/2) & \\cos(\\theta/2)\n",
        "\\end{pmatrix} = u3(\\theta, -\\pi/2,\\pi/2)\n",
        "$$"
      ]
    },
    {
      "cell_type": "code",
      "metadata": {
        "id": "kZU6h3kXZ1yR",
        "colab": {
          "base_uri": "https://localhost:8080/",
          "height": 95
        },
        "outputId": "04340759-9eba-4273-ce1d-356519a80ac7"
      },
      "source": [
        "qc = QuantumCircuit(1)\n",
        "qc.rx(np.pi/2, 0)\n",
        "qc.draw('mpl')"
      ],
      "execution_count": null,
      "outputs": [
        {
          "output_type": "execute_result",
          "data": {
            "image/png": "[encoded data removed]",
            "text/plain": [
              "<Figure size 133.526x84.28 with 1 Axes>"
            ]
          },
          "metadata": {
            "tags": []
          },
          "execution_count": 38
        }
      ]
    },
    {
      "cell_type": "code",
      "metadata": {
        "colab": {
          "base_uri": "https://localhost:8080/"
        },
        "id": "XyBcLSMAfeSz",
        "outputId": "6da12a31-711d-4f73-e6b5-6e9ee7908950"
      },
      "source": [
        "job = execute(qc, back_state)\n",
        "state = job.result().get_statevector(qc)\n",
        "plot_bloch_multivector(state)\n",
        "print(state)"
      ],
      "execution_count": null,
      "outputs": [
        {
          "output_type": "stream",
          "text": [
            "[7.07106781e-01+0.j         4.32978028e-17-0.70710678j]\n"
          ],
          "name": "stdout"
        }
      ]
    },
    {
      "cell_type": "markdown",
      "metadata": {
        "id": "x-s580F8abVh"
      },
      "source": [
        "Rotation around Y-axis\n",
        "\n",
        "$$\n",
        "R_y(\\theta) =\n",
        "\\begin{pmatrix}\n",
        "\\cos(\\theta/2) & - \\sin(\\theta/2)\\\\\n",
        "\\sin(\\theta/2) & \\cos(\\theta/2).\n",
        "\\end{pmatrix} =u3(\\theta,0,0)\n",
        "$$"
      ]
    },
    {
      "cell_type": "code",
      "metadata": {
        "id": "RP75UmFbaXfw"
      },
      "source": [
        ""
      ],
      "execution_count": null,
      "outputs": []
    },
    {
      "cell_type": "markdown",
      "metadata": {
        "id": "KfrWqW8BahzA"
      },
      "source": [
        "Rotation around Z-axis\n",
        "\n",
        "$$\n",
        "R_z(\\phi) = \n",
        "\\begin{pmatrix}\n",
        "e^{-i \\phi/2} & 0 \\\\\n",
        "0 & e^{i \\phi/2}\n",
        "\\end{pmatrix}\\equiv u1(\\phi)\n",
        "$$\n"
      ]
    },
    {
      "cell_type": "code",
      "metadata": {
        "id": "WbPQkwYkIwk7"
      },
      "source": [
        ""
      ],
      "execution_count": null,
      "outputs": []
    },
    {
      "cell_type": "markdown",
      "metadata": {
        "id": "_ZtXJCMwn422"
      },
      "source": [
        "# __Multi Qubit Gates__"
      ]
    },
    {
      "cell_type": "markdown",
      "metadata": {
        "id": "G8ew_11S8Q37"
      },
      "source": [
        "Given two operators $A$ and $B$ that each act on one qubit, the joint operator $A \\otimes B$ acting on two qubits is\n",
        "\n",
        "$$\\begin{equation}\n",
        "\tA\\otimes B = \n",
        "\t\\begin{pmatrix} \n",
        "\t\tA_{00} \\begin{pmatrix} \n",
        "\t\t\tB_{00} & B_{01} \\\\\n",
        "\t\t\tB_{10} & B_{11}\n",
        "\t\t\\end{pmatrix} & A_{01} \t\\begin{pmatrix} \n",
        "\t\t\t\tB_{00} & B_{01} \\\\\n",
        "\t\t\t\tB_{10} & B_{11}\n",
        "\t\t\t\\end{pmatrix} \\\\\n",
        "\t\tA_{10} \t\\begin{pmatrix} \n",
        "\t\t\t\t\tB_{00} & B_{01} \\\\\n",
        "\t\t\t\t\tB_{10} & B_{11}\n",
        "\t\t\t\t\\end{pmatrix} & A_{11} \t\\begin{pmatrix} \n",
        "\t\t\t\t\t\t\tB_{00} & B_{01} \\\\\n",
        "\t\t\t\t\t\t\tB_{10} & B_{11}\n",
        "\t\t\t\t\t\t\\end{pmatrix}\n",
        "\t\\end{pmatrix},\t\t\t\t\t\t\n",
        "\\end{equation}$$"
      ]
    },
    {
      "cell_type": "markdown",
      "metadata": {
        "id": "WVqi7UhYD0_9"
      },
      "source": [
        "Basis vector ordering in Qiskit:\n",
        "\n",
        " if the first qubit is in state  ||0⟩  and second is in state  ||1⟩ , their joint state would be  ||01⟩ . Qiskit uses a slightly different ordering of the qubits, in which the qubits are represented from the most significant bit (MSB) on the left to the least significant bit (LSB) on the right (big-endian). This is similar to bitstring representation on classical computers, and enables easy conversion from bitstrings to integers after measurements are performed. For the example just given, the joint state would be represented as  ||10⟩ \n",
        "\n"
      ]
    },
    {
      "cell_type": "code",
      "metadata": {
        "id": "UCWuZ0R18Rxs"
      },
      "source": [
        ""
      ],
      "execution_count": null,
      "outputs": []
    },
    {
      "cell_type": "markdown",
      "metadata": {
        "id": "2z9nGSORn8hB"
      },
      "source": [
        "**  Two Qubit Gates : \n",
        "- controlled Pauli gates\n",
        "- controlled Hadamard gate\n",
        "- controlled rotation gates\n",
        "- controlled phase gate\n",
        "- controlled u3 gate\n",
        "- swap gate"
      ]
    },
    {
      "cell_type": "markdown",
      "metadata": {
        "id": "JGjbEB_4MDxs"
      },
      "source": [
        "Controlled-X (or, controlled-NOT) gate\n",
        "The controlled-not gate flips the `target` qubit when the control qubit is in the state $\\left|1\\right\\rangle$. If we take the MSB as the control qubit (e.g. `cx(q[1],q[0])`), then the matrix would look like\n",
        "\n",
        "$$\n",
        "C_X = \n",
        "\\begin{pmatrix}\n",
        "1 & 0 & 0 & 0\\\\\n",
        "0 & 1 & 0 & 0\\\\\n",
        "0 & 0 & 0 & 1\\\\\n",
        "0 & 0 & 1 & 0\n",
        "\\end{pmatrix}. \n",
        "$$\n",
        "\n",
        "However, when the LSB is the control qubit, (e.g. `cx(q[0],q[1])`), this gate is equivalent to the following matrix:\n",
        "\n",
        "$$\n",
        "C_X = \n",
        "\\begin{pmatrix}\n",
        "1 & 0 & 0 & 0\\\\\n",
        "0 & 0 & 0 & 1\\\\\n",
        "0 & 0 & 1 & 0\\\\\n",
        "0 & 1 & 0 & 0\n",
        "\\end{pmatrix}. \n",
        "$$"
      ]
    },
    {
      "cell_type": "code",
      "metadata": {
        "id": "GL0OEeWLMcAO",
        "colab": {
          "base_uri": "https://localhost:8080/",
          "height": 140
        },
        "outputId": "1b8b8852-b394-4468-9c9e-58d868e8f148"
      },
      "source": [
        "qc = QuantumCircuit(2)\n",
        "qc.h(0)\n",
        "qc.cx([0],[1])\n",
        "qc.draw('mpl')"
      ],
      "execution_count": null,
      "outputs": [
        {
          "output_type": "execute_result",
          "data": {
            "image/png": "[encoded data removed]",
            "text/plain": [
              "<Figure size 206.852x144.48 with 1 Axes>"
            ]
          },
          "metadata": {
            "tags": []
          },
          "execution_count": 42
        }
      ]
    },
    {
      "cell_type": "code",
      "metadata": {
        "id": "O6DKiSsDMcD7"
      },
      "source": [
        "|00>  H  |0>(|0>+|1>)= |00>+|01>\n",
        "CNOT |00>+|11>\n"
      ],
      "execution_count": null,
      "outputs": []
    },
    {
      "cell_type": "code",
      "metadata": {
        "colab": {
          "base_uri": "https://localhost:8080/"
        },
        "id": "AZ0YO4uShVaE",
        "outputId": "d0c2e44b-e0ac-4474-e76a-422effd63c34"
      },
      "source": [
        "job = execute(qc, back_state)\n",
        "state = job.result().get_statevector(qc)\n",
        "state"
      ],
      "execution_count": null,
      "outputs": [
        {
          "output_type": "execute_result",
          "data": {
            "text/plain": [
              "array([0.70710678+0.j, 0.        +0.j, 0.        +0.j, 0.70710678+0.j])"
            ]
          },
          "metadata": {
            "tags": []
          },
          "execution_count": 49
        }
      ]
    },
    {
      "cell_type": "markdown",
      "metadata": {
        "id": "mNAzQQXWMcYd"
      },
      "source": [
        "Controlled rotation gates\n",
        "\n",
        "#### Controlled rotation around Z-axis\n",
        "\n",
        "Perform rotation around Z-axis on the target qubit if the control qubit (here LSB) is $\\left|1\\right\\rangle$.\n",
        "\n",
        "$$\n",
        "C_{Rz}(\\lambda) = \n",
        "\\begin{pmatrix}\n",
        "1 & 0 & 0 & 0\\\\\n",
        "0 & e^{-i\\lambda/2} & 0 & 0\\\\\n",
        "0 & 0 & 1 & 0\\\\\n",
        "0 & 0 & 0 & e^{i\\lambda/2}\n",
        "\\end{pmatrix}\n",
        "$$"
      ]
    },
    {
      "cell_type": "code",
      "metadata": {
        "id": "0s-BMLz9MsU1",
        "colab": {
          "base_uri": "https://localhost:8080/",
          "height": 140
        },
        "outputId": "91fa020f-ea26-4cd3-85b1-26968a18eee6"
      },
      "source": [
        "qc.crz(np.pi/2, [0],[1])\n",
        "qc.draw('mpl')"
      ],
      "execution_count": null,
      "outputs": [
        {
          "output_type": "execute_result",
          "data": {
            "image/png": "[encoded data removed]",
            "text/plain": [
              "<Figure size 327.252x144.48 with 1 Axes>"
            ]
          },
          "metadata": {
            "tags": []
          },
          "execution_count": 51
        }
      ]
    },
    {
      "cell_type": "markdown",
      "metadata": {
        "id": "FpRYZIwoMsfI"
      },
      "source": [
        "Controlled phase rotation\n",
        "\n",
        "Perform a phase rotation if both qubits are in the $\\left|11\\right\\rangle$ state. The matrix looks the same regardless of whether the MSB or LSB is the control qubit.\n",
        "\n",
        "$$\n",
        "C_{u1}(\\lambda) = \n",
        "\\begin{pmatrix}\n",
        "1 & 0 & 0 & 0\\\\\n",
        "0 & 1 & 0 & 0\\\\\n",
        "0 & 0 & 1 & 0\\\\\n",
        "0 & 0 & 0 & e^{i\\lambda}\n",
        "\\end{pmatrix}\n",
        "$$"
      ]
    },
    {
      "cell_type": "code",
      "metadata": {
        "id": "b-A1C4VpMcNM"
      },
      "source": [
        ""
      ],
      "execution_count": null,
      "outputs": []
    },
    {
      "cell_type": "code",
      "metadata": {
        "id": "jFez1p1sMcRG"
      },
      "source": [
        ""
      ],
      "execution_count": null,
      "outputs": []
    },
    {
      "cell_type": "code",
      "metadata": {
        "id": "K1KqYKOF8ngq"
      },
      "source": [
        ""
      ],
      "execution_count": null,
      "outputs": []
    },
    {
      "cell_type": "code",
      "metadata": {
        "id": "4B0c6eyD8nkX"
      },
      "source": [
        ""
      ],
      "execution_count": null,
      "outputs": []
    },
    {
      "cell_type": "markdown",
      "metadata": {
        "id": "1gKSO6oBHOWp"
      },
      "source": [
        "SWAP gate\n",
        "\n",
        "The SWAP gate exchanges the two qubits. It transforms the basis vectors as\n",
        "\n",
        "$$\\left|00\\right\\rangle \\rightarrow \\left|00\\right\\rangle~,~\\left|01\\right\\rangle \\rightarrow \\left|10\\right\\rangle~,~\\left|10\\right\\rangle \\rightarrow \\left|01\\right\\rangle~,~\\left|11\\right\\rangle \\rightarrow \\left|11\\right\\rangle,$$\n",
        "\n",
        "which gives a matrix representation of the form\n",
        "\n",
        "$$\n",
        "\\mathrm{SWAP} = \n",
        "\\begin{pmatrix}\n",
        "1 & 0 & 0 & 0\\\\\n",
        "0 & 0 & 1 & 0\\\\\n",
        "0 & 1 & 0 & 0\\\\\n",
        "0 & 0 & 0 & 1\n",
        "\\end{pmatrix}.\n",
        "$$"
      ]
    },
    {
      "cell_type": "code",
      "metadata": {
        "id": "jlBttNLn8nvp",
        "colab": {
          "base_uri": "https://localhost:8080/",
          "height": 140
        },
        "outputId": "461e2fc8-5c7a-4480-dd04-5881e726002d"
      },
      "source": [
        "qc= QuantumCircuit(2)\n",
        "qc.swap([0],[1])\n",
        "qc.draw('mpl')"
      ],
      "execution_count": null,
      "outputs": [
        {
          "output_type": "execute_result",
          "data": {
            "image/png": "[encoded data removed]",
            "text/plain": [
              "<Figure size 146.652x144.48 with 1 Axes>"
            ]
          },
          "metadata": {
            "tags": []
          },
          "execution_count": 53
        }
      ]
    },
    {
      "cell_type": "markdown",
      "metadata": {
        "id": "X69zt1la8n86"
      },
      "source": [
        "* __Three Qubit Gates__: \n"
      ]
    },
    {
      "cell_type": "markdown",
      "metadata": {
        "id": "R4eOb0akFpAV"
      },
      "source": [
        "$$\\left|abc\\right\\rangle : \\underset{\\text{qubit 2}}{\\left|a\\right\\rangle}\\otimes \\underset{\\text{qubit 1}}{\\left|b\\right\\rangle}\\otimes \\underset{\\text{qubit 0}}{\\left|c\\right\\rangle}.$$"
      ]
    },
    {
      "cell_type": "markdown",
      "metadata": {
        "id": "z8ShsqV8F0SN"
      },
      "source": [
        "Toffoli gate ($ccx$ gate)\n",
        "\n",
        "The [Toffoli gate](https://en.wikipedia.org/wiki/Quantum_logic_gate#Toffoli_(CCNOT)_gate) flips the third qubit if the first two qubits (LSB) are both $\\left|1\\right\\rangle$:\n",
        "\n",
        "$$\\left|abc\\right\\rangle \\rightarrow \\left|bc\\oplus a\\right\\rangle \\otimes \\left|b\\right\\rangle \\otimes \\left|c\\right\\rangle.$$\n",
        "\n",
        "In matrix form, the Toffoli gate is\n",
        "$$\n",
        "C_{CX} = \n",
        "\\begin{pmatrix}\n",
        "1 & 0 & 0 & 0 & 0 & 0 & 0 & 0\\\\\n",
        "0 & 1 & 0 & 0 & 0 & 0 & 0 & 0\\\\\n",
        "0 & 0 & 1 & 0 & 0 & 0 & 0 & 0\\\\\n",
        "0 & 0 & 0 & 0 & 0 & 0 & 0 & 1\\\\\n",
        "0 & 0 & 0 & 0 & 1 & 0 & 0 & 0\\\\\n",
        "0 & 0 & 0 & 0 & 0 & 1 & 0 & 0\\\\\n",
        "0 & 0 & 0 & 0 & 0 & 0 & 1 & 0\\\\\n",
        "0 & 0 & 0 & 1 & 0 & 0 & 0 & 0\n",
        "\\end{pmatrix}.\n",
        "$$"
      ]
    },
    {
      "cell_type": "code",
      "metadata": {
        "id": "Sb4RlgniOS-0",
        "colab": {
          "base_uri": "https://localhost:8080/",
          "height": 185
        },
        "outputId": "7854a82e-93d1-4a7b-bbee-e271b26dd94b"
      },
      "source": [
        "qc = QuantumCircuit(3)\n",
        "qc.ccx([0],[1],[2])\n",
        "qc.draw('mpl')"
      ],
      "execution_count": null,
      "outputs": [
        {
          "output_type": "execute_result",
          "data": {
            "image/png": "[encoded data removed]",
            "text/plain": [
              "<Figure size 146.797x204.68 with 1 Axes>"
            ]
          },
          "metadata": {
            "tags": []
          },
          "execution_count": 56
        }
      ]
    },
    {
      "cell_type": "markdown",
      "metadata": {
        "id": "onM9l7PYGL-B"
      },
      "source": [
        "Controlled swap gate (Fredkin Gate)\n",
        "\n",
        "The [Fredkin gate](https://en.wikipedia.org/wiki/Quantum_logic_gate#Fredkin_(CSWAP)_gate), or the *controlled swap gate*, exchanges the second and third qubits if the first qubit (LSB) is $\\left|1\\right\\rangle$:\n",
        "\n",
        "$$ \\left|abc\\right\\rangle \\rightarrow \\begin{cases} \\left|bac\\right\\rangle~~\\text{if}~c=1 \\cr \\left|abc\\right\\rangle~~\\text{if}~c=0 \\end{cases}.$$\n",
        "\n",
        "In matrix form, the Fredkin gate is\n",
        "\n",
        "$$\n",
        "C_{\\mathrm{SWAP}} = \n",
        "\\begin{pmatrix}\n",
        "1 & 0 & 0 & 0 & 0 & 0 & 0 & 0\\\\\n",
        "0 & 1 & 0 & 0 & 0 & 0 & 0 & 0\\\\\n",
        "0 & 0 & 1 & 0 & 0 & 0 & 0 & 0\\\\\n",
        "0 & 0 & 0 & 0 & 0 & 1 & 0 & 0\\\\\n",
        "0 & 0 & 0 & 0 & 1 & 0 & 0 & 0\\\\\n",
        "0 & 0 & 0 & 1 & 0 & 0 & 0 & 0\\\\\n",
        "0 & 0 & 0 & 0 & 0 & 0 & 1 & 0\\\\\n",
        "0 & 0 & 0 & 0 & 0 & 0 & 0 & 1\n",
        "\\end{pmatrix}.\n",
        "$$"
      ]
    },
    {
      "cell_type": "code",
      "metadata": {
        "id": "wyUuFJimauR1",
        "colab": {
          "base_uri": "https://localhost:8080/",
          "height": 185
        },
        "outputId": "7a282cbe-5cbb-41d1-a869-81e9145a832d"
      },
      "source": [
        "qc = QuantumCircuit(3)\n",
        "qc.cswap([0],[1],[2])\n",
        "\n",
        "qc.draw('mpl')"
      ],
      "execution_count": null,
      "outputs": [
        {
          "output_type": "execute_result",
          "data": {
            "image/png": "[encoded data removed]",
            "text/plain": [
              "<Figure size 146.797x204.68 with 1 Axes>"
            ]
          },
          "metadata": {
            "tags": []
          },
          "execution_count": 58
        }
      ]
    },
    {
      "cell_type": "code",
      "metadata": {
        "id": "VTGe9_wkauU9"
      },
      "source": [
        ""
      ],
      "execution_count": null,
      "outputs": []
    },
    {
      "cell_type": "code",
      "metadata": {
        "id": "9btCSE5IauYp"
      },
      "source": [
        ""
      ],
      "execution_count": null,
      "outputs": []
    },
    {
      "cell_type": "code",
      "metadata": {
        "id": "YO4d4vpfaupo"
      },
      "source": [
        ""
      ],
      "execution_count": null,
      "outputs": []
    },
    {
      "cell_type": "code",
      "metadata": {
        "id": "LQDe7mwNaut1"
      },
      "source": [
        ""
      ],
      "execution_count": null,
      "outputs": []
    }
  ]
}